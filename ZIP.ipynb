{
  "nbformat": 4,
  "nbformat_minor": 0,
  "metadata": {
    "colab": {
      "name": "ZIP.ipynb",
      "provenance": [],
      "collapsed_sections": [],
      "authorship_tag": "ABX9TyONOX0vb0u00T7bTnYWKL7Q",
      "include_colab_link": true
    },
    "kernelspec": {
      "name": "python3",
      "display_name": "Python 3"
    }
  },
  "cells": [
    {
      "cell_type": "markdown",
      "metadata": {
        "id": "view-in-github",
        "colab_type": "text"
      },
      "source": [
        "<a href=\"https://colab.research.google.com/github/AmmarSahyoun/Colab_Coursera/blob/master/ZIP.ipynb\" target=\"_parent\"><img src=\"https://colab.research.google.com/assets/colab-badge.svg\" alt=\"Open In Colab\"/></a>"
      ]
    },
    {
      "cell_type": "markdown",
      "metadata": {
        "id": "Oq9N19zEd5Gq",
        "colab_type": "text"
      },
      "source": [
        "## ZIP returns zip object contains all objects considering the lowest length object"
      ]
    },
    {
      "cell_type": "code",
      "metadata": {
        "id": "YJoENAhzdQM9",
        "colab_type": "code",
        "colab": {
          "base_uri": "https://localhost:8080/",
          "height": 35
        },
        "outputId": "153e5ecc-3d80-4161-a256-b08bf786e825"
      },
      "source": [
        "l1 = [1,2,4,5]\n",
        "l2 = ['a','b']\n",
        "ul = zip(l1, l2)\n",
        "ul"
      ],
      "execution_count": 22,
      "outputs": [
        {
          "output_type": "execute_result",
          "data": {
            "text/plain": [
              "<zip at 0x7f9fa9f358c8>"
            ]
          },
          "metadata": {
            "tags": []
          },
          "execution_count": 22
        }
      ]
    },
    {
      "cell_type": "code",
      "metadata": {
        "id": "yRsVbhbzdd5t",
        "colab_type": "code",
        "colab": {
          "base_uri": "https://localhost:8080/",
          "height": 52
        },
        "outputId": "024da386-ab41-4b0b-a618-0fc7a77e7b2d"
      },
      "source": [
        "for i in ul:\n",
        "  print(i)"
      ],
      "execution_count": 23,
      "outputs": [
        {
          "output_type": "stream",
          "text": [
            "(1, 'a')\n",
            "(2, 'b')\n"
          ],
          "name": "stdout"
        }
      ]
    },
    {
      "cell_type": "code",
      "metadata": {
        "id": "SJSu_-Msdq6s",
        "colab_type": "code",
        "colab": {
          "base_uri": "https://localhost:8080/",
          "height": 35
        },
        "outputId": "1a11edb1-b9cc-4a27-9cda-ccf27f62bab6"
      },
      "source": [
        "l2 = l2+['Ammar']\n",
        "l2"
      ],
      "execution_count": 24,
      "outputs": [
        {
          "output_type": "execute_result",
          "data": {
            "text/plain": [
              "['a', 'b', 'Ammar']"
            ]
          },
          "metadata": {
            "tags": []
          },
          "execution_count": 24
        }
      ]
    },
    {
      "cell_type": "code",
      "metadata": {
        "id": "zvprqMqcedVM",
        "colab_type": "code",
        "colab": {
          "base_uri": "https://localhost:8080/",
          "height": 69
        },
        "outputId": "6819267f-0431-49f4-c37a-0a8650cadf21"
      },
      "source": [
        "ul = zip(l1,l2)\n",
        "for i in ul:\n",
        "  print(i)"
      ],
      "execution_count": 26,
      "outputs": [
        {
          "output_type": "stream",
          "text": [
            "(1, 'a')\n",
            "(2, 'b')\n",
            "(4, 'Ammar')\n"
          ],
          "name": "stdout"
        }
      ]
    },
    {
      "cell_type": "code",
      "metadata": {
        "id": "8mBh4olber4E",
        "colab_type": "code",
        "colab": {}
      },
      "source": [
        "tuple1 =(\"man\", \"woman\", \"girl\", \"boy\")\n",
        "dict1 = {'name': 'Elderes', 'age': 45, 'country': 'Sweden'}"
      ],
      "execution_count": 27,
      "outputs": []
    },
    {
      "cell_type": "code",
      "metadata": {
        "id": "5VmjQ-P3fqAg",
        "colab_type": "code",
        "colab": {
          "base_uri": "https://localhost:8080/",
          "height": 225
        },
        "outputId": "afcc49db-fbf2-42a4-c92f-9cc9bd46327d"
      },
      "source": [
        "for e, r, t, d in zip(l1,l2, tuple1, dict1):\n",
        "  print('list1 : ', e)\n",
        "  print('list2 : ', r)\n",
        "  print('tuple : ', t)\n",
        "  print('dict_key : ', d, 'value : ',dict1[d])"
      ],
      "execution_count": 33,
      "outputs": [
        {
          "output_type": "stream",
          "text": [
            "list1 :  1\n",
            "list2 :  a\n",
            "tuple :  man\n",
            "dict_key :  name value :  Elderes\n",
            "list1 :  2\n",
            "list2 :  b\n",
            "tuple :  woman\n",
            "dict_key :  age value :  45\n",
            "list1 :  4\n",
            "list2 :  Ammar\n",
            "tuple :  girl\n",
            "dict_key :  country value :  Sweden\n"
          ],
          "name": "stdout"
        }
      ]
    },
    {
      "cell_type": "code",
      "metadata": {
        "id": "ZK669RyJgBHe",
        "colab_type": "code",
        "colab": {}
      },
      "source": [
        ""
      ],
      "execution_count": null,
      "outputs": []
    }
  ]
}