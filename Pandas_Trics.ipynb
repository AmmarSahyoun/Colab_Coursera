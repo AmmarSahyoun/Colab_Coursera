{
  "nbformat": 4,
  "nbformat_minor": 0,
  "metadata": {
    "colab": {
      "name": "Pandas Trics",
      "provenance": [],
      "authorship_tag": "ABX9TyOF9biDKauvzD4BzJ6QREAq",
      "include_colab_link": true
    },
    "kernelspec": {
      "name": "python3",
      "display_name": "Python 3"
    }
  },
  "cells": [
    {
      "cell_type": "markdown",
      "metadata": {
        "id": "view-in-github",
        "colab_type": "text"
      },
      "source": [
        "<a href=\"https://colab.research.google.com/github/AmmarSahyoun/Coursera-projects/blob/master/Pandas_Trics.ipynb\" target=\"_parent\"><img src=\"https://colab.research.google.com/assets/colab-badge.svg\" alt=\"Open In Colab\"/></a>"
      ]
    },
    {
      "cell_type": "code",
      "metadata": {
        "id": "yCw70Tfxaduo",
        "colab_type": "code",
        "colab": {}
      },
      "source": [
        "import pandas as pd\n",
        "import numpy as np"
      ],
      "execution_count": 1,
      "outputs": []
    },
    {
      "cell_type": "code",
      "metadata": {
        "id": "YJcD_I2wat-A",
        "colab_type": "code",
        "colab": {}
      },
      "source": [
        "drinks = pd.read_csv('http://bit.ly/drinksbycountry')\n",
        "movies= pd.read_csv('http://bit.ly/imdbratings')\n",
        "orders = pd.read_csv('http://bit.ly/chiporders', sep='\\t')\n",
        "orders['item_price']= orders.item_price.str.replace('$','').astype('float')\n",
        "stocks=pd.read_csv('http://bit.ly/smallstocks', parse_dates=['Date'])\n",
        "titanic=pd.read_csv('http://bit.ly/kaggletrain')\n",
        "ufo = pd.read_csv('http://bit.ly/uforeports', parse_dates=['Time'])"
      ],
      "execution_count": 49,
      "outputs": []
    },
    {
      "cell_type": "code",
      "metadata": {
        "id": "0R23gV5icEqi",
        "colab_type": "code",
        "colab": {
          "base_uri": "https://localhost:8080/",
          "height": 35
        },
        "outputId": "0ffdcb1f-6db6-4251-c211-76d64be116b9"
      },
      "source": [
        "pd.__version__"
      ],
      "execution_count": 3,
      "outputs": [
        {
          "output_type": "execute_result",
          "data": {
            "application/vnd.google.colaboratory.intrinsic+json": {
              "type": "string"
            },
            "text/plain": [
              "'1.0.5'"
            ]
          },
          "metadata": {
            "tags": []
          },
          "execution_count": 3
        }
      ]
    },
    {
      "cell_type": "code",
      "metadata": {
        "id": "Gdtg3zyqcWpY",
        "colab_type": "code",
        "colab": {
          "base_uri": "https://localhost:8080/",
          "height": 1000
        },
        "outputId": "00668971-5b27-49cb-e154-66f2849dd010"
      },
      "source": [
        "pd.show_versions() # pandas dependencies"
      ],
      "execution_count": 4,
      "outputs": [
        {
          "output_type": "stream",
          "text": [
            "/usr/local/lib/python3.6/dist-packages/psycopg2/__init__.py:144: UserWarning: The psycopg2 wheel package will be renamed from release 2.8; in order to keep installing from binary please use \"pip install psycopg2-binary\" instead. For details see: <http://initd.org/psycopg/docs/install.html#binary-install-from-pypi>.\n",
            "  \"\"\")\n",
            "/usr/local/lib/python3.6/dist-packages/pandas_datareader/compat/__init__.py:7: FutureWarning: pandas.util.testing is deprecated. Use the functions in the public API at pandas.testing instead.\n",
            "  from pandas.util.testing import assert_frame_equal\n"
          ],
          "name": "stderr"
        },
        {
          "output_type": "stream",
          "text": [
            "\n",
            "INSTALLED VERSIONS\n",
            "------------------\n",
            "commit           : None\n",
            "python           : 3.6.9.final.0\n",
            "python-bits      : 64\n",
            "OS               : Linux\n",
            "OS-release       : 4.19.112+\n",
            "machine          : x86_64\n",
            "processor        : x86_64\n",
            "byteorder        : little\n",
            "LC_ALL           : None\n",
            "LANG             : en_US.UTF-8\n",
            "LOCALE           : en_US.UTF-8\n",
            "\n",
            "pandas           : 1.0.5\n",
            "numpy            : 1.18.5\n",
            "pytz             : 2018.9\n",
            "dateutil         : 2.8.1\n",
            "pip              : 19.3.1\n",
            "setuptools       : 50.3.0\n",
            "Cython           : 0.29.21\n",
            "pytest           : 3.6.4\n",
            "hypothesis       : None\n",
            "sphinx           : 1.8.5\n",
            "blosc            : None\n",
            "feather          : 0.4.1\n",
            "xlsxwriter       : None\n",
            "lxml.etree       : 4.2.6\n",
            "html5lib         : 1.0.1\n",
            "pymysql          : None\n",
            "psycopg2         : 2.7.6.1 (dt dec pq3 ext lo64)\n",
            "jinja2           : 2.11.2\n",
            "IPython          : 5.5.0\n",
            "pandas_datareader: 0.8.1\n",
            "bs4              : 4.6.3\n",
            "bottleneck       : 1.3.2\n",
            "fastparquet      : None\n",
            "gcsfs            : None\n",
            "lxml.etree       : 4.2.6\n",
            "matplotlib       : 3.2.2\n",
            "numexpr          : 2.7.1\n",
            "odfpy            : None\n",
            "openpyxl         : 2.5.9\n",
            "pandas_gbq       : 0.11.0\n",
            "pyarrow          : 0.14.1\n",
            "pytables         : None\n",
            "pytest           : 3.6.4\n",
            "pyxlsb           : None\n",
            "s3fs             : None\n",
            "scipy            : 1.4.1\n",
            "sqlalchemy       : 1.3.19\n",
            "tables           : 3.4.4\n",
            "tabulate         : 0.8.7\n",
            "xarray           : 0.15.1\n",
            "xlrd             : 1.1.0\n",
            "xlwt             : 1.3.0\n",
            "xlsxwriter       : None\n",
            "numba            : 0.48.0\n"
          ],
          "name": "stdout"
        }
      ]
    },
    {
      "cell_type": "markdown",
      "metadata": {
        "id": "AUHQyb4FcrS4",
        "colab_type": "text"
      },
      "source": [
        "## Create example dataframe"
      ]
    },
    {
      "cell_type": "code",
      "metadata": {
        "id": "q0M8PS9icbhJ",
        "colab_type": "code",
        "colab": {
          "base_uri": "https://localhost:8080/",
          "height": 110
        },
        "outputId": "61b4a336-dd8e-4762-813a-f6ecbf5e99dd"
      },
      "source": [
        "df = pd.DataFrame({'col one':[100, 200], 'col two': [300, 400]})\n",
        "df"
      ],
      "execution_count": 5,
      "outputs": [
        {
          "output_type": "execute_result",
          "data": {
            "text/html": [
              "<div>\n",
              "<style scoped>\n",
              "    .dataframe tbody tr th:only-of-type {\n",
              "        vertical-align: middle;\n",
              "    }\n",
              "\n",
              "    .dataframe tbody tr th {\n",
              "        vertical-align: top;\n",
              "    }\n",
              "\n",
              "    .dataframe thead th {\n",
              "        text-align: right;\n",
              "    }\n",
              "</style>\n",
              "<table border=\"1\" class=\"dataframe\">\n",
              "  <thead>\n",
              "    <tr style=\"text-align: right;\">\n",
              "      <th></th>\n",
              "      <th>col one</th>\n",
              "      <th>col two</th>\n",
              "    </tr>\n",
              "  </thead>\n",
              "  <tbody>\n",
              "    <tr>\n",
              "      <th>0</th>\n",
              "      <td>100</td>\n",
              "      <td>300</td>\n",
              "    </tr>\n",
              "    <tr>\n",
              "      <th>1</th>\n",
              "      <td>200</td>\n",
              "      <td>400</td>\n",
              "    </tr>\n",
              "  </tbody>\n",
              "</table>\n",
              "</div>"
            ],
            "text/plain": [
              "   col one  col two\n",
              "0      100      300\n",
              "1      200      400"
            ]
          },
          "metadata": {
            "tags": []
          },
          "execution_count": 5
        }
      ]
    },
    {
      "cell_type": "code",
      "metadata": {
        "id": "LNuyKXnBcqqm",
        "colab_type": "code",
        "colab": {
          "base_uri": "https://localhost:8080/",
          "height": 171
        },
        "outputId": "18888824-a062-475f-e101-849ea1364d11"
      },
      "source": [
        "pd.DataFrame(np.random.rand(4,8))"
      ],
      "execution_count": 6,
      "outputs": [
        {
          "output_type": "execute_result",
          "data": {
            "text/html": [
              "<div>\n",
              "<style scoped>\n",
              "    .dataframe tbody tr th:only-of-type {\n",
              "        vertical-align: middle;\n",
              "    }\n",
              "\n",
              "    .dataframe tbody tr th {\n",
              "        vertical-align: top;\n",
              "    }\n",
              "\n",
              "    .dataframe thead th {\n",
              "        text-align: right;\n",
              "    }\n",
              "</style>\n",
              "<table border=\"1\" class=\"dataframe\">\n",
              "  <thead>\n",
              "    <tr style=\"text-align: right;\">\n",
              "      <th></th>\n",
              "      <th>0</th>\n",
              "      <th>1</th>\n",
              "      <th>2</th>\n",
              "      <th>3</th>\n",
              "      <th>4</th>\n",
              "      <th>5</th>\n",
              "      <th>6</th>\n",
              "      <th>7</th>\n",
              "    </tr>\n",
              "  </thead>\n",
              "  <tbody>\n",
              "    <tr>\n",
              "      <th>0</th>\n",
              "      <td>0.072787</td>\n",
              "      <td>0.215662</td>\n",
              "      <td>0.054105</td>\n",
              "      <td>0.571713</td>\n",
              "      <td>0.194982</td>\n",
              "      <td>0.254721</td>\n",
              "      <td>0.638317</td>\n",
              "      <td>0.886334</td>\n",
              "    </tr>\n",
              "    <tr>\n",
              "      <th>1</th>\n",
              "      <td>0.011876</td>\n",
              "      <td>0.041946</td>\n",
              "      <td>0.790119</td>\n",
              "      <td>0.362463</td>\n",
              "      <td>0.682644</td>\n",
              "      <td>0.793794</td>\n",
              "      <td>0.356902</td>\n",
              "      <td>0.789165</td>\n",
              "    </tr>\n",
              "    <tr>\n",
              "      <th>2</th>\n",
              "      <td>0.225955</td>\n",
              "      <td>0.336494</td>\n",
              "      <td>0.602079</td>\n",
              "      <td>0.764447</td>\n",
              "      <td>0.205151</td>\n",
              "      <td>0.337644</td>\n",
              "      <td>0.345871</td>\n",
              "      <td>0.726452</td>\n",
              "    </tr>\n",
              "    <tr>\n",
              "      <th>3</th>\n",
              "      <td>0.113644</td>\n",
              "      <td>0.079094</td>\n",
              "      <td>0.714219</td>\n",
              "      <td>0.334081</td>\n",
              "      <td>0.084879</td>\n",
              "      <td>0.579850</td>\n",
              "      <td>0.693220</td>\n",
              "      <td>0.682561</td>\n",
              "    </tr>\n",
              "  </tbody>\n",
              "</table>\n",
              "</div>"
            ],
            "text/plain": [
              "          0         1         2  ...         5         6         7\n",
              "0  0.072787  0.215662  0.054105  ...  0.254721  0.638317  0.886334\n",
              "1  0.011876  0.041946  0.790119  ...  0.793794  0.356902  0.789165\n",
              "2  0.225955  0.336494  0.602079  ...  0.337644  0.345871  0.726452\n",
              "3  0.113644  0.079094  0.714219  ...  0.579850  0.693220  0.682561\n",
              "\n",
              "[4 rows x 8 columns]"
            ]
          },
          "metadata": {
            "tags": []
          },
          "execution_count": 6
        }
      ]
    },
    {
      "cell_type": "code",
      "metadata": {
        "id": "K-eIMaALdTBZ",
        "colab_type": "code",
        "colab": {
          "base_uri": "https://localhost:8080/",
          "height": 171
        },
        "outputId": "a9d3dc46-4bc3-4745-8275-d2b8ad003eac"
      },
      "source": [
        "pd.DataFrame(np.random.rand(4,8), columns=list('AmmarSAH'))"
      ],
      "execution_count": 7,
      "outputs": [
        {
          "output_type": "execute_result",
          "data": {
            "text/html": [
              "<div>\n",
              "<style scoped>\n",
              "    .dataframe tbody tr th:only-of-type {\n",
              "        vertical-align: middle;\n",
              "    }\n",
              "\n",
              "    .dataframe tbody tr th {\n",
              "        vertical-align: top;\n",
              "    }\n",
              "\n",
              "    .dataframe thead th {\n",
              "        text-align: right;\n",
              "    }\n",
              "</style>\n",
              "<table border=\"1\" class=\"dataframe\">\n",
              "  <thead>\n",
              "    <tr style=\"text-align: right;\">\n",
              "      <th></th>\n",
              "      <th>A</th>\n",
              "      <th>m</th>\n",
              "      <th>m</th>\n",
              "      <th>a</th>\n",
              "      <th>r</th>\n",
              "      <th>S</th>\n",
              "      <th>A</th>\n",
              "      <th>H</th>\n",
              "    </tr>\n",
              "  </thead>\n",
              "  <tbody>\n",
              "    <tr>\n",
              "      <th>0</th>\n",
              "      <td>0.525519</td>\n",
              "      <td>0.320258</td>\n",
              "      <td>0.910416</td>\n",
              "      <td>0.443755</td>\n",
              "      <td>0.222494</td>\n",
              "      <td>0.067075</td>\n",
              "      <td>0.973753</td>\n",
              "      <td>0.332022</td>\n",
              "    </tr>\n",
              "    <tr>\n",
              "      <th>1</th>\n",
              "      <td>0.066115</td>\n",
              "      <td>0.324127</td>\n",
              "      <td>0.738458</td>\n",
              "      <td>0.819931</td>\n",
              "      <td>0.490750</td>\n",
              "      <td>0.287799</td>\n",
              "      <td>0.010987</td>\n",
              "      <td>0.964543</td>\n",
              "    </tr>\n",
              "    <tr>\n",
              "      <th>2</th>\n",
              "      <td>0.363496</td>\n",
              "      <td>0.895145</td>\n",
              "      <td>0.846476</td>\n",
              "      <td>0.366316</td>\n",
              "      <td>0.716250</td>\n",
              "      <td>0.036605</td>\n",
              "      <td>0.282564</td>\n",
              "      <td>0.586090</td>\n",
              "    </tr>\n",
              "    <tr>\n",
              "      <th>3</th>\n",
              "      <td>0.413408</td>\n",
              "      <td>0.542097</td>\n",
              "      <td>0.671473</td>\n",
              "      <td>0.578349</td>\n",
              "      <td>0.455515</td>\n",
              "      <td>0.640565</td>\n",
              "      <td>0.690020</td>\n",
              "      <td>0.175509</td>\n",
              "    </tr>\n",
              "  </tbody>\n",
              "</table>\n",
              "</div>"
            ],
            "text/plain": [
              "          A         m         m  ...         S         A         H\n",
              "0  0.525519  0.320258  0.910416  ...  0.067075  0.973753  0.332022\n",
              "1  0.066115  0.324127  0.738458  ...  0.287799  0.010987  0.964543\n",
              "2  0.363496  0.895145  0.846476  ...  0.036605  0.282564  0.586090\n",
              "3  0.413408  0.542097  0.671473  ...  0.640565  0.690020  0.175509\n",
              "\n",
              "[4 rows x 8 columns]"
            ]
          },
          "metadata": {
            "tags": []
          },
          "execution_count": 7
        }
      ]
    },
    {
      "cell_type": "markdown",
      "metadata": {
        "id": "JfvdSRvsdph3",
        "colab_type": "text"
      },
      "source": [
        "### Rename Column"
      ]
    },
    {
      "cell_type": "code",
      "metadata": {
        "id": "fVF_UTtqdudo",
        "colab_type": "code",
        "colab": {
          "base_uri": "https://localhost:8080/",
          "height": 110
        },
        "outputId": "6d87f9c6-ef5a-4ac1-98e8-04994d04004a"
      },
      "source": [
        "df"
      ],
      "execution_count": 8,
      "outputs": [
        {
          "output_type": "execute_result",
          "data": {
            "text/html": [
              "<div>\n",
              "<style scoped>\n",
              "    .dataframe tbody tr th:only-of-type {\n",
              "        vertical-align: middle;\n",
              "    }\n",
              "\n",
              "    .dataframe tbody tr th {\n",
              "        vertical-align: top;\n",
              "    }\n",
              "\n",
              "    .dataframe thead th {\n",
              "        text-align: right;\n",
              "    }\n",
              "</style>\n",
              "<table border=\"1\" class=\"dataframe\">\n",
              "  <thead>\n",
              "    <tr style=\"text-align: right;\">\n",
              "      <th></th>\n",
              "      <th>col one</th>\n",
              "      <th>col two</th>\n",
              "    </tr>\n",
              "  </thead>\n",
              "  <tbody>\n",
              "    <tr>\n",
              "      <th>0</th>\n",
              "      <td>100</td>\n",
              "      <td>300</td>\n",
              "    </tr>\n",
              "    <tr>\n",
              "      <th>1</th>\n",
              "      <td>200</td>\n",
              "      <td>400</td>\n",
              "    </tr>\n",
              "  </tbody>\n",
              "</table>\n",
              "</div>"
            ],
            "text/plain": [
              "   col one  col two\n",
              "0      100      300\n",
              "1      200      400"
            ]
          },
          "metadata": {
            "tags": []
          },
          "execution_count": 8
        }
      ]
    },
    {
      "cell_type": "code",
      "metadata": {
        "id": "no-5_nyWd0Y5",
        "colab_type": "code",
        "colab": {}
      },
      "source": [
        "df = df.rename({'col one': 'col_one', 'col two':'col_two'}, axis='columns')"
      ],
      "execution_count": 9,
      "outputs": []
    },
    {
      "cell_type": "code",
      "metadata": {
        "id": "z9_FaSg4ekVP",
        "colab_type": "code",
        "colab": {}
      },
      "source": [
        "df.columns= ['col_one', 'col_two']"
      ],
      "execution_count": 10,
      "outputs": []
    },
    {
      "cell_type": "code",
      "metadata": {
        "id": "hQH3c-fqA-rV",
        "colab_type": "code",
        "colab": {}
      },
      "source": [
        "df.columns = df.columns.str.replace(' ', '_')"
      ],
      "execution_count": 11,
      "outputs": []
    },
    {
      "cell_type": "code",
      "metadata": {
        "id": "mMU3g2EreypX",
        "colab_type": "code",
        "colab": {
          "base_uri": "https://localhost:8080/",
          "height": 110
        },
        "outputId": "238fc4e3-9b81-43c1-a11b-e3a01727438c"
      },
      "source": [
        "df"
      ],
      "execution_count": 12,
      "outputs": [
        {
          "output_type": "execute_result",
          "data": {
            "text/html": [
              "<div>\n",
              "<style scoped>\n",
              "    .dataframe tbody tr th:only-of-type {\n",
              "        vertical-align: middle;\n",
              "    }\n",
              "\n",
              "    .dataframe tbody tr th {\n",
              "        vertical-align: top;\n",
              "    }\n",
              "\n",
              "    .dataframe thead th {\n",
              "        text-align: right;\n",
              "    }\n",
              "</style>\n",
              "<table border=\"1\" class=\"dataframe\">\n",
              "  <thead>\n",
              "    <tr style=\"text-align: right;\">\n",
              "      <th></th>\n",
              "      <th>col_one</th>\n",
              "      <th>col_two</th>\n",
              "    </tr>\n",
              "  </thead>\n",
              "  <tbody>\n",
              "    <tr>\n",
              "      <th>0</th>\n",
              "      <td>100</td>\n",
              "      <td>300</td>\n",
              "    </tr>\n",
              "    <tr>\n",
              "      <th>1</th>\n",
              "      <td>200</td>\n",
              "      <td>400</td>\n",
              "    </tr>\n",
              "  </tbody>\n",
              "</table>\n",
              "</div>"
            ],
            "text/plain": [
              "   col_one  col_two\n",
              "0      100      300\n",
              "1      200      400"
            ]
          },
          "metadata": {
            "tags": []
          },
          "execution_count": 12
        }
      ]
    },
    {
      "cell_type": "code",
      "metadata": {
        "id": "ytxxSTt0BSbI",
        "colab_type": "code",
        "colab": {
          "base_uri": "https://localhost:8080/",
          "height": 110
        },
        "outputId": "b5998012-aeb8-4324-9e3b-c3b9de9ac376"
      },
      "source": [
        "df.add_prefix('X_')"
      ],
      "execution_count": 13,
      "outputs": [
        {
          "output_type": "execute_result",
          "data": {
            "text/html": [
              "<div>\n",
              "<style scoped>\n",
              "    .dataframe tbody tr th:only-of-type {\n",
              "        vertical-align: middle;\n",
              "    }\n",
              "\n",
              "    .dataframe tbody tr th {\n",
              "        vertical-align: top;\n",
              "    }\n",
              "\n",
              "    .dataframe thead th {\n",
              "        text-align: right;\n",
              "    }\n",
              "</style>\n",
              "<table border=\"1\" class=\"dataframe\">\n",
              "  <thead>\n",
              "    <tr style=\"text-align: right;\">\n",
              "      <th></th>\n",
              "      <th>X_col_one</th>\n",
              "      <th>X_col_two</th>\n",
              "    </tr>\n",
              "  </thead>\n",
              "  <tbody>\n",
              "    <tr>\n",
              "      <th>0</th>\n",
              "      <td>100</td>\n",
              "      <td>300</td>\n",
              "    </tr>\n",
              "    <tr>\n",
              "      <th>1</th>\n",
              "      <td>200</td>\n",
              "      <td>400</td>\n",
              "    </tr>\n",
              "  </tbody>\n",
              "</table>\n",
              "</div>"
            ],
            "text/plain": [
              "   X_col_one  X_col_two\n",
              "0        100        300\n",
              "1        200        400"
            ]
          },
          "metadata": {
            "tags": []
          },
          "execution_count": 13
        }
      ]
    },
    {
      "cell_type": "code",
      "metadata": {
        "id": "hCY3UkZPBsHb",
        "colab_type": "code",
        "colab": {
          "base_uri": "https://localhost:8080/",
          "height": 110
        },
        "outputId": "319f0150-6574-4520-ed2a-c770818083d9"
      },
      "source": [
        "df.add_suffix('X_')"
      ],
      "execution_count": 14,
      "outputs": [
        {
          "output_type": "execute_result",
          "data": {
            "text/html": [
              "<div>\n",
              "<style scoped>\n",
              "    .dataframe tbody tr th:only-of-type {\n",
              "        vertical-align: middle;\n",
              "    }\n",
              "\n",
              "    .dataframe tbody tr th {\n",
              "        vertical-align: top;\n",
              "    }\n",
              "\n",
              "    .dataframe thead th {\n",
              "        text-align: right;\n",
              "    }\n",
              "</style>\n",
              "<table border=\"1\" class=\"dataframe\">\n",
              "  <thead>\n",
              "    <tr style=\"text-align: right;\">\n",
              "      <th></th>\n",
              "      <th>col_oneX_</th>\n",
              "      <th>col_twoX_</th>\n",
              "    </tr>\n",
              "  </thead>\n",
              "  <tbody>\n",
              "    <tr>\n",
              "      <th>0</th>\n",
              "      <td>100</td>\n",
              "      <td>300</td>\n",
              "    </tr>\n",
              "    <tr>\n",
              "      <th>1</th>\n",
              "      <td>200</td>\n",
              "      <td>400</td>\n",
              "    </tr>\n",
              "  </tbody>\n",
              "</table>\n",
              "</div>"
            ],
            "text/plain": [
              "   col_oneX_  col_twoX_\n",
              "0        100        300\n",
              "1        200        400"
            ]
          },
          "metadata": {
            "tags": []
          },
          "execution_count": 14
        }
      ]
    },
    {
      "cell_type": "markdown",
      "metadata": {
        "id": "9xRAShTWB3FE",
        "colab_type": "text"
      },
      "source": [
        "#### Reverse Row order"
      ]
    },
    {
      "cell_type": "code",
      "metadata": {
        "id": "qaMDroC4By8n",
        "colab_type": "code",
        "colab": {
          "base_uri": "https://localhost:8080/",
          "height": 202
        },
        "outputId": "1bdd1569-b4ec-496d-f356-8b2866a5019f"
      },
      "source": [
        "drinks.head()"
      ],
      "execution_count": 15,
      "outputs": [
        {
          "output_type": "execute_result",
          "data": {
            "text/html": [
              "<div>\n",
              "<style scoped>\n",
              "    .dataframe tbody tr th:only-of-type {\n",
              "        vertical-align: middle;\n",
              "    }\n",
              "\n",
              "    .dataframe tbody tr th {\n",
              "        vertical-align: top;\n",
              "    }\n",
              "\n",
              "    .dataframe thead th {\n",
              "        text-align: right;\n",
              "    }\n",
              "</style>\n",
              "<table border=\"1\" class=\"dataframe\">\n",
              "  <thead>\n",
              "    <tr style=\"text-align: right;\">\n",
              "      <th></th>\n",
              "      <th>country</th>\n",
              "      <th>beer_servings</th>\n",
              "      <th>spirit_servings</th>\n",
              "      <th>wine_servings</th>\n",
              "      <th>total_litres_of_pure_alcohol</th>\n",
              "      <th>continent</th>\n",
              "    </tr>\n",
              "  </thead>\n",
              "  <tbody>\n",
              "    <tr>\n",
              "      <th>0</th>\n",
              "      <td>Afghanistan</td>\n",
              "      <td>0</td>\n",
              "      <td>0</td>\n",
              "      <td>0</td>\n",
              "      <td>0.0</td>\n",
              "      <td>Asia</td>\n",
              "    </tr>\n",
              "    <tr>\n",
              "      <th>1</th>\n",
              "      <td>Albania</td>\n",
              "      <td>89</td>\n",
              "      <td>132</td>\n",
              "      <td>54</td>\n",
              "      <td>4.9</td>\n",
              "      <td>Europe</td>\n",
              "    </tr>\n",
              "    <tr>\n",
              "      <th>2</th>\n",
              "      <td>Algeria</td>\n",
              "      <td>25</td>\n",
              "      <td>0</td>\n",
              "      <td>14</td>\n",
              "      <td>0.7</td>\n",
              "      <td>Africa</td>\n",
              "    </tr>\n",
              "    <tr>\n",
              "      <th>3</th>\n",
              "      <td>Andorra</td>\n",
              "      <td>245</td>\n",
              "      <td>138</td>\n",
              "      <td>312</td>\n",
              "      <td>12.4</td>\n",
              "      <td>Europe</td>\n",
              "    </tr>\n",
              "    <tr>\n",
              "      <th>4</th>\n",
              "      <td>Angola</td>\n",
              "      <td>217</td>\n",
              "      <td>57</td>\n",
              "      <td>45</td>\n",
              "      <td>5.9</td>\n",
              "      <td>Africa</td>\n",
              "    </tr>\n",
              "  </tbody>\n",
              "</table>\n",
              "</div>"
            ],
            "text/plain": [
              "       country  beer_servings  ...  total_litres_of_pure_alcohol  continent\n",
              "0  Afghanistan              0  ...                           0.0       Asia\n",
              "1      Albania             89  ...                           4.9     Europe\n",
              "2      Algeria             25  ...                           0.7     Africa\n",
              "3      Andorra            245  ...                          12.4     Europe\n",
              "4       Angola            217  ...                           5.9     Africa\n",
              "\n",
              "[5 rows x 6 columns]"
            ]
          },
          "metadata": {
            "tags": []
          },
          "execution_count": 15
        }
      ]
    },
    {
      "cell_type": "code",
      "metadata": {
        "id": "BX-XlIdmB7FI",
        "colab_type": "code",
        "colab": {
          "base_uri": "https://localhost:8080/",
          "height": 202
        },
        "outputId": "046f2e2e-16a0-46ee-eb4f-aa52fd563db0"
      },
      "source": [
        "drinks.loc[::-1].head()"
      ],
      "execution_count": 16,
      "outputs": [
        {
          "output_type": "execute_result",
          "data": {
            "text/html": [
              "<div>\n",
              "<style scoped>\n",
              "    .dataframe tbody tr th:only-of-type {\n",
              "        vertical-align: middle;\n",
              "    }\n",
              "\n",
              "    .dataframe tbody tr th {\n",
              "        vertical-align: top;\n",
              "    }\n",
              "\n",
              "    .dataframe thead th {\n",
              "        text-align: right;\n",
              "    }\n",
              "</style>\n",
              "<table border=\"1\" class=\"dataframe\">\n",
              "  <thead>\n",
              "    <tr style=\"text-align: right;\">\n",
              "      <th></th>\n",
              "      <th>country</th>\n",
              "      <th>beer_servings</th>\n",
              "      <th>spirit_servings</th>\n",
              "      <th>wine_servings</th>\n",
              "      <th>total_litres_of_pure_alcohol</th>\n",
              "      <th>continent</th>\n",
              "    </tr>\n",
              "  </thead>\n",
              "  <tbody>\n",
              "    <tr>\n",
              "      <th>192</th>\n",
              "      <td>Zimbabwe</td>\n",
              "      <td>64</td>\n",
              "      <td>18</td>\n",
              "      <td>4</td>\n",
              "      <td>4.7</td>\n",
              "      <td>Africa</td>\n",
              "    </tr>\n",
              "    <tr>\n",
              "      <th>191</th>\n",
              "      <td>Zambia</td>\n",
              "      <td>32</td>\n",
              "      <td>19</td>\n",
              "      <td>4</td>\n",
              "      <td>2.5</td>\n",
              "      <td>Africa</td>\n",
              "    </tr>\n",
              "    <tr>\n",
              "      <th>190</th>\n",
              "      <td>Yemen</td>\n",
              "      <td>6</td>\n",
              "      <td>0</td>\n",
              "      <td>0</td>\n",
              "      <td>0.1</td>\n",
              "      <td>Asia</td>\n",
              "    </tr>\n",
              "    <tr>\n",
              "      <th>189</th>\n",
              "      <td>Vietnam</td>\n",
              "      <td>111</td>\n",
              "      <td>2</td>\n",
              "      <td>1</td>\n",
              "      <td>2.0</td>\n",
              "      <td>Asia</td>\n",
              "    </tr>\n",
              "    <tr>\n",
              "      <th>188</th>\n",
              "      <td>Venezuela</td>\n",
              "      <td>333</td>\n",
              "      <td>100</td>\n",
              "      <td>3</td>\n",
              "      <td>7.7</td>\n",
              "      <td>South America</td>\n",
              "    </tr>\n",
              "  </tbody>\n",
              "</table>\n",
              "</div>"
            ],
            "text/plain": [
              "       country  beer_servings  ...  total_litres_of_pure_alcohol      continent\n",
              "192   Zimbabwe             64  ...                           4.7         Africa\n",
              "191     Zambia             32  ...                           2.5         Africa\n",
              "190      Yemen              6  ...                           0.1           Asia\n",
              "189    Vietnam            111  ...                           2.0           Asia\n",
              "188  Venezuela            333  ...                           7.7  South America\n",
              "\n",
              "[5 rows x 6 columns]"
            ]
          },
          "metadata": {
            "tags": []
          },
          "execution_count": 16
        }
      ]
    },
    {
      "cell_type": "code",
      "metadata": {
        "id": "IaWfZW18COHQ",
        "colab_type": "code",
        "colab": {
          "base_uri": "https://localhost:8080/",
          "height": 202
        },
        "outputId": "29badcf3-003d-45b8-905d-dc514e71b0e0"
      },
      "source": [
        "drinks.loc[::-1].tail()"
      ],
      "execution_count": 17,
      "outputs": [
        {
          "output_type": "execute_result",
          "data": {
            "text/html": [
              "<div>\n",
              "<style scoped>\n",
              "    .dataframe tbody tr th:only-of-type {\n",
              "        vertical-align: middle;\n",
              "    }\n",
              "\n",
              "    .dataframe tbody tr th {\n",
              "        vertical-align: top;\n",
              "    }\n",
              "\n",
              "    .dataframe thead th {\n",
              "        text-align: right;\n",
              "    }\n",
              "</style>\n",
              "<table border=\"1\" class=\"dataframe\">\n",
              "  <thead>\n",
              "    <tr style=\"text-align: right;\">\n",
              "      <th></th>\n",
              "      <th>country</th>\n",
              "      <th>beer_servings</th>\n",
              "      <th>spirit_servings</th>\n",
              "      <th>wine_servings</th>\n",
              "      <th>total_litres_of_pure_alcohol</th>\n",
              "      <th>continent</th>\n",
              "    </tr>\n",
              "  </thead>\n",
              "  <tbody>\n",
              "    <tr>\n",
              "      <th>4</th>\n",
              "      <td>Angola</td>\n",
              "      <td>217</td>\n",
              "      <td>57</td>\n",
              "      <td>45</td>\n",
              "      <td>5.9</td>\n",
              "      <td>Africa</td>\n",
              "    </tr>\n",
              "    <tr>\n",
              "      <th>3</th>\n",
              "      <td>Andorra</td>\n",
              "      <td>245</td>\n",
              "      <td>138</td>\n",
              "      <td>312</td>\n",
              "      <td>12.4</td>\n",
              "      <td>Europe</td>\n",
              "    </tr>\n",
              "    <tr>\n",
              "      <th>2</th>\n",
              "      <td>Algeria</td>\n",
              "      <td>25</td>\n",
              "      <td>0</td>\n",
              "      <td>14</td>\n",
              "      <td>0.7</td>\n",
              "      <td>Africa</td>\n",
              "    </tr>\n",
              "    <tr>\n",
              "      <th>1</th>\n",
              "      <td>Albania</td>\n",
              "      <td>89</td>\n",
              "      <td>132</td>\n",
              "      <td>54</td>\n",
              "      <td>4.9</td>\n",
              "      <td>Europe</td>\n",
              "    </tr>\n",
              "    <tr>\n",
              "      <th>0</th>\n",
              "      <td>Afghanistan</td>\n",
              "      <td>0</td>\n",
              "      <td>0</td>\n",
              "      <td>0</td>\n",
              "      <td>0.0</td>\n",
              "      <td>Asia</td>\n",
              "    </tr>\n",
              "  </tbody>\n",
              "</table>\n",
              "</div>"
            ],
            "text/plain": [
              "       country  beer_servings  ...  total_litres_of_pure_alcohol  continent\n",
              "4       Angola            217  ...                           5.9     Africa\n",
              "3      Andorra            245  ...                          12.4     Europe\n",
              "2      Algeria             25  ...                           0.7     Africa\n",
              "1      Albania             89  ...                           4.9     Europe\n",
              "0  Afghanistan              0  ...                           0.0       Asia\n",
              "\n",
              "[5 rows x 6 columns]"
            ]
          },
          "metadata": {
            "tags": []
          },
          "execution_count": 17
        }
      ]
    },
    {
      "cell_type": "code",
      "metadata": {
        "id": "Rx42s33H-67s",
        "colab_type": "code",
        "colab": {
          "base_uri": "https://localhost:8080/",
          "height": 202
        },
        "outputId": "3dc7241b-85f0-4443-c559-824f7ae5bdc9"
      },
      "source": [
        "drinks.loc[::-1].reset_index(drop=True).head() # the rows in reverse order but the index is reset"
      ],
      "execution_count": 18,
      "outputs": [
        {
          "output_type": "execute_result",
          "data": {
            "text/html": [
              "<div>\n",
              "<style scoped>\n",
              "    .dataframe tbody tr th:only-of-type {\n",
              "        vertical-align: middle;\n",
              "    }\n",
              "\n",
              "    .dataframe tbody tr th {\n",
              "        vertical-align: top;\n",
              "    }\n",
              "\n",
              "    .dataframe thead th {\n",
              "        text-align: right;\n",
              "    }\n",
              "</style>\n",
              "<table border=\"1\" class=\"dataframe\">\n",
              "  <thead>\n",
              "    <tr style=\"text-align: right;\">\n",
              "      <th></th>\n",
              "      <th>country</th>\n",
              "      <th>beer_servings</th>\n",
              "      <th>spirit_servings</th>\n",
              "      <th>wine_servings</th>\n",
              "      <th>total_litres_of_pure_alcohol</th>\n",
              "      <th>continent</th>\n",
              "    </tr>\n",
              "  </thead>\n",
              "  <tbody>\n",
              "    <tr>\n",
              "      <th>0</th>\n",
              "      <td>Zimbabwe</td>\n",
              "      <td>64</td>\n",
              "      <td>18</td>\n",
              "      <td>4</td>\n",
              "      <td>4.7</td>\n",
              "      <td>Africa</td>\n",
              "    </tr>\n",
              "    <tr>\n",
              "      <th>1</th>\n",
              "      <td>Zambia</td>\n",
              "      <td>32</td>\n",
              "      <td>19</td>\n",
              "      <td>4</td>\n",
              "      <td>2.5</td>\n",
              "      <td>Africa</td>\n",
              "    </tr>\n",
              "    <tr>\n",
              "      <th>2</th>\n",
              "      <td>Yemen</td>\n",
              "      <td>6</td>\n",
              "      <td>0</td>\n",
              "      <td>0</td>\n",
              "      <td>0.1</td>\n",
              "      <td>Asia</td>\n",
              "    </tr>\n",
              "    <tr>\n",
              "      <th>3</th>\n",
              "      <td>Vietnam</td>\n",
              "      <td>111</td>\n",
              "      <td>2</td>\n",
              "      <td>1</td>\n",
              "      <td>2.0</td>\n",
              "      <td>Asia</td>\n",
              "    </tr>\n",
              "    <tr>\n",
              "      <th>4</th>\n",
              "      <td>Venezuela</td>\n",
              "      <td>333</td>\n",
              "      <td>100</td>\n",
              "      <td>3</td>\n",
              "      <td>7.7</td>\n",
              "      <td>South America</td>\n",
              "    </tr>\n",
              "  </tbody>\n",
              "</table>\n",
              "</div>"
            ],
            "text/plain": [
              "     country  beer_servings  ...  total_litres_of_pure_alcohol      continent\n",
              "0   Zimbabwe             64  ...                           4.7         Africa\n",
              "1     Zambia             32  ...                           2.5         Africa\n",
              "2      Yemen              6  ...                           0.1           Asia\n",
              "3    Vietnam            111  ...                           2.0           Asia\n",
              "4  Venezuela            333  ...                           7.7  South America\n",
              "\n",
              "[5 rows x 6 columns]"
            ]
          },
          "metadata": {
            "tags": []
          },
          "execution_count": 18
        }
      ]
    },
    {
      "cell_type": "markdown",
      "metadata": {
        "id": "vJ-ghNmo_X8x",
        "colab_type": "text"
      },
      "source": [
        "\n",
        "### Reverse Column Order"
      ]
    },
    {
      "cell_type": "code",
      "metadata": {
        "id": "nCcBFiAg_RYp",
        "colab_type": "code",
        "colab": {
          "base_uri": "https://localhost:8080/",
          "height": 202
        },
        "outputId": "5a9bc923-1c11-4c8f-9cf9-e02584b4425f"
      },
      "source": [
        "drinks.loc[:,::-1].head()"
      ],
      "execution_count": 19,
      "outputs": [
        {
          "output_type": "execute_result",
          "data": {
            "text/html": [
              "<div>\n",
              "<style scoped>\n",
              "    .dataframe tbody tr th:only-of-type {\n",
              "        vertical-align: middle;\n",
              "    }\n",
              "\n",
              "    .dataframe tbody tr th {\n",
              "        vertical-align: top;\n",
              "    }\n",
              "\n",
              "    .dataframe thead th {\n",
              "        text-align: right;\n",
              "    }\n",
              "</style>\n",
              "<table border=\"1\" class=\"dataframe\">\n",
              "  <thead>\n",
              "    <tr style=\"text-align: right;\">\n",
              "      <th></th>\n",
              "      <th>continent</th>\n",
              "      <th>total_litres_of_pure_alcohol</th>\n",
              "      <th>wine_servings</th>\n",
              "      <th>spirit_servings</th>\n",
              "      <th>beer_servings</th>\n",
              "      <th>country</th>\n",
              "    </tr>\n",
              "  </thead>\n",
              "  <tbody>\n",
              "    <tr>\n",
              "      <th>0</th>\n",
              "      <td>Asia</td>\n",
              "      <td>0.0</td>\n",
              "      <td>0</td>\n",
              "      <td>0</td>\n",
              "      <td>0</td>\n",
              "      <td>Afghanistan</td>\n",
              "    </tr>\n",
              "    <tr>\n",
              "      <th>1</th>\n",
              "      <td>Europe</td>\n",
              "      <td>4.9</td>\n",
              "      <td>54</td>\n",
              "      <td>132</td>\n",
              "      <td>89</td>\n",
              "      <td>Albania</td>\n",
              "    </tr>\n",
              "    <tr>\n",
              "      <th>2</th>\n",
              "      <td>Africa</td>\n",
              "      <td>0.7</td>\n",
              "      <td>14</td>\n",
              "      <td>0</td>\n",
              "      <td>25</td>\n",
              "      <td>Algeria</td>\n",
              "    </tr>\n",
              "    <tr>\n",
              "      <th>3</th>\n",
              "      <td>Europe</td>\n",
              "      <td>12.4</td>\n",
              "      <td>312</td>\n",
              "      <td>138</td>\n",
              "      <td>245</td>\n",
              "      <td>Andorra</td>\n",
              "    </tr>\n",
              "    <tr>\n",
              "      <th>4</th>\n",
              "      <td>Africa</td>\n",
              "      <td>5.9</td>\n",
              "      <td>45</td>\n",
              "      <td>57</td>\n",
              "      <td>217</td>\n",
              "      <td>Angola</td>\n",
              "    </tr>\n",
              "  </tbody>\n",
              "</table>\n",
              "</div>"
            ],
            "text/plain": [
              "  continent  total_litres_of_pure_alcohol  ...  beer_servings      country\n",
              "0      Asia                           0.0  ...              0  Afghanistan\n",
              "1    Europe                           4.9  ...             89      Albania\n",
              "2    Africa                           0.7  ...             25      Algeria\n",
              "3    Europe                          12.4  ...            245      Andorra\n",
              "4    Africa                           5.9  ...            217       Angola\n",
              "\n",
              "[5 rows x 6 columns]"
            ]
          },
          "metadata": {
            "tags": []
          },
          "execution_count": 19
        }
      ]
    },
    {
      "cell_type": "markdown",
      "metadata": {
        "id": "RzPTgVZl_nDa",
        "colab_type": "text"
      },
      "source": [
        "\n",
        "### Select columns by data type"
      ]
    },
    {
      "cell_type": "code",
      "metadata": {
        "id": "i841SzgL_reQ",
        "colab_type": "code",
        "colab": {
          "base_uri": "https://localhost:8080/",
          "height": 139
        },
        "outputId": "cb8cfcbd-11de-432d-a9c7-149f90f77a35"
      },
      "source": [
        "drinks.dtypes"
      ],
      "execution_count": 20,
      "outputs": [
        {
          "output_type": "execute_result",
          "data": {
            "text/plain": [
              "country                          object\n",
              "beer_servings                     int64\n",
              "spirit_servings                   int64\n",
              "wine_servings                     int64\n",
              "total_litres_of_pure_alcohol    float64\n",
              "continent                        object\n",
              "dtype: object"
            ]
          },
          "metadata": {
            "tags": []
          },
          "execution_count": 20
        }
      ]
    },
    {
      "cell_type": "code",
      "metadata": {
        "id": "yx_Ap7rb_vcQ",
        "colab_type": "code",
        "colab": {
          "base_uri": "https://localhost:8080/",
          "height": 202
        },
        "outputId": "b79bb8c4-d707-43a3-c119-a5e85d0a8070"
      },
      "source": [
        "drinks.select_dtypes(include='object').head()"
      ],
      "execution_count": 21,
      "outputs": [
        {
          "output_type": "execute_result",
          "data": {
            "text/html": [
              "<div>\n",
              "<style scoped>\n",
              "    .dataframe tbody tr th:only-of-type {\n",
              "        vertical-align: middle;\n",
              "    }\n",
              "\n",
              "    .dataframe tbody tr th {\n",
              "        vertical-align: top;\n",
              "    }\n",
              "\n",
              "    .dataframe thead th {\n",
              "        text-align: right;\n",
              "    }\n",
              "</style>\n",
              "<table border=\"1\" class=\"dataframe\">\n",
              "  <thead>\n",
              "    <tr style=\"text-align: right;\">\n",
              "      <th></th>\n",
              "      <th>country</th>\n",
              "      <th>continent</th>\n",
              "    </tr>\n",
              "  </thead>\n",
              "  <tbody>\n",
              "    <tr>\n",
              "      <th>0</th>\n",
              "      <td>Afghanistan</td>\n",
              "      <td>Asia</td>\n",
              "    </tr>\n",
              "    <tr>\n",
              "      <th>1</th>\n",
              "      <td>Albania</td>\n",
              "      <td>Europe</td>\n",
              "    </tr>\n",
              "    <tr>\n",
              "      <th>2</th>\n",
              "      <td>Algeria</td>\n",
              "      <td>Africa</td>\n",
              "    </tr>\n",
              "    <tr>\n",
              "      <th>3</th>\n",
              "      <td>Andorra</td>\n",
              "      <td>Europe</td>\n",
              "    </tr>\n",
              "    <tr>\n",
              "      <th>4</th>\n",
              "      <td>Angola</td>\n",
              "      <td>Africa</td>\n",
              "    </tr>\n",
              "  </tbody>\n",
              "</table>\n",
              "</div>"
            ],
            "text/plain": [
              "       country continent\n",
              "0  Afghanistan      Asia\n",
              "1      Albania    Europe\n",
              "2      Algeria    Africa\n",
              "3      Andorra    Europe\n",
              "4       Angola    Africa"
            ]
          },
          "metadata": {
            "tags": []
          },
          "execution_count": 21
        }
      ]
    },
    {
      "cell_type": "code",
      "metadata": {
        "id": "3QasPbi5_-Zh",
        "colab_type": "code",
        "colab": {
          "base_uri": "https://localhost:8080/",
          "height": 202
        },
        "outputId": "10e05cbd-508c-42c3-a362-ecfbe0b35351"
      },
      "source": [
        "drinks.select_dtypes(include=['number', 'object', 'category', 'datetime']).head()"
      ],
      "execution_count": 24,
      "outputs": [
        {
          "output_type": "execute_result",
          "data": {
            "text/html": [
              "<div>\n",
              "<style scoped>\n",
              "    .dataframe tbody tr th:only-of-type {\n",
              "        vertical-align: middle;\n",
              "    }\n",
              "\n",
              "    .dataframe tbody tr th {\n",
              "        vertical-align: top;\n",
              "    }\n",
              "\n",
              "    .dataframe thead th {\n",
              "        text-align: right;\n",
              "    }\n",
              "</style>\n",
              "<table border=\"1\" class=\"dataframe\">\n",
              "  <thead>\n",
              "    <tr style=\"text-align: right;\">\n",
              "      <th></th>\n",
              "      <th>country</th>\n",
              "      <th>beer_servings</th>\n",
              "      <th>spirit_servings</th>\n",
              "      <th>wine_servings</th>\n",
              "      <th>total_litres_of_pure_alcohol</th>\n",
              "      <th>continent</th>\n",
              "    </tr>\n",
              "  </thead>\n",
              "  <tbody>\n",
              "    <tr>\n",
              "      <th>0</th>\n",
              "      <td>Afghanistan</td>\n",
              "      <td>0</td>\n",
              "      <td>0</td>\n",
              "      <td>0</td>\n",
              "      <td>0.0</td>\n",
              "      <td>Asia</td>\n",
              "    </tr>\n",
              "    <tr>\n",
              "      <th>1</th>\n",
              "      <td>Albania</td>\n",
              "      <td>89</td>\n",
              "      <td>132</td>\n",
              "      <td>54</td>\n",
              "      <td>4.9</td>\n",
              "      <td>Europe</td>\n",
              "    </tr>\n",
              "    <tr>\n",
              "      <th>2</th>\n",
              "      <td>Algeria</td>\n",
              "      <td>25</td>\n",
              "      <td>0</td>\n",
              "      <td>14</td>\n",
              "      <td>0.7</td>\n",
              "      <td>Africa</td>\n",
              "    </tr>\n",
              "    <tr>\n",
              "      <th>3</th>\n",
              "      <td>Andorra</td>\n",
              "      <td>245</td>\n",
              "      <td>138</td>\n",
              "      <td>312</td>\n",
              "      <td>12.4</td>\n",
              "      <td>Europe</td>\n",
              "    </tr>\n",
              "    <tr>\n",
              "      <th>4</th>\n",
              "      <td>Angola</td>\n",
              "      <td>217</td>\n",
              "      <td>57</td>\n",
              "      <td>45</td>\n",
              "      <td>5.9</td>\n",
              "      <td>Africa</td>\n",
              "    </tr>\n",
              "  </tbody>\n",
              "</table>\n",
              "</div>"
            ],
            "text/plain": [
              "       country  beer_servings  ...  total_litres_of_pure_alcohol  continent\n",
              "0  Afghanistan              0  ...                           0.0       Asia\n",
              "1      Albania             89  ...                           4.9     Europe\n",
              "2      Algeria             25  ...                           0.7     Africa\n",
              "3      Andorra            245  ...                          12.4     Europe\n",
              "4       Angola            217  ...                           5.9     Africa\n",
              "\n",
              "[5 rows x 6 columns]"
            ]
          },
          "metadata": {
            "tags": []
          },
          "execution_count": 24
        }
      ]
    },
    {
      "cell_type": "code",
      "metadata": {
        "id": "GnozeSLaAdA3",
        "colab_type": "code",
        "colab": {
          "base_uri": "https://localhost:8080/",
          "height": 202
        },
        "outputId": "d3ac2632-42f1-4346-b5b3-25bfb71145f0"
      },
      "source": [
        "drinks.select_dtypes(exclude='number').head()"
      ],
      "execution_count": 27,
      "outputs": [
        {
          "output_type": "execute_result",
          "data": {
            "text/html": [
              "<div>\n",
              "<style scoped>\n",
              "    .dataframe tbody tr th:only-of-type {\n",
              "        vertical-align: middle;\n",
              "    }\n",
              "\n",
              "    .dataframe tbody tr th {\n",
              "        vertical-align: top;\n",
              "    }\n",
              "\n",
              "    .dataframe thead th {\n",
              "        text-align: right;\n",
              "    }\n",
              "</style>\n",
              "<table border=\"1\" class=\"dataframe\">\n",
              "  <thead>\n",
              "    <tr style=\"text-align: right;\">\n",
              "      <th></th>\n",
              "      <th>country</th>\n",
              "      <th>continent</th>\n",
              "    </tr>\n",
              "  </thead>\n",
              "  <tbody>\n",
              "    <tr>\n",
              "      <th>0</th>\n",
              "      <td>Afghanistan</td>\n",
              "      <td>Asia</td>\n",
              "    </tr>\n",
              "    <tr>\n",
              "      <th>1</th>\n",
              "      <td>Albania</td>\n",
              "      <td>Europe</td>\n",
              "    </tr>\n",
              "    <tr>\n",
              "      <th>2</th>\n",
              "      <td>Algeria</td>\n",
              "      <td>Africa</td>\n",
              "    </tr>\n",
              "    <tr>\n",
              "      <th>3</th>\n",
              "      <td>Andorra</td>\n",
              "      <td>Europe</td>\n",
              "    </tr>\n",
              "    <tr>\n",
              "      <th>4</th>\n",
              "      <td>Angola</td>\n",
              "      <td>Africa</td>\n",
              "    </tr>\n",
              "  </tbody>\n",
              "</table>\n",
              "</div>"
            ],
            "text/plain": [
              "       country continent\n",
              "0  Afghanistan      Asia\n",
              "1      Albania    Europe\n",
              "2      Algeria    Africa\n",
              "3      Andorra    Europe\n",
              "4       Angola    Africa"
            ]
          },
          "metadata": {
            "tags": []
          },
          "execution_count": 27
        }
      ]
    },
    {
      "cell_type": "markdown",
      "metadata": {
        "id": "EnMsGxXnB0uj",
        "colab_type": "text"
      },
      "source": [
        "\n",
        "### Convert Strings to numbers"
      ]
    },
    {
      "cell_type": "code",
      "metadata": {
        "id": "Gbczag7mBByA",
        "colab_type": "code",
        "colab": {
          "base_uri": "https://localhost:8080/",
          "height": 141
        },
        "outputId": "477d0d9e-71cc-49aa-abb8-d84900551bb0"
      },
      "source": [
        "df= pd.DataFrame({'col_one':['1.1', '2.2', '3.3'],\n",
        "                  'col_two':['4.4','5.5','6.6'],\n",
        "                  'col_three':['7.7','8.8','_']})\n",
        "df"
      ],
      "execution_count": 28,
      "outputs": [
        {
          "output_type": "execute_result",
          "data": {
            "text/html": [
              "<div>\n",
              "<style scoped>\n",
              "    .dataframe tbody tr th:only-of-type {\n",
              "        vertical-align: middle;\n",
              "    }\n",
              "\n",
              "    .dataframe tbody tr th {\n",
              "        vertical-align: top;\n",
              "    }\n",
              "\n",
              "    .dataframe thead th {\n",
              "        text-align: right;\n",
              "    }\n",
              "</style>\n",
              "<table border=\"1\" class=\"dataframe\">\n",
              "  <thead>\n",
              "    <tr style=\"text-align: right;\">\n",
              "      <th></th>\n",
              "      <th>col_one</th>\n",
              "      <th>col_two</th>\n",
              "      <th>col_three</th>\n",
              "    </tr>\n",
              "  </thead>\n",
              "  <tbody>\n",
              "    <tr>\n",
              "      <th>0</th>\n",
              "      <td>1.1</td>\n",
              "      <td>4.4</td>\n",
              "      <td>7.7</td>\n",
              "    </tr>\n",
              "    <tr>\n",
              "      <th>1</th>\n",
              "      <td>2.2</td>\n",
              "      <td>5.5</td>\n",
              "      <td>8.8</td>\n",
              "    </tr>\n",
              "    <tr>\n",
              "      <th>2</th>\n",
              "      <td>3.3</td>\n",
              "      <td>6.6</td>\n",
              "      <td>_</td>\n",
              "    </tr>\n",
              "  </tbody>\n",
              "</table>\n",
              "</div>"
            ],
            "text/plain": [
              "  col_one col_two col_three\n",
              "0     1.1     4.4       7.7\n",
              "1     2.2     5.5       8.8\n",
              "2     3.3     6.6         _"
            ]
          },
          "metadata": {
            "tags": []
          },
          "execution_count": 28
        }
      ]
    },
    {
      "cell_type": "code",
      "metadata": {
        "id": "CnlaeGTTB4fe",
        "colab_type": "code",
        "colab": {
          "base_uri": "https://localhost:8080/",
          "height": 87
        },
        "outputId": "ccbc2f47-814e-4d0e-f14d-20ba506e2a56"
      },
      "source": [
        "df.dtypes"
      ],
      "execution_count": 29,
      "outputs": [
        {
          "output_type": "execute_result",
          "data": {
            "text/plain": [
              "col_one      object\n",
              "col_two      object\n",
              "col_three    object\n",
              "dtype: object"
            ]
          },
          "metadata": {
            "tags": []
          },
          "execution_count": 29
        }
      ]
    },
    {
      "cell_type": "code",
      "metadata": {
        "id": "LZ32pTP5CuHh",
        "colab_type": "code",
        "colab": {
          "base_uri": "https://localhost:8080/",
          "height": 87
        },
        "outputId": "9d9e3f82-6144-4409-9c04-ac7b48aefd24"
      },
      "source": [
        "df.astype({'col_one':'float', 'col_two':'float'}).dtypes"
      ],
      "execution_count": 30,
      "outputs": [
        {
          "output_type": "execute_result",
          "data": {
            "text/plain": [
              "col_one      float64\n",
              "col_two      float64\n",
              "col_three     object\n",
              "dtype: object"
            ]
          },
          "metadata": {
            "tags": []
          },
          "execution_count": 30
        }
      ]
    },
    {
      "cell_type": "code",
      "metadata": {
        "id": "M4BniU6xDBtH",
        "colab_type": "code",
        "colab": {
          "base_uri": "https://localhost:8080/",
          "height": 87
        },
        "outputId": "8d837695-dec2-4c7c-c75c-95da488e30db"
      },
      "source": [
        "pd.to_numeric(df.col_three, errors='coerce')  # to numeric function convert invalid value to NaN"
      ],
      "execution_count": 31,
      "outputs": [
        {
          "output_type": "execute_result",
          "data": {
            "text/plain": [
              "0    7.7\n",
              "1    8.8\n",
              "2    NaN\n",
              "Name: col_three, dtype: float64"
            ]
          },
          "metadata": {
            "tags": []
          },
          "execution_count": 31
        }
      ]
    },
    {
      "cell_type": "code",
      "metadata": {
        "id": "96Qo30AxDcxf",
        "colab_type": "code",
        "colab": {
          "base_uri": "https://localhost:8080/",
          "height": 87
        },
        "outputId": "6c6ec844-3f66-4f9c-9a4c-52715fb179f1"
      },
      "source": [
        "pd.to_numeric(df.col_three, errors='coerce').fillna(0)"
      ],
      "execution_count": 32,
      "outputs": [
        {
          "output_type": "execute_result",
          "data": {
            "text/plain": [
              "0    7.7\n",
              "1    8.8\n",
              "2    0.0\n",
              "Name: col_three, dtype: float64"
            ]
          },
          "metadata": {
            "tags": []
          },
          "execution_count": 32
        }
      ]
    },
    {
      "cell_type": "code",
      "metadata": {
        "id": "ohMp8hYUDqRO",
        "colab_type": "code",
        "colab": {
          "base_uri": "https://localhost:8080/",
          "height": 141
        },
        "outputId": "6d5ba473-72a3-46b7-d311-13a30fe1c17f"
      },
      "source": [
        "df= df.apply(pd.to_numeric, errors='coerce').fillna(0) # apply the changes to df\n",
        "df"
      ],
      "execution_count": 33,
      "outputs": [
        {
          "output_type": "execute_result",
          "data": {
            "text/html": [
              "<div>\n",
              "<style scoped>\n",
              "    .dataframe tbody tr th:only-of-type {\n",
              "        vertical-align: middle;\n",
              "    }\n",
              "\n",
              "    .dataframe tbody tr th {\n",
              "        vertical-align: top;\n",
              "    }\n",
              "\n",
              "    .dataframe thead th {\n",
              "        text-align: right;\n",
              "    }\n",
              "</style>\n",
              "<table border=\"1\" class=\"dataframe\">\n",
              "  <thead>\n",
              "    <tr style=\"text-align: right;\">\n",
              "      <th></th>\n",
              "      <th>col_one</th>\n",
              "      <th>col_two</th>\n",
              "      <th>col_three</th>\n",
              "    </tr>\n",
              "  </thead>\n",
              "  <tbody>\n",
              "    <tr>\n",
              "      <th>0</th>\n",
              "      <td>1.1</td>\n",
              "      <td>4.4</td>\n",
              "      <td>7.7</td>\n",
              "    </tr>\n",
              "    <tr>\n",
              "      <th>1</th>\n",
              "      <td>2.2</td>\n",
              "      <td>5.5</td>\n",
              "      <td>8.8</td>\n",
              "    </tr>\n",
              "    <tr>\n",
              "      <th>2</th>\n",
              "      <td>3.3</td>\n",
              "      <td>6.6</td>\n",
              "      <td>0.0</td>\n",
              "    </tr>\n",
              "  </tbody>\n",
              "</table>\n",
              "</div>"
            ],
            "text/plain": [
              "   col_one  col_two  col_three\n",
              "0      1.1      4.4        7.7\n",
              "1      2.2      5.5        8.8\n",
              "2      3.3      6.6        0.0"
            ]
          },
          "metadata": {
            "tags": []
          },
          "execution_count": 33
        }
      ]
    },
    {
      "cell_type": "code",
      "metadata": {
        "id": "d0ZskhU6EMnH",
        "colab_type": "code",
        "colab": {
          "base_uri": "https://localhost:8080/",
          "height": 87
        },
        "outputId": "d9f6d919-1d9c-466c-d11e-35e5bb55f4cc"
      },
      "source": [
        "df.dtypes"
      ],
      "execution_count": 34,
      "outputs": [
        {
          "output_type": "execute_result",
          "data": {
            "text/plain": [
              "col_one      float64\n",
              "col_two      float64\n",
              "col_three    float64\n",
              "dtype: object"
            ]
          },
          "metadata": {
            "tags": []
          },
          "execution_count": 34
        }
      ]
    },
    {
      "cell_type": "markdown",
      "metadata": {
        "id": "2YM7MSJ7ERMZ",
        "colab_type": "text"
      },
      "source": [
        "\n",
        "\n",
        "### Reduce DataFrame size"
      ]
    },
    {
      "cell_type": "code",
      "metadata": {
        "id": "h6mdwV89EQC_",
        "colab_type": "code",
        "colab": {
          "base_uri": "https://localhost:8080/",
          "height": 243
        },
        "outputId": "12e97f2c-bb46-40e0-d6ce-2021baad03d7"
      },
      "source": [
        "drinks.info(memory_usage='deep')"
      ],
      "execution_count": 35,
      "outputs": [
        {
          "output_type": "stream",
          "text": [
            "<class 'pandas.core.frame.DataFrame'>\n",
            "RangeIndex: 193 entries, 0 to 192\n",
            "Data columns (total 6 columns):\n",
            " #   Column                        Non-Null Count  Dtype  \n",
            "---  ------                        --------------  -----  \n",
            " 0   country                       193 non-null    object \n",
            " 1   beer_servings                 193 non-null    int64  \n",
            " 2   spirit_servings               193 non-null    int64  \n",
            " 3   wine_servings                 193 non-null    int64  \n",
            " 4   total_litres_of_pure_alcohol  193 non-null    float64\n",
            " 5   continent                     193 non-null    object \n",
            "dtypes: float64(1), int64(3), object(2)\n",
            "memory usage: 30.5 KB\n"
          ],
          "name": "stdout"
        }
      ]
    },
    {
      "cell_type": "code",
      "metadata": {
        "id": "qwAMLgwxEUeG",
        "colab_type": "code",
        "colab": {
          "base_uri": "https://localhost:8080/",
          "height": 173
        },
        "outputId": "25a5a3d0-0baf-497f-aed8-14399e6f8203"
      },
      "source": [
        "cols = ['beer_servings', 'continent']\n",
        "small_drinks=pd.read_csv('http://bit.ly/drinksbycountry', usecols=cols)\n",
        "small_drinks.info(memory_usage='deep')"
      ],
      "execution_count": 36,
      "outputs": [
        {
          "output_type": "stream",
          "text": [
            "<class 'pandas.core.frame.DataFrame'>\n",
            "RangeIndex: 193 entries, 0 to 192\n",
            "Data columns (total 2 columns):\n",
            " #   Column         Non-Null Count  Dtype \n",
            "---  ------         --------------  ----- \n",
            " 0   beer_servings  193 non-null    int64 \n",
            " 1   continent      193 non-null    object\n",
            "dtypes: int64(1), object(1)\n",
            "memory usage: 13.7 KB\n"
          ],
          "name": "stdout"
        }
      ]
    },
    {
      "cell_type": "markdown",
      "metadata": {
        "id": "hfZoSuKUFP7r",
        "colab_type": "text"
      },
      "source": [
        "\n",
        "### Filter a DataFrame by Multiple Categories"
      ]
    },
    {
      "cell_type": "code",
      "metadata": {
        "id": "6mP8U0sIE-EK",
        "colab_type": "code",
        "colab": {
          "base_uri": "https://localhost:8080/",
          "height": 202
        },
        "outputId": "00969c2a-7a3c-4126-e40e-9bcf3b1561fb"
      },
      "source": [
        "movies.head()"
      ],
      "execution_count": 38,
      "outputs": [
        {
          "output_type": "execute_result",
          "data": {
            "text/html": [
              "<div>\n",
              "<style scoped>\n",
              "    .dataframe tbody tr th:only-of-type {\n",
              "        vertical-align: middle;\n",
              "    }\n",
              "\n",
              "    .dataframe tbody tr th {\n",
              "        vertical-align: top;\n",
              "    }\n",
              "\n",
              "    .dataframe thead th {\n",
              "        text-align: right;\n",
              "    }\n",
              "</style>\n",
              "<table border=\"1\" class=\"dataframe\">\n",
              "  <thead>\n",
              "    <tr style=\"text-align: right;\">\n",
              "      <th></th>\n",
              "      <th>star_rating</th>\n",
              "      <th>title</th>\n",
              "      <th>content_rating</th>\n",
              "      <th>genre</th>\n",
              "      <th>duration</th>\n",
              "      <th>actors_list</th>\n",
              "    </tr>\n",
              "  </thead>\n",
              "  <tbody>\n",
              "    <tr>\n",
              "      <th>0</th>\n",
              "      <td>9.3</td>\n",
              "      <td>The Shawshank Redemption</td>\n",
              "      <td>R</td>\n",
              "      <td>Crime</td>\n",
              "      <td>142</td>\n",
              "      <td>[u'Tim Robbins', u'Morgan Freeman', u'Bob Gunt...</td>\n",
              "    </tr>\n",
              "    <tr>\n",
              "      <th>1</th>\n",
              "      <td>9.2</td>\n",
              "      <td>The Godfather</td>\n",
              "      <td>R</td>\n",
              "      <td>Crime</td>\n",
              "      <td>175</td>\n",
              "      <td>[u'Marlon Brando', u'Al Pacino', u'James Caan']</td>\n",
              "    </tr>\n",
              "    <tr>\n",
              "      <th>2</th>\n",
              "      <td>9.1</td>\n",
              "      <td>The Godfather: Part II</td>\n",
              "      <td>R</td>\n",
              "      <td>Crime</td>\n",
              "      <td>200</td>\n",
              "      <td>[u'Al Pacino', u'Robert De Niro', u'Robert Duv...</td>\n",
              "    </tr>\n",
              "    <tr>\n",
              "      <th>3</th>\n",
              "      <td>9.0</td>\n",
              "      <td>The Dark Knight</td>\n",
              "      <td>PG-13</td>\n",
              "      <td>Action</td>\n",
              "      <td>152</td>\n",
              "      <td>[u'Christian Bale', u'Heath Ledger', u'Aaron E...</td>\n",
              "    </tr>\n",
              "    <tr>\n",
              "      <th>4</th>\n",
              "      <td>8.9</td>\n",
              "      <td>Pulp Fiction</td>\n",
              "      <td>R</td>\n",
              "      <td>Crime</td>\n",
              "      <td>154</td>\n",
              "      <td>[u'John Travolta', u'Uma Thurman', u'Samuel L....</td>\n",
              "    </tr>\n",
              "  </tbody>\n",
              "</table>\n",
              "</div>"
            ],
            "text/plain": [
              "   star_rating  ...                                        actors_list\n",
              "0          9.3  ...  [u'Tim Robbins', u'Morgan Freeman', u'Bob Gunt...\n",
              "1          9.2  ...    [u'Marlon Brando', u'Al Pacino', u'James Caan']\n",
              "2          9.1  ...  [u'Al Pacino', u'Robert De Niro', u'Robert Duv...\n",
              "3          9.0  ...  [u'Christian Bale', u'Heath Ledger', u'Aaron E...\n",
              "4          8.9  ...  [u'John Travolta', u'Uma Thurman', u'Samuel L....\n",
              "\n",
              "[5 rows x 6 columns]"
            ]
          },
          "metadata": {
            "tags": []
          },
          "execution_count": 38
        }
      ]
    },
    {
      "cell_type": "code",
      "metadata": {
        "id": "x9NKCahNFXxN",
        "colab_type": "code",
        "colab": {
          "base_uri": "https://localhost:8080/",
          "height": 69
        },
        "outputId": "35f2feeb-3d64-48df-b01c-fceefadc3f35"
      },
      "source": [
        "movies.genre.unique()"
      ],
      "execution_count": 39,
      "outputs": [
        {
          "output_type": "execute_result",
          "data": {
            "text/plain": [
              "array(['Crime', 'Action', 'Drama', 'Western', 'Adventure', 'Biography',\n",
              "       'Comedy', 'Animation', 'Mystery', 'Horror', 'Film-Noir', 'Sci-Fi',\n",
              "       'History', 'Thriller', 'Family', 'Fantasy'], dtype=object)"
            ]
          },
          "metadata": {
            "tags": []
          },
          "execution_count": 39
        }
      ]
    },
    {
      "cell_type": "code",
      "metadata": {
        "id": "f22H3aiYG8Vg",
        "colab_type": "code",
        "colab": {
          "base_uri": "https://localhost:8080/",
          "height": 202
        },
        "outputId": "d8a1a3de-66fd-4d89-a00e-210e82485468"
      },
      "source": [
        "movies[(movies.genre == 'Action') | (movies.genre == 'Drama')| (movies.genre == 'Western')].head()"
      ],
      "execution_count": 40,
      "outputs": [
        {
          "output_type": "execute_result",
          "data": {
            "text/html": [
              "<div>\n",
              "<style scoped>\n",
              "    .dataframe tbody tr th:only-of-type {\n",
              "        vertical-align: middle;\n",
              "    }\n",
              "\n",
              "    .dataframe tbody tr th {\n",
              "        vertical-align: top;\n",
              "    }\n",
              "\n",
              "    .dataframe thead th {\n",
              "        text-align: right;\n",
              "    }\n",
              "</style>\n",
              "<table border=\"1\" class=\"dataframe\">\n",
              "  <thead>\n",
              "    <tr style=\"text-align: right;\">\n",
              "      <th></th>\n",
              "      <th>star_rating</th>\n",
              "      <th>title</th>\n",
              "      <th>content_rating</th>\n",
              "      <th>genre</th>\n",
              "      <th>duration</th>\n",
              "      <th>actors_list</th>\n",
              "    </tr>\n",
              "  </thead>\n",
              "  <tbody>\n",
              "    <tr>\n",
              "      <th>3</th>\n",
              "      <td>9.0</td>\n",
              "      <td>The Dark Knight</td>\n",
              "      <td>PG-13</td>\n",
              "      <td>Action</td>\n",
              "      <td>152</td>\n",
              "      <td>[u'Christian Bale', u'Heath Ledger', u'Aaron E...</td>\n",
              "    </tr>\n",
              "    <tr>\n",
              "      <th>5</th>\n",
              "      <td>8.9</td>\n",
              "      <td>12 Angry Men</td>\n",
              "      <td>NOT RATED</td>\n",
              "      <td>Drama</td>\n",
              "      <td>96</td>\n",
              "      <td>[u'Henry Fonda', u'Lee J. Cobb', u'Martin Bals...</td>\n",
              "    </tr>\n",
              "    <tr>\n",
              "      <th>6</th>\n",
              "      <td>8.9</td>\n",
              "      <td>The Good, the Bad and the Ugly</td>\n",
              "      <td>NOT RATED</td>\n",
              "      <td>Western</td>\n",
              "      <td>161</td>\n",
              "      <td>[u'Clint Eastwood', u'Eli Wallach', u'Lee Van ...</td>\n",
              "    </tr>\n",
              "    <tr>\n",
              "      <th>9</th>\n",
              "      <td>8.9</td>\n",
              "      <td>Fight Club</td>\n",
              "      <td>R</td>\n",
              "      <td>Drama</td>\n",
              "      <td>139</td>\n",
              "      <td>[u'Brad Pitt', u'Edward Norton', u'Helena Bonh...</td>\n",
              "    </tr>\n",
              "    <tr>\n",
              "      <th>11</th>\n",
              "      <td>8.8</td>\n",
              "      <td>Inception</td>\n",
              "      <td>PG-13</td>\n",
              "      <td>Action</td>\n",
              "      <td>148</td>\n",
              "      <td>[u'Leonardo DiCaprio', u'Joseph Gordon-Levitt'...</td>\n",
              "    </tr>\n",
              "  </tbody>\n",
              "</table>\n",
              "</div>"
            ],
            "text/plain": [
              "    star_rating  ...                                        actors_list\n",
              "3           9.0  ...  [u'Christian Bale', u'Heath Ledger', u'Aaron E...\n",
              "5           8.9  ...  [u'Henry Fonda', u'Lee J. Cobb', u'Martin Bals...\n",
              "6           8.9  ...  [u'Clint Eastwood', u'Eli Wallach', u'Lee Van ...\n",
              "9           8.9  ...  [u'Brad Pitt', u'Edward Norton', u'Helena Bonh...\n",
              "11          8.8  ...  [u'Leonardo DiCaprio', u'Joseph Gordon-Levitt'...\n",
              "\n",
              "[5 rows x 6 columns]"
            ]
          },
          "metadata": {
            "tags": []
          },
          "execution_count": 40
        }
      ]
    },
    {
      "cell_type": "code",
      "metadata": {
        "id": "omUiOSNsHVEt",
        "colab_type": "code",
        "colab": {
          "base_uri": "https://localhost:8080/",
          "height": 202
        },
        "outputId": "d46ba1a9-d715-4ed2-f5bd-53ce485d8624"
      },
      "source": [
        "movies[movies.genre.isin(['Action', 'Drama', 'Western'])].head()"
      ],
      "execution_count": 41,
      "outputs": [
        {
          "output_type": "execute_result",
          "data": {
            "text/html": [
              "<div>\n",
              "<style scoped>\n",
              "    .dataframe tbody tr th:only-of-type {\n",
              "        vertical-align: middle;\n",
              "    }\n",
              "\n",
              "    .dataframe tbody tr th {\n",
              "        vertical-align: top;\n",
              "    }\n",
              "\n",
              "    .dataframe thead th {\n",
              "        text-align: right;\n",
              "    }\n",
              "</style>\n",
              "<table border=\"1\" class=\"dataframe\">\n",
              "  <thead>\n",
              "    <tr style=\"text-align: right;\">\n",
              "      <th></th>\n",
              "      <th>star_rating</th>\n",
              "      <th>title</th>\n",
              "      <th>content_rating</th>\n",
              "      <th>genre</th>\n",
              "      <th>duration</th>\n",
              "      <th>actors_list</th>\n",
              "    </tr>\n",
              "  </thead>\n",
              "  <tbody>\n",
              "    <tr>\n",
              "      <th>3</th>\n",
              "      <td>9.0</td>\n",
              "      <td>The Dark Knight</td>\n",
              "      <td>PG-13</td>\n",
              "      <td>Action</td>\n",
              "      <td>152</td>\n",
              "      <td>[u'Christian Bale', u'Heath Ledger', u'Aaron E...</td>\n",
              "    </tr>\n",
              "    <tr>\n",
              "      <th>5</th>\n",
              "      <td>8.9</td>\n",
              "      <td>12 Angry Men</td>\n",
              "      <td>NOT RATED</td>\n",
              "      <td>Drama</td>\n",
              "      <td>96</td>\n",
              "      <td>[u'Henry Fonda', u'Lee J. Cobb', u'Martin Bals...</td>\n",
              "    </tr>\n",
              "    <tr>\n",
              "      <th>6</th>\n",
              "      <td>8.9</td>\n",
              "      <td>The Good, the Bad and the Ugly</td>\n",
              "      <td>NOT RATED</td>\n",
              "      <td>Western</td>\n",
              "      <td>161</td>\n",
              "      <td>[u'Clint Eastwood', u'Eli Wallach', u'Lee Van ...</td>\n",
              "    </tr>\n",
              "    <tr>\n",
              "      <th>9</th>\n",
              "      <td>8.9</td>\n",
              "      <td>Fight Club</td>\n",
              "      <td>R</td>\n",
              "      <td>Drama</td>\n",
              "      <td>139</td>\n",
              "      <td>[u'Brad Pitt', u'Edward Norton', u'Helena Bonh...</td>\n",
              "    </tr>\n",
              "    <tr>\n",
              "      <th>11</th>\n",
              "      <td>8.8</td>\n",
              "      <td>Inception</td>\n",
              "      <td>PG-13</td>\n",
              "      <td>Action</td>\n",
              "      <td>148</td>\n",
              "      <td>[u'Leonardo DiCaprio', u'Joseph Gordon-Levitt'...</td>\n",
              "    </tr>\n",
              "  </tbody>\n",
              "</table>\n",
              "</div>"
            ],
            "text/plain": [
              "    star_rating  ...                                        actors_list\n",
              "3           9.0  ...  [u'Christian Bale', u'Heath Ledger', u'Aaron E...\n",
              "5           8.9  ...  [u'Henry Fonda', u'Lee J. Cobb', u'Martin Bals...\n",
              "6           8.9  ...  [u'Clint Eastwood', u'Eli Wallach', u'Lee Van ...\n",
              "9           8.9  ...  [u'Brad Pitt', u'Edward Norton', u'Helena Bonh...\n",
              "11          8.8  ...  [u'Leonardo DiCaprio', u'Joseph Gordon-Levitt'...\n",
              "\n",
              "[5 rows x 6 columns]"
            ]
          },
          "metadata": {
            "tags": []
          },
          "execution_count": 41
        }
      ]
    },
    {
      "cell_type": "code",
      "metadata": {
        "id": "y-j9Vd48HlaN",
        "colab_type": "code",
        "colab": {
          "base_uri": "https://localhost:8080/",
          "height": 202
        },
        "outputId": "e16807e2-99c9-4836-e51a-b513cf4cb078"
      },
      "source": [
        "movies[~movies.genre.isin(['Action', 'Drama','Western'])].head() # reverse filter to execlude rather than include"
      ],
      "execution_count": 42,
      "outputs": [
        {
          "output_type": "execute_result",
          "data": {
            "text/html": [
              "<div>\n",
              "<style scoped>\n",
              "    .dataframe tbody tr th:only-of-type {\n",
              "        vertical-align: middle;\n",
              "    }\n",
              "\n",
              "    .dataframe tbody tr th {\n",
              "        vertical-align: top;\n",
              "    }\n",
              "\n",
              "    .dataframe thead th {\n",
              "        text-align: right;\n",
              "    }\n",
              "</style>\n",
              "<table border=\"1\" class=\"dataframe\">\n",
              "  <thead>\n",
              "    <tr style=\"text-align: right;\">\n",
              "      <th></th>\n",
              "      <th>star_rating</th>\n",
              "      <th>title</th>\n",
              "      <th>content_rating</th>\n",
              "      <th>genre</th>\n",
              "      <th>duration</th>\n",
              "      <th>actors_list</th>\n",
              "    </tr>\n",
              "  </thead>\n",
              "  <tbody>\n",
              "    <tr>\n",
              "      <th>0</th>\n",
              "      <td>9.3</td>\n",
              "      <td>The Shawshank Redemption</td>\n",
              "      <td>R</td>\n",
              "      <td>Crime</td>\n",
              "      <td>142</td>\n",
              "      <td>[u'Tim Robbins', u'Morgan Freeman', u'Bob Gunt...</td>\n",
              "    </tr>\n",
              "    <tr>\n",
              "      <th>1</th>\n",
              "      <td>9.2</td>\n",
              "      <td>The Godfather</td>\n",
              "      <td>R</td>\n",
              "      <td>Crime</td>\n",
              "      <td>175</td>\n",
              "      <td>[u'Marlon Brando', u'Al Pacino', u'James Caan']</td>\n",
              "    </tr>\n",
              "    <tr>\n",
              "      <th>2</th>\n",
              "      <td>9.1</td>\n",
              "      <td>The Godfather: Part II</td>\n",
              "      <td>R</td>\n",
              "      <td>Crime</td>\n",
              "      <td>200</td>\n",
              "      <td>[u'Al Pacino', u'Robert De Niro', u'Robert Duv...</td>\n",
              "    </tr>\n",
              "    <tr>\n",
              "      <th>4</th>\n",
              "      <td>8.9</td>\n",
              "      <td>Pulp Fiction</td>\n",
              "      <td>R</td>\n",
              "      <td>Crime</td>\n",
              "      <td>154</td>\n",
              "      <td>[u'John Travolta', u'Uma Thurman', u'Samuel L....</td>\n",
              "    </tr>\n",
              "    <tr>\n",
              "      <th>7</th>\n",
              "      <td>8.9</td>\n",
              "      <td>The Lord of the Rings: The Return of the King</td>\n",
              "      <td>PG-13</td>\n",
              "      <td>Adventure</td>\n",
              "      <td>201</td>\n",
              "      <td>[u'Elijah Wood', u'Viggo Mortensen', u'Ian McK...</td>\n",
              "    </tr>\n",
              "  </tbody>\n",
              "</table>\n",
              "</div>"
            ],
            "text/plain": [
              "   star_rating  ...                                        actors_list\n",
              "0          9.3  ...  [u'Tim Robbins', u'Morgan Freeman', u'Bob Gunt...\n",
              "1          9.2  ...    [u'Marlon Brando', u'Al Pacino', u'James Caan']\n",
              "2          9.1  ...  [u'Al Pacino', u'Robert De Niro', u'Robert Duv...\n",
              "4          8.9  ...  [u'John Travolta', u'Uma Thurman', u'Samuel L....\n",
              "7          8.9  ...  [u'Elijah Wood', u'Viggo Mortensen', u'Ian McK...\n",
              "\n",
              "[5 rows x 6 columns]"
            ]
          },
          "metadata": {
            "tags": []
          },
          "execution_count": 42
        }
      ]
    },
    {
      "cell_type": "code",
      "metadata": {
        "id": "mtSroZ-qH6It",
        "colab_type": "code",
        "colab": {}
      },
      "source": [
        ""
      ],
      "execution_count": null,
      "outputs": []
    },
    {
      "cell_type": "markdown",
      "metadata": {
        "id": "JzOATDlXIJBU",
        "colab_type": "text"
      },
      "source": [
        "\n",
        "### Filter a DataFrame by largest categories"
      ]
    },
    {
      "cell_type": "code",
      "metadata": {
        "id": "Y66houMyINZL",
        "colab_type": "code",
        "colab": {
          "base_uri": "https://localhost:8080/",
          "height": 312
        },
        "outputId": "90888741-3142-4b1f-8d56-550efbdb7220"
      },
      "source": [
        "counts = movies.genre.value_counts()\n",
        "counts"
      ],
      "execution_count": 44,
      "outputs": [
        {
          "output_type": "execute_result",
          "data": {
            "text/plain": [
              "Drama        278\n",
              "Comedy       156\n",
              "Action       136\n",
              "Crime        124\n",
              "Biography     77\n",
              "Adventure     75\n",
              "Animation     62\n",
              "Horror        29\n",
              "Mystery       16\n",
              "Western        9\n",
              "Sci-Fi         5\n",
              "Thriller       5\n",
              "Film-Noir      3\n",
              "Family         2\n",
              "Fantasy        1\n",
              "History        1\n",
              "Name: genre, dtype: int64"
            ]
          },
          "metadata": {
            "tags": []
          },
          "execution_count": 44
        }
      ]
    },
    {
      "cell_type": "code",
      "metadata": {
        "id": "1qnx55vmIfNE",
        "colab_type": "code",
        "colab": {
          "base_uri": "https://localhost:8080/",
          "height": 87
        },
        "outputId": "7896b1c6-daed-4d80-ac09-fca2f9970412"
      },
      "source": [
        "counts.nlargest(3) #the series method nlargest select 3 largest values"
      ],
      "execution_count": 45,
      "outputs": [
        {
          "output_type": "execute_result",
          "data": {
            "text/plain": [
              "Drama     278\n",
              "Comedy    156\n",
              "Action    136\n",
              "Name: genre, dtype: int64"
            ]
          },
          "metadata": {
            "tags": []
          },
          "execution_count": 45
        }
      ]
    },
    {
      "cell_type": "code",
      "metadata": {
        "id": "VAenDRZ4I27D",
        "colab_type": "code",
        "colab": {
          "base_uri": "https://localhost:8080/",
          "height": 35
        },
        "outputId": "f3230d0d-1192-458f-ece4-ba9830eff899"
      },
      "source": [
        "counts.nlargest(3).index"
      ],
      "execution_count": 46,
      "outputs": [
        {
          "output_type": "execute_result",
          "data": {
            "text/plain": [
              "Index(['Drama', 'Comedy', 'Action'], dtype='object')"
            ]
          },
          "metadata": {
            "tags": []
          },
          "execution_count": 46
        }
      ]
    },
    {
      "cell_type": "code",
      "metadata": {
        "id": "jcJg_8PLI702",
        "colab_type": "code",
        "colab": {
          "base_uri": "https://localhost:8080/",
          "height": 202
        },
        "outputId": "003442ec-b49e-4605-efa9-bf8b753e3d2a"
      },
      "source": [
        "movies[movies.genre.isin(counts.nlargest(3).index)].head() # thus, only Drama,Comedy and action movies rewmain in the dataframe"
      ],
      "execution_count": 47,
      "outputs": [
        {
          "output_type": "execute_result",
          "data": {
            "text/html": [
              "<div>\n",
              "<style scoped>\n",
              "    .dataframe tbody tr th:only-of-type {\n",
              "        vertical-align: middle;\n",
              "    }\n",
              "\n",
              "    .dataframe tbody tr th {\n",
              "        vertical-align: top;\n",
              "    }\n",
              "\n",
              "    .dataframe thead th {\n",
              "        text-align: right;\n",
              "    }\n",
              "</style>\n",
              "<table border=\"1\" class=\"dataframe\">\n",
              "  <thead>\n",
              "    <tr style=\"text-align: right;\">\n",
              "      <th></th>\n",
              "      <th>star_rating</th>\n",
              "      <th>title</th>\n",
              "      <th>content_rating</th>\n",
              "      <th>genre</th>\n",
              "      <th>duration</th>\n",
              "      <th>actors_list</th>\n",
              "    </tr>\n",
              "  </thead>\n",
              "  <tbody>\n",
              "    <tr>\n",
              "      <th>3</th>\n",
              "      <td>9.0</td>\n",
              "      <td>The Dark Knight</td>\n",
              "      <td>PG-13</td>\n",
              "      <td>Action</td>\n",
              "      <td>152</td>\n",
              "      <td>[u'Christian Bale', u'Heath Ledger', u'Aaron E...</td>\n",
              "    </tr>\n",
              "    <tr>\n",
              "      <th>5</th>\n",
              "      <td>8.9</td>\n",
              "      <td>12 Angry Men</td>\n",
              "      <td>NOT RATED</td>\n",
              "      <td>Drama</td>\n",
              "      <td>96</td>\n",
              "      <td>[u'Henry Fonda', u'Lee J. Cobb', u'Martin Bals...</td>\n",
              "    </tr>\n",
              "    <tr>\n",
              "      <th>9</th>\n",
              "      <td>8.9</td>\n",
              "      <td>Fight Club</td>\n",
              "      <td>R</td>\n",
              "      <td>Drama</td>\n",
              "      <td>139</td>\n",
              "      <td>[u'Brad Pitt', u'Edward Norton', u'Helena Bonh...</td>\n",
              "    </tr>\n",
              "    <tr>\n",
              "      <th>11</th>\n",
              "      <td>8.8</td>\n",
              "      <td>Inception</td>\n",
              "      <td>PG-13</td>\n",
              "      <td>Action</td>\n",
              "      <td>148</td>\n",
              "      <td>[u'Leonardo DiCaprio', u'Joseph Gordon-Levitt'...</td>\n",
              "    </tr>\n",
              "    <tr>\n",
              "      <th>12</th>\n",
              "      <td>8.8</td>\n",
              "      <td>Star Wars: Episode V - The Empire Strikes Back</td>\n",
              "      <td>PG</td>\n",
              "      <td>Action</td>\n",
              "      <td>124</td>\n",
              "      <td>[u'Mark Hamill', u'Harrison Ford', u'Carrie Fi...</td>\n",
              "    </tr>\n",
              "  </tbody>\n",
              "</table>\n",
              "</div>"
            ],
            "text/plain": [
              "    star_rating  ...                                        actors_list\n",
              "3           9.0  ...  [u'Christian Bale', u'Heath Ledger', u'Aaron E...\n",
              "5           8.9  ...  [u'Henry Fonda', u'Lee J. Cobb', u'Martin Bals...\n",
              "9           8.9  ...  [u'Brad Pitt', u'Edward Norton', u'Helena Bonh...\n",
              "11          8.8  ...  [u'Leonardo DiCaprio', u'Joseph Gordon-Levitt'...\n",
              "12          8.8  ...  [u'Mark Hamill', u'Harrison Ford', u'Carrie Fi...\n",
              "\n",
              "[5 rows x 6 columns]"
            ]
          },
          "metadata": {
            "tags": []
          },
          "execution_count": 47
        }
      ]
    },
    {
      "cell_type": "markdown",
      "metadata": {
        "id": "8AhZdrAiJjGI",
        "colab_type": "text"
      },
      "source": [
        "\n",
        "### Handel missing Values"
      ]
    },
    {
      "cell_type": "code",
      "metadata": {
        "id": "DoZBSy7dJfqM",
        "colab_type": "code",
        "colab": {
          "base_uri": "https://localhost:8080/",
          "height": 202
        },
        "outputId": "20b6bf61-1d05-4d20-dd67-60a7a782288a"
      },
      "source": [
        "ufo.head()"
      ],
      "execution_count": 50,
      "outputs": [
        {
          "output_type": "execute_result",
          "data": {
            "text/html": [
              "<div>\n",
              "<style scoped>\n",
              "    .dataframe tbody tr th:only-of-type {\n",
              "        vertical-align: middle;\n",
              "    }\n",
              "\n",
              "    .dataframe tbody tr th {\n",
              "        vertical-align: top;\n",
              "    }\n",
              "\n",
              "    .dataframe thead th {\n",
              "        text-align: right;\n",
              "    }\n",
              "</style>\n",
              "<table border=\"1\" class=\"dataframe\">\n",
              "  <thead>\n",
              "    <tr style=\"text-align: right;\">\n",
              "      <th></th>\n",
              "      <th>City</th>\n",
              "      <th>Colors Reported</th>\n",
              "      <th>Shape Reported</th>\n",
              "      <th>State</th>\n",
              "      <th>Time</th>\n",
              "    </tr>\n",
              "  </thead>\n",
              "  <tbody>\n",
              "    <tr>\n",
              "      <th>0</th>\n",
              "      <td>Ithaca</td>\n",
              "      <td>NaN</td>\n",
              "      <td>TRIANGLE</td>\n",
              "      <td>NY</td>\n",
              "      <td>1930-06-01 22:00:00</td>\n",
              "    </tr>\n",
              "    <tr>\n",
              "      <th>1</th>\n",
              "      <td>Willingboro</td>\n",
              "      <td>NaN</td>\n",
              "      <td>OTHER</td>\n",
              "      <td>NJ</td>\n",
              "      <td>1930-06-30 20:00:00</td>\n",
              "    </tr>\n",
              "    <tr>\n",
              "      <th>2</th>\n",
              "      <td>Holyoke</td>\n",
              "      <td>NaN</td>\n",
              "      <td>OVAL</td>\n",
              "      <td>CO</td>\n",
              "      <td>1931-02-15 14:00:00</td>\n",
              "    </tr>\n",
              "    <tr>\n",
              "      <th>3</th>\n",
              "      <td>Abilene</td>\n",
              "      <td>NaN</td>\n",
              "      <td>DISK</td>\n",
              "      <td>KS</td>\n",
              "      <td>1931-06-01 13:00:00</td>\n",
              "    </tr>\n",
              "    <tr>\n",
              "      <th>4</th>\n",
              "      <td>New York Worlds Fair</td>\n",
              "      <td>NaN</td>\n",
              "      <td>LIGHT</td>\n",
              "      <td>NY</td>\n",
              "      <td>1933-04-18 19:00:00</td>\n",
              "    </tr>\n",
              "  </tbody>\n",
              "</table>\n",
              "</div>"
            ],
            "text/plain": [
              "                   City Colors Reported  ... State                Time\n",
              "0                Ithaca             NaN  ...    NY 1930-06-01 22:00:00\n",
              "1           Willingboro             NaN  ...    NJ 1930-06-30 20:00:00\n",
              "2               Holyoke             NaN  ...    CO 1931-02-15 14:00:00\n",
              "3               Abilene             NaN  ...    KS 1931-06-01 13:00:00\n",
              "4  New York Worlds Fair             NaN  ...    NY 1933-04-18 19:00:00\n",
              "\n",
              "[5 rows x 5 columns]"
            ]
          },
          "metadata": {
            "tags": []
          },
          "execution_count": 50
        }
      ]
    },
    {
      "cell_type": "code",
      "metadata": {
        "id": "qQxnLjPLJqfU",
        "colab_type": "code",
        "colab": {
          "base_uri": "https://localhost:8080/",
          "height": 121
        },
        "outputId": "e06c0bb1-9c4b-4fc6-c9f2-aa9e5dcd950d"
      },
      "source": [
        "ufo.isna().sum()"
      ],
      "execution_count": 51,
      "outputs": [
        {
          "output_type": "execute_result",
          "data": {
            "text/plain": [
              "City                  25\n",
              "Colors Reported    15359\n",
              "Shape Reported      2644\n",
              "State                  0\n",
              "Time                   0\n",
              "dtype: int64"
            ]
          },
          "metadata": {
            "tags": []
          },
          "execution_count": 51
        }
      ]
    },
    {
      "cell_type": "code",
      "metadata": {
        "id": "ijDdJChSKYsG",
        "colab_type": "code",
        "colab": {
          "base_uri": "https://localhost:8080/",
          "height": 121
        },
        "outputId": "df7d96ea-b709-49e0-bfdf-0123b497e3a1"
      },
      "source": [
        "ufo.isna().mean()"
      ],
      "execution_count": 52,
      "outputs": [
        {
          "output_type": "execute_result",
          "data": {
            "text/plain": [
              "City               0.001371\n",
              "Colors Reported    0.842004\n",
              "Shape Reported     0.144948\n",
              "State              0.000000\n",
              "Time               0.000000\n",
              "dtype: float64"
            ]
          },
          "metadata": {
            "tags": []
          },
          "execution_count": 52
        }
      ]
    },
    {
      "cell_type": "code",
      "metadata": {
        "id": "ARCqCLjnKf71",
        "colab_type": "code",
        "colab": {
          "base_uri": "https://localhost:8080/",
          "height": 202
        },
        "outputId": "9f19060c-ffd0-4fd5-d945-e86b766cfd8b"
      },
      "source": [
        "ufo.dropna(axis='columns').head()  # drop the columns that contain any missing value"
      ],
      "execution_count": 53,
      "outputs": [
        {
          "output_type": "execute_result",
          "data": {
            "text/html": [
              "<div>\n",
              "<style scoped>\n",
              "    .dataframe tbody tr th:only-of-type {\n",
              "        vertical-align: middle;\n",
              "    }\n",
              "\n",
              "    .dataframe tbody tr th {\n",
              "        vertical-align: top;\n",
              "    }\n",
              "\n",
              "    .dataframe thead th {\n",
              "        text-align: right;\n",
              "    }\n",
              "</style>\n",
              "<table border=\"1\" class=\"dataframe\">\n",
              "  <thead>\n",
              "    <tr style=\"text-align: right;\">\n",
              "      <th></th>\n",
              "      <th>State</th>\n",
              "      <th>Time</th>\n",
              "    </tr>\n",
              "  </thead>\n",
              "  <tbody>\n",
              "    <tr>\n",
              "      <th>0</th>\n",
              "      <td>NY</td>\n",
              "      <td>1930-06-01 22:00:00</td>\n",
              "    </tr>\n",
              "    <tr>\n",
              "      <th>1</th>\n",
              "      <td>NJ</td>\n",
              "      <td>1930-06-30 20:00:00</td>\n",
              "    </tr>\n",
              "    <tr>\n",
              "      <th>2</th>\n",
              "      <td>CO</td>\n",
              "      <td>1931-02-15 14:00:00</td>\n",
              "    </tr>\n",
              "    <tr>\n",
              "      <th>3</th>\n",
              "      <td>KS</td>\n",
              "      <td>1931-06-01 13:00:00</td>\n",
              "    </tr>\n",
              "    <tr>\n",
              "      <th>4</th>\n",
              "      <td>NY</td>\n",
              "      <td>1933-04-18 19:00:00</td>\n",
              "    </tr>\n",
              "  </tbody>\n",
              "</table>\n",
              "</div>"
            ],
            "text/plain": [
              "  State                Time\n",
              "0    NY 1930-06-01 22:00:00\n",
              "1    NJ 1930-06-30 20:00:00\n",
              "2    CO 1931-02-15 14:00:00\n",
              "3    KS 1931-06-01 13:00:00\n",
              "4    NY 1933-04-18 19:00:00"
            ]
          },
          "metadata": {
            "tags": []
          },
          "execution_count": 53
        }
      ]
    },
    {
      "cell_type": "code",
      "metadata": {
        "id": "2c2zamvNKwZj",
        "colab_type": "code",
        "colab": {
          "base_uri": "https://localhost:8080/",
          "height": 202
        },
        "outputId": "fd8a0536-2639-469d-c6cd-4ebd639bdb84"
      },
      "source": [
        "ufo.dropna(thresh=len(ufo)*0.9, axis='columns').head() # keep the columns in wich at least 90% of values are not missing"
      ],
      "execution_count": 56,
      "outputs": [
        {
          "output_type": "execute_result",
          "data": {
            "text/html": [
              "<div>\n",
              "<style scoped>\n",
              "    .dataframe tbody tr th:only-of-type {\n",
              "        vertical-align: middle;\n",
              "    }\n",
              "\n",
              "    .dataframe tbody tr th {\n",
              "        vertical-align: top;\n",
              "    }\n",
              "\n",
              "    .dataframe thead th {\n",
              "        text-align: right;\n",
              "    }\n",
              "</style>\n",
              "<table border=\"1\" class=\"dataframe\">\n",
              "  <thead>\n",
              "    <tr style=\"text-align: right;\">\n",
              "      <th></th>\n",
              "      <th>City</th>\n",
              "      <th>State</th>\n",
              "      <th>Time</th>\n",
              "    </tr>\n",
              "  </thead>\n",
              "  <tbody>\n",
              "    <tr>\n",
              "      <th>0</th>\n",
              "      <td>Ithaca</td>\n",
              "      <td>NY</td>\n",
              "      <td>1930-06-01 22:00:00</td>\n",
              "    </tr>\n",
              "    <tr>\n",
              "      <th>1</th>\n",
              "      <td>Willingboro</td>\n",
              "      <td>NJ</td>\n",
              "      <td>1930-06-30 20:00:00</td>\n",
              "    </tr>\n",
              "    <tr>\n",
              "      <th>2</th>\n",
              "      <td>Holyoke</td>\n",
              "      <td>CO</td>\n",
              "      <td>1931-02-15 14:00:00</td>\n",
              "    </tr>\n",
              "    <tr>\n",
              "      <th>3</th>\n",
              "      <td>Abilene</td>\n",
              "      <td>KS</td>\n",
              "      <td>1931-06-01 13:00:00</td>\n",
              "    </tr>\n",
              "    <tr>\n",
              "      <th>4</th>\n",
              "      <td>New York Worlds Fair</td>\n",
              "      <td>NY</td>\n",
              "      <td>1933-04-18 19:00:00</td>\n",
              "    </tr>\n",
              "  </tbody>\n",
              "</table>\n",
              "</div>"
            ],
            "text/plain": [
              "                   City State                Time\n",
              "0                Ithaca    NY 1930-06-01 22:00:00\n",
              "1           Willingboro    NJ 1930-06-30 20:00:00\n",
              "2               Holyoke    CO 1931-02-15 14:00:00\n",
              "3               Abilene    KS 1931-06-01 13:00:00\n",
              "4  New York Worlds Fair    NY 1933-04-18 19:00:00"
            ]
          },
          "metadata": {
            "tags": []
          },
          "execution_count": 56
        }
      ]
    },
    {
      "cell_type": "markdown",
      "metadata": {
        "id": "BtmquJWhL7UA",
        "colab_type": "text"
      },
      "source": [
        "### Aggregate by multiple functions  ((groupBy))"
      ]
    },
    {
      "cell_type": "code",
      "metadata": {
        "id": "noBu6SdTK9GS",
        "colab_type": "code",
        "colab": {
          "base_uri": "https://localhost:8080/",
          "height": 202
        },
        "outputId": "89954474-dfa3-4bb3-df20-ff3c8bb037ee"
      },
      "source": [
        "orders.head()"
      ],
      "execution_count": 57,
      "outputs": [
        {
          "output_type": "execute_result",
          "data": {
            "text/html": [
              "<div>\n",
              "<style scoped>\n",
              "    .dataframe tbody tr th:only-of-type {\n",
              "        vertical-align: middle;\n",
              "    }\n",
              "\n",
              "    .dataframe tbody tr th {\n",
              "        vertical-align: top;\n",
              "    }\n",
              "\n",
              "    .dataframe thead th {\n",
              "        text-align: right;\n",
              "    }\n",
              "</style>\n",
              "<table border=\"1\" class=\"dataframe\">\n",
              "  <thead>\n",
              "    <tr style=\"text-align: right;\">\n",
              "      <th></th>\n",
              "      <th>order_id</th>\n",
              "      <th>quantity</th>\n",
              "      <th>item_name</th>\n",
              "      <th>choice_description</th>\n",
              "      <th>item_price</th>\n",
              "    </tr>\n",
              "  </thead>\n",
              "  <tbody>\n",
              "    <tr>\n",
              "      <th>0</th>\n",
              "      <td>1</td>\n",
              "      <td>1</td>\n",
              "      <td>Chips and Fresh Tomato Salsa</td>\n",
              "      <td>NaN</td>\n",
              "      <td>2.39</td>\n",
              "    </tr>\n",
              "    <tr>\n",
              "      <th>1</th>\n",
              "      <td>1</td>\n",
              "      <td>1</td>\n",
              "      <td>Izze</td>\n",
              "      <td>[Clementine]</td>\n",
              "      <td>3.39</td>\n",
              "    </tr>\n",
              "    <tr>\n",
              "      <th>2</th>\n",
              "      <td>1</td>\n",
              "      <td>1</td>\n",
              "      <td>Nantucket Nectar</td>\n",
              "      <td>[Apple]</td>\n",
              "      <td>3.39</td>\n",
              "    </tr>\n",
              "    <tr>\n",
              "      <th>3</th>\n",
              "      <td>1</td>\n",
              "      <td>1</td>\n",
              "      <td>Chips and Tomatillo-Green Chili Salsa</td>\n",
              "      <td>NaN</td>\n",
              "      <td>2.39</td>\n",
              "    </tr>\n",
              "    <tr>\n",
              "      <th>4</th>\n",
              "      <td>2</td>\n",
              "      <td>2</td>\n",
              "      <td>Chicken Bowl</td>\n",
              "      <td>[Tomatillo-Red Chili Salsa (Hot), [Black Beans...</td>\n",
              "      <td>16.98</td>\n",
              "    </tr>\n",
              "  </tbody>\n",
              "</table>\n",
              "</div>"
            ],
            "text/plain": [
              "   order_id  ...  item_price\n",
              "0         1  ...        2.39\n",
              "1         1  ...        3.39\n",
              "2         1  ...        3.39\n",
              "3         1  ...        2.39\n",
              "4         2  ...       16.98\n",
              "\n",
              "[5 rows x 5 columns]"
            ]
          },
          "metadata": {
            "tags": []
          },
          "execution_count": 57
        }
      ]
    },
    {
      "cell_type": "code",
      "metadata": {
        "id": "096um31sL5yi",
        "colab_type": "code",
        "colab": {
          "base_uri": "https://localhost:8080/",
          "height": 35
        },
        "outputId": "2a6015a5-1814-4bb6-99c2-f313ee531e60"
      },
      "source": [
        "orders[orders.order_id==1].item_price.sum()"
      ],
      "execution_count": 59,
      "outputs": [
        {
          "output_type": "execute_result",
          "data": {
            "text/plain": [
              "11.56"
            ]
          },
          "metadata": {
            "tags": []
          },
          "execution_count": 59
        }
      ]
    },
    {
      "cell_type": "code",
      "metadata": {
        "id": "xfEA2qeqMahC",
        "colab_type": "code",
        "colab": {
          "base_uri": "https://localhost:8080/",
          "height": 139
        },
        "outputId": "9e23a285-2015-4fd5-cea4-3e3e171f7770"
      },
      "source": [
        "orders.groupby('order_id').item_price.sum().head()"
      ],
      "execution_count": 60,
      "outputs": [
        {
          "output_type": "execute_result",
          "data": {
            "text/plain": [
              "order_id\n",
              "1    11.56\n",
              "2    16.98\n",
              "3    12.67\n",
              "4    21.00\n",
              "5    13.70\n",
              "Name: item_price, dtype: float64"
            ]
          },
          "metadata": {
            "tags": []
          },
          "execution_count": 60
        }
      ]
    },
    {
      "cell_type": "code",
      "metadata": {
        "id": "ZgV2iizWMy-C",
        "colab_type": "code",
        "colab": {
          "base_uri": "https://localhost:8080/",
          "height": 35
        },
        "outputId": "8d985e8c-d016-4144-b890-988c4d9d9740"
      },
      "source": [
        "orders.order_id.value_counts().unique()"
      ],
      "execution_count": 62,
      "outputs": [
        {
          "output_type": "execute_result",
          "data": {
            "text/plain": [
              "array([23, 14, 12, 11, 10,  9,  8,  7,  6,  5,  4,  3,  2,  1])"
            ]
          },
          "metadata": {
            "tags": []
          },
          "execution_count": 62
        }
      ]
    },
    {
      "cell_type": "code",
      "metadata": {
        "id": "E76kCL4KNFBq",
        "colab_type": "code",
        "colab": {
          "base_uri": "https://localhost:8080/",
          "height": 233
        },
        "outputId": "99ac8844-86c6-4831-a9b0-cf5ca9dcc45b"
      },
      "source": [
        "orders.groupby('order_id').item_price.agg(['sum', 'count']).head()  # return: totalprice and numbers for each order_id"
      ],
      "execution_count": 63,
      "outputs": [
        {
          "output_type": "execute_result",
          "data": {
            "text/html": [
              "<div>\n",
              "<style scoped>\n",
              "    .dataframe tbody tr th:only-of-type {\n",
              "        vertical-align: middle;\n",
              "    }\n",
              "\n",
              "    .dataframe tbody tr th {\n",
              "        vertical-align: top;\n",
              "    }\n",
              "\n",
              "    .dataframe thead th {\n",
              "        text-align: right;\n",
              "    }\n",
              "</style>\n",
              "<table border=\"1\" class=\"dataframe\">\n",
              "  <thead>\n",
              "    <tr style=\"text-align: right;\">\n",
              "      <th></th>\n",
              "      <th>sum</th>\n",
              "      <th>count</th>\n",
              "    </tr>\n",
              "    <tr>\n",
              "      <th>order_id</th>\n",
              "      <th></th>\n",
              "      <th></th>\n",
              "    </tr>\n",
              "  </thead>\n",
              "  <tbody>\n",
              "    <tr>\n",
              "      <th>1</th>\n",
              "      <td>11.56</td>\n",
              "      <td>4</td>\n",
              "    </tr>\n",
              "    <tr>\n",
              "      <th>2</th>\n",
              "      <td>16.98</td>\n",
              "      <td>1</td>\n",
              "    </tr>\n",
              "    <tr>\n",
              "      <th>3</th>\n",
              "      <td>12.67</td>\n",
              "      <td>2</td>\n",
              "    </tr>\n",
              "    <tr>\n",
              "      <th>4</th>\n",
              "      <td>21.00</td>\n",
              "      <td>2</td>\n",
              "    </tr>\n",
              "    <tr>\n",
              "      <th>5</th>\n",
              "      <td>13.70</td>\n",
              "      <td>2</td>\n",
              "    </tr>\n",
              "  </tbody>\n",
              "</table>\n",
              "</div>"
            ],
            "text/plain": [
              "            sum  count\n",
              "order_id              \n",
              "1         11.56      4\n",
              "2         16.98      1\n",
              "3         12.67      2\n",
              "4         21.00      2\n",
              "5         13.70      2"
            ]
          },
          "metadata": {
            "tags": []
          },
          "execution_count": 63
        }
      ]
    },
    {
      "cell_type": "markdown",
      "metadata": {
        "id": "QMG7adPjN9ra",
        "colab_type": "text"
      },
      "source": [
        "\n",
        "### Combine the output of an aggregation with a dataframe"
      ]
    },
    {
      "cell_type": "code",
      "metadata": {
        "id": "ScUFk-KeNeiR",
        "colab_type": "code",
        "colab": {
          "base_uri": "https://localhost:8080/",
          "height": 202
        },
        "outputId": "762b03a5-d24e-4424-c92b-4c459752f052"
      },
      "source": [
        "orders.head()"
      ],
      "execution_count": 64,
      "outputs": [
        {
          "output_type": "execute_result",
          "data": {
            "text/html": [
              "<div>\n",
              "<style scoped>\n",
              "    .dataframe tbody tr th:only-of-type {\n",
              "        vertical-align: middle;\n",
              "    }\n",
              "\n",
              "    .dataframe tbody tr th {\n",
              "        vertical-align: top;\n",
              "    }\n",
              "\n",
              "    .dataframe thead th {\n",
              "        text-align: right;\n",
              "    }\n",
              "</style>\n",
              "<table border=\"1\" class=\"dataframe\">\n",
              "  <thead>\n",
              "    <tr style=\"text-align: right;\">\n",
              "      <th></th>\n",
              "      <th>order_id</th>\n",
              "      <th>quantity</th>\n",
              "      <th>item_name</th>\n",
              "      <th>choice_description</th>\n",
              "      <th>item_price</th>\n",
              "    </tr>\n",
              "  </thead>\n",
              "  <tbody>\n",
              "    <tr>\n",
              "      <th>0</th>\n",
              "      <td>1</td>\n",
              "      <td>1</td>\n",
              "      <td>Chips and Fresh Tomato Salsa</td>\n",
              "      <td>NaN</td>\n",
              "      <td>2.39</td>\n",
              "    </tr>\n",
              "    <tr>\n",
              "      <th>1</th>\n",
              "      <td>1</td>\n",
              "      <td>1</td>\n",
              "      <td>Izze</td>\n",
              "      <td>[Clementine]</td>\n",
              "      <td>3.39</td>\n",
              "    </tr>\n",
              "    <tr>\n",
              "      <th>2</th>\n",
              "      <td>1</td>\n",
              "      <td>1</td>\n",
              "      <td>Nantucket Nectar</td>\n",
              "      <td>[Apple]</td>\n",
              "      <td>3.39</td>\n",
              "    </tr>\n",
              "    <tr>\n",
              "      <th>3</th>\n",
              "      <td>1</td>\n",
              "      <td>1</td>\n",
              "      <td>Chips and Tomatillo-Green Chili Salsa</td>\n",
              "      <td>NaN</td>\n",
              "      <td>2.39</td>\n",
              "    </tr>\n",
              "    <tr>\n",
              "      <th>4</th>\n",
              "      <td>2</td>\n",
              "      <td>2</td>\n",
              "      <td>Chicken Bowl</td>\n",
              "      <td>[Tomatillo-Red Chili Salsa (Hot), [Black Beans...</td>\n",
              "      <td>16.98</td>\n",
              "    </tr>\n",
              "  </tbody>\n",
              "</table>\n",
              "</div>"
            ],
            "text/plain": [
              "   order_id  ...  item_price\n",
              "0         1  ...        2.39\n",
              "1         1  ...        3.39\n",
              "2         1  ...        3.39\n",
              "3         1  ...        2.39\n",
              "4         2  ...       16.98\n",
              "\n",
              "[5 rows x 5 columns]"
            ]
          },
          "metadata": {
            "tags": []
          },
          "execution_count": 64
        }
      ]
    },
    {
      "cell_type": "code",
      "metadata": {
        "id": "wret0KK4OJFh",
        "colab_type": "code",
        "colab": {
          "base_uri": "https://localhost:8080/",
          "height": 139
        },
        "outputId": "419ed7db-c48d-42bc-be3e-f0671da32155"
      },
      "source": [
        "orders.groupby('order_id').item_price.sum().head()"
      ],
      "execution_count": 66,
      "outputs": [
        {
          "output_type": "execute_result",
          "data": {
            "text/plain": [
              "order_id\n",
              "1    11.56\n",
              "2    16.98\n",
              "3    12.67\n",
              "4    21.00\n",
              "5    13.70\n",
              "Name: item_price, dtype: float64"
            ]
          },
          "metadata": {
            "tags": []
          },
          "execution_count": 66
        }
      ]
    },
    {
      "cell_type": "code",
      "metadata": {
        "id": "5RI3QRrdOT4p",
        "colab_type": "code",
        "colab": {
          "base_uri": "https://localhost:8080/",
          "height": 35
        },
        "outputId": "96a4fecf-5fa5-4418-d1a2-fed7578f7d9a"
      },
      "source": [
        "len(orders.groupby('order_id').item_price.sum())"
      ],
      "execution_count": 67,
      "outputs": [
        {
          "output_type": "execute_result",
          "data": {
            "text/plain": [
              "1834"
            ]
          },
          "metadata": {
            "tags": []
          },
          "execution_count": 67
        }
      ]
    },
    {
      "cell_type": "code",
      "metadata": {
        "id": "no0rE_N9Oxsh",
        "colab_type": "code",
        "colab": {
          "base_uri": "https://localhost:8080/",
          "height": 35
        },
        "outputId": "457cc6b7-771d-4fd0-9bb5-d020457c3f32"
      },
      "source": [
        "len(orders.item_price) # the output of SUM function is smaller than the input, that does not allow to add the result as new column"
      ],
      "execution_count": 68,
      "outputs": [
        {
          "output_type": "execute_result",
          "data": {
            "text/plain": [
              "4622"
            ]
          },
          "metadata": {
            "tags": []
          },
          "execution_count": 68
        }
      ]
    },
    {
      "cell_type": "code",
      "metadata": {
        "id": "_oM7Apr1O8C5",
        "colab_type": "code",
        "colab": {
          "base_uri": "https://localhost:8080/",
          "height": 35
        },
        "outputId": "02b5bf06-55fc-4909-d0f7-b01655ed3b0f"
      },
      "source": [
        "total_price= orders.groupby('order_id').item_price.transform('sum') # use the transform to have the same number of examples\n",
        "len(total_price)"
      ],
      "execution_count": 70,
      "outputs": [
        {
          "output_type": "execute_result",
          "data": {
            "text/plain": [
              "4622"
            ]
          },
          "metadata": {
            "tags": []
          },
          "execution_count": 70
        }
      ]
    },
    {
      "cell_type": "code",
      "metadata": {
        "id": "kW8ImGkzPVrw",
        "colab_type": "code",
        "colab": {
          "base_uri": "https://localhost:8080/",
          "height": 202
        },
        "outputId": "8eb0ff1e-94f6-4dbd-c25b-e77be4dc22d9"
      },
      "source": [
        "orders['total_price']=total_price\n",
        "orders.head()"
      ],
      "execution_count": 71,
      "outputs": [
        {
          "output_type": "execute_result",
          "data": {
            "text/html": [
              "<div>\n",
              "<style scoped>\n",
              "    .dataframe tbody tr th:only-of-type {\n",
              "        vertical-align: middle;\n",
              "    }\n",
              "\n",
              "    .dataframe tbody tr th {\n",
              "        vertical-align: top;\n",
              "    }\n",
              "\n",
              "    .dataframe thead th {\n",
              "        text-align: right;\n",
              "    }\n",
              "</style>\n",
              "<table border=\"1\" class=\"dataframe\">\n",
              "  <thead>\n",
              "    <tr style=\"text-align: right;\">\n",
              "      <th></th>\n",
              "      <th>order_id</th>\n",
              "      <th>quantity</th>\n",
              "      <th>item_name</th>\n",
              "      <th>choice_description</th>\n",
              "      <th>item_price</th>\n",
              "      <th>total_price</th>\n",
              "    </tr>\n",
              "  </thead>\n",
              "  <tbody>\n",
              "    <tr>\n",
              "      <th>0</th>\n",
              "      <td>1</td>\n",
              "      <td>1</td>\n",
              "      <td>Chips and Fresh Tomato Salsa</td>\n",
              "      <td>NaN</td>\n",
              "      <td>2.39</td>\n",
              "      <td>11.56</td>\n",
              "    </tr>\n",
              "    <tr>\n",
              "      <th>1</th>\n",
              "      <td>1</td>\n",
              "      <td>1</td>\n",
              "      <td>Izze</td>\n",
              "      <td>[Clementine]</td>\n",
              "      <td>3.39</td>\n",
              "      <td>11.56</td>\n",
              "    </tr>\n",
              "    <tr>\n",
              "      <th>2</th>\n",
              "      <td>1</td>\n",
              "      <td>1</td>\n",
              "      <td>Nantucket Nectar</td>\n",
              "      <td>[Apple]</td>\n",
              "      <td>3.39</td>\n",
              "      <td>11.56</td>\n",
              "    </tr>\n",
              "    <tr>\n",
              "      <th>3</th>\n",
              "      <td>1</td>\n",
              "      <td>1</td>\n",
              "      <td>Chips and Tomatillo-Green Chili Salsa</td>\n",
              "      <td>NaN</td>\n",
              "      <td>2.39</td>\n",
              "      <td>11.56</td>\n",
              "    </tr>\n",
              "    <tr>\n",
              "      <th>4</th>\n",
              "      <td>2</td>\n",
              "      <td>2</td>\n",
              "      <td>Chicken Bowl</td>\n",
              "      <td>[Tomatillo-Red Chili Salsa (Hot), [Black Beans...</td>\n",
              "      <td>16.98</td>\n",
              "      <td>16.98</td>\n",
              "    </tr>\n",
              "  </tbody>\n",
              "</table>\n",
              "</div>"
            ],
            "text/plain": [
              "   order_id  quantity  ... item_price total_price\n",
              "0         1         1  ...       2.39       11.56\n",
              "1         1         1  ...       3.39       11.56\n",
              "2         1         1  ...       3.39       11.56\n",
              "3         1         1  ...       2.39       11.56\n",
              "4         2         2  ...      16.98       16.98\n",
              "\n",
              "[5 rows x 6 columns]"
            ]
          },
          "metadata": {
            "tags": []
          },
          "execution_count": 71
        }
      ]
    },
    {
      "cell_type": "markdown",
      "metadata": {
        "id": "_i9Zeu_fQaW7",
        "colab_type": "text"
      },
      "source": [
        "\n",
        "### Select a slice of rows and columns"
      ]
    },
    {
      "cell_type": "code",
      "metadata": {
        "id": "humURVBBQSdj",
        "colab_type": "code",
        "colab": {
          "base_uri": "https://localhost:8080/",
          "height": 202
        },
        "outputId": "a221467b-8fc4-49de-c079-e9fe583a9370"
      },
      "source": [
        "titanic.head()"
      ],
      "execution_count": 72,
      "outputs": [
        {
          "output_type": "execute_result",
          "data": {
            "text/html": [
              "<div>\n",
              "<style scoped>\n",
              "    .dataframe tbody tr th:only-of-type {\n",
              "        vertical-align: middle;\n",
              "    }\n",
              "\n",
              "    .dataframe tbody tr th {\n",
              "        vertical-align: top;\n",
              "    }\n",
              "\n",
              "    .dataframe thead th {\n",
              "        text-align: right;\n",
              "    }\n",
              "</style>\n",
              "<table border=\"1\" class=\"dataframe\">\n",
              "  <thead>\n",
              "    <tr style=\"text-align: right;\">\n",
              "      <th></th>\n",
              "      <th>PassengerId</th>\n",
              "      <th>Survived</th>\n",
              "      <th>Pclass</th>\n",
              "      <th>Name</th>\n",
              "      <th>Sex</th>\n",
              "      <th>Age</th>\n",
              "      <th>SibSp</th>\n",
              "      <th>Parch</th>\n",
              "      <th>Ticket</th>\n",
              "      <th>Fare</th>\n",
              "      <th>Cabin</th>\n",
              "      <th>Embarked</th>\n",
              "    </tr>\n",
              "  </thead>\n",
              "  <tbody>\n",
              "    <tr>\n",
              "      <th>0</th>\n",
              "      <td>1</td>\n",
              "      <td>0</td>\n",
              "      <td>3</td>\n",
              "      <td>Braund, Mr. Owen Harris</td>\n",
              "      <td>male</td>\n",
              "      <td>22.0</td>\n",
              "      <td>1</td>\n",
              "      <td>0</td>\n",
              "      <td>A/5 21171</td>\n",
              "      <td>7.2500</td>\n",
              "      <td>NaN</td>\n",
              "      <td>S</td>\n",
              "    </tr>\n",
              "    <tr>\n",
              "      <th>1</th>\n",
              "      <td>2</td>\n",
              "      <td>1</td>\n",
              "      <td>1</td>\n",
              "      <td>Cumings, Mrs. John Bradley (Florence Briggs Th...</td>\n",
              "      <td>female</td>\n",
              "      <td>38.0</td>\n",
              "      <td>1</td>\n",
              "      <td>0</td>\n",
              "      <td>PC 17599</td>\n",
              "      <td>71.2833</td>\n",
              "      <td>C85</td>\n",
              "      <td>C</td>\n",
              "    </tr>\n",
              "    <tr>\n",
              "      <th>2</th>\n",
              "      <td>3</td>\n",
              "      <td>1</td>\n",
              "      <td>3</td>\n",
              "      <td>Heikkinen, Miss. Laina</td>\n",
              "      <td>female</td>\n",
              "      <td>26.0</td>\n",
              "      <td>0</td>\n",
              "      <td>0</td>\n",
              "      <td>STON/O2. 3101282</td>\n",
              "      <td>7.9250</td>\n",
              "      <td>NaN</td>\n",
              "      <td>S</td>\n",
              "    </tr>\n",
              "    <tr>\n",
              "      <th>3</th>\n",
              "      <td>4</td>\n",
              "      <td>1</td>\n",
              "      <td>1</td>\n",
              "      <td>Futrelle, Mrs. Jacques Heath (Lily May Peel)</td>\n",
              "      <td>female</td>\n",
              "      <td>35.0</td>\n",
              "      <td>1</td>\n",
              "      <td>0</td>\n",
              "      <td>113803</td>\n",
              "      <td>53.1000</td>\n",
              "      <td>C123</td>\n",
              "      <td>S</td>\n",
              "    </tr>\n",
              "    <tr>\n",
              "      <th>4</th>\n",
              "      <td>5</td>\n",
              "      <td>0</td>\n",
              "      <td>3</td>\n",
              "      <td>Allen, Mr. William Henry</td>\n",
              "      <td>male</td>\n",
              "      <td>35.0</td>\n",
              "      <td>0</td>\n",
              "      <td>0</td>\n",
              "      <td>373450</td>\n",
              "      <td>8.0500</td>\n",
              "      <td>NaN</td>\n",
              "      <td>S</td>\n",
              "    </tr>\n",
              "  </tbody>\n",
              "</table>\n",
              "</div>"
            ],
            "text/plain": [
              "   PassengerId  Survived  Pclass  ...     Fare Cabin  Embarked\n",
              "0            1         0       3  ...   7.2500   NaN         S\n",
              "1            2         1       1  ...  71.2833   C85         C\n",
              "2            3         1       3  ...   7.9250   NaN         S\n",
              "3            4         1       1  ...  53.1000  C123         S\n",
              "4            5         0       3  ...   8.0500   NaN         S\n",
              "\n",
              "[5 rows x 12 columns]"
            ]
          },
          "metadata": {
            "tags": []
          },
          "execution_count": 72
        }
      ]
    },
    {
      "cell_type": "code",
      "metadata": {
        "id": "8Fkdd4QAQeEP",
        "colab_type": "code",
        "colab": {
          "base_uri": "https://localhost:8080/",
          "height": 294
        },
        "outputId": "bfb7d87d-dbcb-4089-ac41-860f8155e5d4"
      },
      "source": [
        "titanic.describe()"
      ],
      "execution_count": 73,
      "outputs": [
        {
          "output_type": "execute_result",
          "data": {
            "text/html": [
              "<div>\n",
              "<style scoped>\n",
              "    .dataframe tbody tr th:only-of-type {\n",
              "        vertical-align: middle;\n",
              "    }\n",
              "\n",
              "    .dataframe tbody tr th {\n",
              "        vertical-align: top;\n",
              "    }\n",
              "\n",
              "    .dataframe thead th {\n",
              "        text-align: right;\n",
              "    }\n",
              "</style>\n",
              "<table border=\"1\" class=\"dataframe\">\n",
              "  <thead>\n",
              "    <tr style=\"text-align: right;\">\n",
              "      <th></th>\n",
              "      <th>PassengerId</th>\n",
              "      <th>Survived</th>\n",
              "      <th>Pclass</th>\n",
              "      <th>Age</th>\n",
              "      <th>SibSp</th>\n",
              "      <th>Parch</th>\n",
              "      <th>Fare</th>\n",
              "    </tr>\n",
              "  </thead>\n",
              "  <tbody>\n",
              "    <tr>\n",
              "      <th>count</th>\n",
              "      <td>891.000000</td>\n",
              "      <td>891.000000</td>\n",
              "      <td>891.000000</td>\n",
              "      <td>714.000000</td>\n",
              "      <td>891.000000</td>\n",
              "      <td>891.000000</td>\n",
              "      <td>891.000000</td>\n",
              "    </tr>\n",
              "    <tr>\n",
              "      <th>mean</th>\n",
              "      <td>446.000000</td>\n",
              "      <td>0.383838</td>\n",
              "      <td>2.308642</td>\n",
              "      <td>29.699118</td>\n",
              "      <td>0.523008</td>\n",
              "      <td>0.381594</td>\n",
              "      <td>32.204208</td>\n",
              "    </tr>\n",
              "    <tr>\n",
              "      <th>std</th>\n",
              "      <td>257.353842</td>\n",
              "      <td>0.486592</td>\n",
              "      <td>0.836071</td>\n",
              "      <td>14.526497</td>\n",
              "      <td>1.102743</td>\n",
              "      <td>0.806057</td>\n",
              "      <td>49.693429</td>\n",
              "    </tr>\n",
              "    <tr>\n",
              "      <th>min</th>\n",
              "      <td>1.000000</td>\n",
              "      <td>0.000000</td>\n",
              "      <td>1.000000</td>\n",
              "      <td>0.420000</td>\n",
              "      <td>0.000000</td>\n",
              "      <td>0.000000</td>\n",
              "      <td>0.000000</td>\n",
              "    </tr>\n",
              "    <tr>\n",
              "      <th>25%</th>\n",
              "      <td>223.500000</td>\n",
              "      <td>0.000000</td>\n",
              "      <td>2.000000</td>\n",
              "      <td>20.125000</td>\n",
              "      <td>0.000000</td>\n",
              "      <td>0.000000</td>\n",
              "      <td>7.910400</td>\n",
              "    </tr>\n",
              "    <tr>\n",
              "      <th>50%</th>\n",
              "      <td>446.000000</td>\n",
              "      <td>0.000000</td>\n",
              "      <td>3.000000</td>\n",
              "      <td>28.000000</td>\n",
              "      <td>0.000000</td>\n",
              "      <td>0.000000</td>\n",
              "      <td>14.454200</td>\n",
              "    </tr>\n",
              "    <tr>\n",
              "      <th>75%</th>\n",
              "      <td>668.500000</td>\n",
              "      <td>1.000000</td>\n",
              "      <td>3.000000</td>\n",
              "      <td>38.000000</td>\n",
              "      <td>1.000000</td>\n",
              "      <td>0.000000</td>\n",
              "      <td>31.000000</td>\n",
              "    </tr>\n",
              "    <tr>\n",
              "      <th>max</th>\n",
              "      <td>891.000000</td>\n",
              "      <td>1.000000</td>\n",
              "      <td>3.000000</td>\n",
              "      <td>80.000000</td>\n",
              "      <td>8.000000</td>\n",
              "      <td>6.000000</td>\n",
              "      <td>512.329200</td>\n",
              "    </tr>\n",
              "  </tbody>\n",
              "</table>\n",
              "</div>"
            ],
            "text/plain": [
              "       PassengerId    Survived      Pclass  ...       SibSp       Parch        Fare\n",
              "count   891.000000  891.000000  891.000000  ...  891.000000  891.000000  891.000000\n",
              "mean    446.000000    0.383838    2.308642  ...    0.523008    0.381594   32.204208\n",
              "std     257.353842    0.486592    0.836071  ...    1.102743    0.806057   49.693429\n",
              "min       1.000000    0.000000    1.000000  ...    0.000000    0.000000    0.000000\n",
              "25%     223.500000    0.000000    2.000000  ...    0.000000    0.000000    7.910400\n",
              "50%     446.000000    0.000000    3.000000  ...    0.000000    0.000000   14.454200\n",
              "75%     668.500000    1.000000    3.000000  ...    1.000000    0.000000   31.000000\n",
              "max     891.000000    1.000000    3.000000  ...    8.000000    6.000000  512.329200\n",
              "\n",
              "[8 rows x 7 columns]"
            ]
          },
          "metadata": {
            "tags": []
          },
          "execution_count": 73
        }
      ]
    },
    {
      "cell_type": "code",
      "metadata": {
        "id": "kFrmGc-QQlTj",
        "colab_type": "code",
        "colab": {
          "base_uri": "https://localhost:8080/",
          "height": 202
        },
        "outputId": "8af7ceeb-a606-4119-f03f-b1bf781ae726"
      },
      "source": [
        "titanic.describe().loc['min':'max']"
      ],
      "execution_count": 75,
      "outputs": [
        {
          "output_type": "execute_result",
          "data": {
            "text/html": [
              "<div>\n",
              "<style scoped>\n",
              "    .dataframe tbody tr th:only-of-type {\n",
              "        vertical-align: middle;\n",
              "    }\n",
              "\n",
              "    .dataframe tbody tr th {\n",
              "        vertical-align: top;\n",
              "    }\n",
              "\n",
              "    .dataframe thead th {\n",
              "        text-align: right;\n",
              "    }\n",
              "</style>\n",
              "<table border=\"1\" class=\"dataframe\">\n",
              "  <thead>\n",
              "    <tr style=\"text-align: right;\">\n",
              "      <th></th>\n",
              "      <th>PassengerId</th>\n",
              "      <th>Survived</th>\n",
              "      <th>Pclass</th>\n",
              "      <th>Age</th>\n",
              "      <th>SibSp</th>\n",
              "      <th>Parch</th>\n",
              "      <th>Fare</th>\n",
              "    </tr>\n",
              "  </thead>\n",
              "  <tbody>\n",
              "    <tr>\n",
              "      <th>min</th>\n",
              "      <td>1.0</td>\n",
              "      <td>0.0</td>\n",
              "      <td>1.0</td>\n",
              "      <td>0.420</td>\n",
              "      <td>0.0</td>\n",
              "      <td>0.0</td>\n",
              "      <td>0.0000</td>\n",
              "    </tr>\n",
              "    <tr>\n",
              "      <th>25%</th>\n",
              "      <td>223.5</td>\n",
              "      <td>0.0</td>\n",
              "      <td>2.0</td>\n",
              "      <td>20.125</td>\n",
              "      <td>0.0</td>\n",
              "      <td>0.0</td>\n",
              "      <td>7.9104</td>\n",
              "    </tr>\n",
              "    <tr>\n",
              "      <th>50%</th>\n",
              "      <td>446.0</td>\n",
              "      <td>0.0</td>\n",
              "      <td>3.0</td>\n",
              "      <td>28.000</td>\n",
              "      <td>0.0</td>\n",
              "      <td>0.0</td>\n",
              "      <td>14.4542</td>\n",
              "    </tr>\n",
              "    <tr>\n",
              "      <th>75%</th>\n",
              "      <td>668.5</td>\n",
              "      <td>1.0</td>\n",
              "      <td>3.0</td>\n",
              "      <td>38.000</td>\n",
              "      <td>1.0</td>\n",
              "      <td>0.0</td>\n",
              "      <td>31.0000</td>\n",
              "    </tr>\n",
              "    <tr>\n",
              "      <th>max</th>\n",
              "      <td>891.0</td>\n",
              "      <td>1.0</td>\n",
              "      <td>3.0</td>\n",
              "      <td>80.000</td>\n",
              "      <td>8.0</td>\n",
              "      <td>6.0</td>\n",
              "      <td>512.3292</td>\n",
              "    </tr>\n",
              "  </tbody>\n",
              "</table>\n",
              "</div>"
            ],
            "text/plain": [
              "     PassengerId  Survived  Pclass     Age  SibSp  Parch      Fare\n",
              "min          1.0       0.0     1.0   0.420    0.0    0.0    0.0000\n",
              "25%        223.5       0.0     2.0  20.125    0.0    0.0    7.9104\n",
              "50%        446.0       0.0     3.0  28.000    0.0    0.0   14.4542\n",
              "75%        668.5       1.0     3.0  38.000    1.0    0.0   31.0000\n",
              "max        891.0       1.0     3.0  80.000    8.0    6.0  512.3292"
            ]
          },
          "metadata": {
            "tags": []
          },
          "execution_count": 75
        }
      ]
    },
    {
      "cell_type": "code",
      "metadata": {
        "id": "qyJQ3n1mQqkg",
        "colab_type": "code",
        "colab": {
          "base_uri": "https://localhost:8080/",
          "height": 202
        },
        "outputId": "2c575e32-bda1-4dc7-9912-0eb78aba791f"
      },
      "source": [
        "titanic.describe().loc['min':'max',  'Pclass':'Parch']"
      ],
      "execution_count": 78,
      "outputs": [
        {
          "output_type": "execute_result",
          "data": {
            "text/html": [
              "<div>\n",
              "<style scoped>\n",
              "    .dataframe tbody tr th:only-of-type {\n",
              "        vertical-align: middle;\n",
              "    }\n",
              "\n",
              "    .dataframe tbody tr th {\n",
              "        vertical-align: top;\n",
              "    }\n",
              "\n",
              "    .dataframe thead th {\n",
              "        text-align: right;\n",
              "    }\n",
              "</style>\n",
              "<table border=\"1\" class=\"dataframe\">\n",
              "  <thead>\n",
              "    <tr style=\"text-align: right;\">\n",
              "      <th></th>\n",
              "      <th>Pclass</th>\n",
              "      <th>Age</th>\n",
              "      <th>SibSp</th>\n",
              "      <th>Parch</th>\n",
              "    </tr>\n",
              "  </thead>\n",
              "  <tbody>\n",
              "    <tr>\n",
              "      <th>min</th>\n",
              "      <td>1.0</td>\n",
              "      <td>0.420</td>\n",
              "      <td>0.0</td>\n",
              "      <td>0.0</td>\n",
              "    </tr>\n",
              "    <tr>\n",
              "      <th>25%</th>\n",
              "      <td>2.0</td>\n",
              "      <td>20.125</td>\n",
              "      <td>0.0</td>\n",
              "      <td>0.0</td>\n",
              "    </tr>\n",
              "    <tr>\n",
              "      <th>50%</th>\n",
              "      <td>3.0</td>\n",
              "      <td>28.000</td>\n",
              "      <td>0.0</td>\n",
              "      <td>0.0</td>\n",
              "    </tr>\n",
              "    <tr>\n",
              "      <th>75%</th>\n",
              "      <td>3.0</td>\n",
              "      <td>38.000</td>\n",
              "      <td>1.0</td>\n",
              "      <td>0.0</td>\n",
              "    </tr>\n",
              "    <tr>\n",
              "      <th>max</th>\n",
              "      <td>3.0</td>\n",
              "      <td>80.000</td>\n",
              "      <td>8.0</td>\n",
              "      <td>6.0</td>\n",
              "    </tr>\n",
              "  </tbody>\n",
              "</table>\n",
              "</div>"
            ],
            "text/plain": [
              "     Pclass     Age  SibSp  Parch\n",
              "min     1.0   0.420    0.0    0.0\n",
              "25%     2.0  20.125    0.0    0.0\n",
              "50%     3.0  28.000    0.0    0.0\n",
              "75%     3.0  38.000    1.0    0.0\n",
              "max     3.0  80.000    8.0    6.0"
            ]
          },
          "metadata": {
            "tags": []
          },
          "execution_count": 78
        }
      ]
    },
    {
      "cell_type": "markdown",
      "metadata": {
        "id": "2mjiYvooRETp",
        "colab_type": "text"
      },
      "source": [
        "### Reshap a Multiindexed Series"
      ]
    },
    {
      "cell_type": "code",
      "metadata": {
        "id": "8pD-PwNZQ7Xg",
        "colab_type": "code",
        "colab": {
          "base_uri": "https://localhost:8080/",
          "height": 35
        },
        "outputId": "e1916b54-a95c-4ba1-bbe1-d688416ca2a2"
      },
      "source": [
        "titanic.Survived.mean()"
      ],
      "execution_count": 80,
      "outputs": [
        {
          "output_type": "execute_result",
          "data": {
            "text/plain": [
              "0.3838383838383838"
            ]
          },
          "metadata": {
            "tags": []
          },
          "execution_count": 80
        }
      ]
    },
    {
      "cell_type": "code",
      "metadata": {
        "id": "wV2tpvKNRJfv",
        "colab_type": "code",
        "colab": {
          "base_uri": "https://localhost:8080/",
          "height": 87
        },
        "outputId": "01f9ad0b-7dd6-44cb-8ca5-6711b3394f49"
      },
      "source": [
        "titanic.groupby('Sex').Survived.mean()"
      ],
      "execution_count": 81,
      "outputs": [
        {
          "output_type": "execute_result",
          "data": {
            "text/plain": [
              "Sex\n",
              "female    0.742038\n",
              "male      0.188908\n",
              "Name: Survived, dtype: float64"
            ]
          },
          "metadata": {
            "tags": []
          },
          "execution_count": 81
        }
      ]
    },
    {
      "cell_type": "code",
      "metadata": {
        "id": "LwOTa7_yRRpf",
        "colab_type": "code",
        "colab": {
          "base_uri": "https://localhost:8080/",
          "height": 156
        },
        "outputId": "9b8cc9e6-164b-4060-a7b6-c1fb45033bf6"
      },
      "source": [
        "titanic.groupby(['Sex', 'Pclass']).Survived.mean() # for every passengr sex and class it shows the survival rate"
      ],
      "execution_count": 83,
      "outputs": [
        {
          "output_type": "execute_result",
          "data": {
            "text/plain": [
              "Sex     Pclass\n",
              "female  1         0.968085\n",
              "        2         0.921053\n",
              "        3         0.500000\n",
              "male    1         0.368852\n",
              "        2         0.157407\n",
              "        3         0.135447\n",
              "Name: Survived, dtype: float64"
            ]
          },
          "metadata": {
            "tags": []
          },
          "execution_count": 83
        }
      ]
    },
    {
      "cell_type": "code",
      "metadata": {
        "id": "XyWN6VW1Rilo",
        "colab_type": "code",
        "colab": {
          "base_uri": "https://localhost:8080/",
          "height": 141
        },
        "outputId": "1285182f-946f-4e61-81c3-58e99702e3a8"
      },
      "source": [
        "titanic.groupby(['Sex','Pclass']).Survived.mean().unstack() # unstack: reshape the multiindexed Series into DataFrame"
      ],
      "execution_count": 88,
      "outputs": [
        {
          "output_type": "execute_result",
          "data": {
            "text/html": [
              "<div>\n",
              "<style scoped>\n",
              "    .dataframe tbody tr th:only-of-type {\n",
              "        vertical-align: middle;\n",
              "    }\n",
              "\n",
              "    .dataframe tbody tr th {\n",
              "        vertical-align: top;\n",
              "    }\n",
              "\n",
              "    .dataframe thead th {\n",
              "        text-align: right;\n",
              "    }\n",
              "</style>\n",
              "<table border=\"1\" class=\"dataframe\">\n",
              "  <thead>\n",
              "    <tr style=\"text-align: right;\">\n",
              "      <th>Pclass</th>\n",
              "      <th>1</th>\n",
              "      <th>2</th>\n",
              "      <th>3</th>\n",
              "    </tr>\n",
              "    <tr>\n",
              "      <th>Sex</th>\n",
              "      <th></th>\n",
              "      <th></th>\n",
              "      <th></th>\n",
              "    </tr>\n",
              "  </thead>\n",
              "  <tbody>\n",
              "    <tr>\n",
              "      <th>female</th>\n",
              "      <td>0.968085</td>\n",
              "      <td>0.921053</td>\n",
              "      <td>0.500000</td>\n",
              "    </tr>\n",
              "    <tr>\n",
              "      <th>male</th>\n",
              "      <td>0.368852</td>\n",
              "      <td>0.157407</td>\n",
              "      <td>0.135447</td>\n",
              "    </tr>\n",
              "  </tbody>\n",
              "</table>\n",
              "</div>"
            ],
            "text/plain": [
              "Pclass         1         2         3\n",
              "Sex                                 \n",
              "female  0.968085  0.921053  0.500000\n",
              "male    0.368852  0.157407  0.135447"
            ]
          },
          "metadata": {
            "tags": []
          },
          "execution_count": 88
        }
      ]
    },
    {
      "cell_type": "markdown",
      "metadata": {
        "id": "Zi8il5bMS50l",
        "colab_type": "text"
      },
      "source": [
        "\n",
        "### Create a Pivot table"
      ]
    },
    {
      "cell_type": "code",
      "metadata": {
        "id": "pCqCzEh6SVci",
        "colab_type": "code",
        "colab": {
          "base_uri": "https://localhost:8080/",
          "height": 141
        },
        "outputId": "959f06b2-eaa9-4c95-e4a7-a7e7a36db42d"
      },
      "source": [
        "titanic.pivot_table(index='Sex', columns='Pclass', values='Survived', aggfunc='mean') # values with aggregation function"
      ],
      "execution_count": 89,
      "outputs": [
        {
          "output_type": "execute_result",
          "data": {
            "text/html": [
              "<div>\n",
              "<style scoped>\n",
              "    .dataframe tbody tr th:only-of-type {\n",
              "        vertical-align: middle;\n",
              "    }\n",
              "\n",
              "    .dataframe tbody tr th {\n",
              "        vertical-align: top;\n",
              "    }\n",
              "\n",
              "    .dataframe thead th {\n",
              "        text-align: right;\n",
              "    }\n",
              "</style>\n",
              "<table border=\"1\" class=\"dataframe\">\n",
              "  <thead>\n",
              "    <tr style=\"text-align: right;\">\n",
              "      <th>Pclass</th>\n",
              "      <th>1</th>\n",
              "      <th>2</th>\n",
              "      <th>3</th>\n",
              "    </tr>\n",
              "    <tr>\n",
              "      <th>Sex</th>\n",
              "      <th></th>\n",
              "      <th></th>\n",
              "      <th></th>\n",
              "    </tr>\n",
              "  </thead>\n",
              "  <tbody>\n",
              "    <tr>\n",
              "      <th>female</th>\n",
              "      <td>0.968085</td>\n",
              "      <td>0.921053</td>\n",
              "      <td>0.500000</td>\n",
              "    </tr>\n",
              "    <tr>\n",
              "      <th>male</th>\n",
              "      <td>0.368852</td>\n",
              "      <td>0.157407</td>\n",
              "      <td>0.135447</td>\n",
              "    </tr>\n",
              "  </tbody>\n",
              "</table>\n",
              "</div>"
            ],
            "text/plain": [
              "Pclass         1         2         3\n",
              "Sex                                 \n",
              "female  0.968085  0.921053  0.500000\n",
              "male    0.368852  0.157407  0.135447"
            ]
          },
          "metadata": {
            "tags": []
          },
          "execution_count": 89
        }
      ]
    },
    {
      "cell_type": "code",
      "metadata": {
        "id": "jiVlM7IfTOMv",
        "colab_type": "code",
        "colab": {
          "base_uri": "https://localhost:8080/",
          "height": 171
        },
        "outputId": "f2f4862c-6dcd-4968-9e63-8bceab6b6763"
      },
      "source": [
        "titanic.pivot_table(index='Sex', columns='Pclass', values='Survived', aggfunc='mean', margins=True)# add row/column totals"
      ],
      "execution_count": 90,
      "outputs": [
        {
          "output_type": "execute_result",
          "data": {
            "text/html": [
              "<div>\n",
              "<style scoped>\n",
              "    .dataframe tbody tr th:only-of-type {\n",
              "        vertical-align: middle;\n",
              "    }\n",
              "\n",
              "    .dataframe tbody tr th {\n",
              "        vertical-align: top;\n",
              "    }\n",
              "\n",
              "    .dataframe thead th {\n",
              "        text-align: right;\n",
              "    }\n",
              "</style>\n",
              "<table border=\"1\" class=\"dataframe\">\n",
              "  <thead>\n",
              "    <tr style=\"text-align: right;\">\n",
              "      <th>Pclass</th>\n",
              "      <th>1</th>\n",
              "      <th>2</th>\n",
              "      <th>3</th>\n",
              "      <th>All</th>\n",
              "    </tr>\n",
              "    <tr>\n",
              "      <th>Sex</th>\n",
              "      <th></th>\n",
              "      <th></th>\n",
              "      <th></th>\n",
              "      <th></th>\n",
              "    </tr>\n",
              "  </thead>\n",
              "  <tbody>\n",
              "    <tr>\n",
              "      <th>female</th>\n",
              "      <td>0.968085</td>\n",
              "      <td>0.921053</td>\n",
              "      <td>0.500000</td>\n",
              "      <td>0.742038</td>\n",
              "    </tr>\n",
              "    <tr>\n",
              "      <th>male</th>\n",
              "      <td>0.368852</td>\n",
              "      <td>0.157407</td>\n",
              "      <td>0.135447</td>\n",
              "      <td>0.188908</td>\n",
              "    </tr>\n",
              "    <tr>\n",
              "      <th>All</th>\n",
              "      <td>0.629630</td>\n",
              "      <td>0.472826</td>\n",
              "      <td>0.242363</td>\n",
              "      <td>0.383838</td>\n",
              "    </tr>\n",
              "  </tbody>\n",
              "</table>\n",
              "</div>"
            ],
            "text/plain": [
              "Pclass         1         2         3       All\n",
              "Sex                                           \n",
              "female  0.968085  0.921053  0.500000  0.742038\n",
              "male    0.368852  0.157407  0.135447  0.188908\n",
              "All     0.629630  0.472826  0.242363  0.383838"
            ]
          },
          "metadata": {
            "tags": []
          },
          "execution_count": 90
        }
      ]
    },
    {
      "cell_type": "code",
      "metadata": {
        "id": "rJTRViRZTzQW",
        "colab_type": "code",
        "colab": {
          "base_uri": "https://localhost:8080/",
          "height": 171
        },
        "outputId": "b71f1de8-9e7f-4d05-c3cf-2b129d38fb82"
      },
      "source": [
        "titanic.pivot_table(index='Sex', columns='Pclass', values='Survived', aggfunc='count', margins=True)# shows the number of records"
      ],
      "execution_count": 91,
      "outputs": [
        {
          "output_type": "execute_result",
          "data": {
            "text/html": [
              "<div>\n",
              "<style scoped>\n",
              "    .dataframe tbody tr th:only-of-type {\n",
              "        vertical-align: middle;\n",
              "    }\n",
              "\n",
              "    .dataframe tbody tr th {\n",
              "        vertical-align: top;\n",
              "    }\n",
              "\n",
              "    .dataframe thead th {\n",
              "        text-align: right;\n",
              "    }\n",
              "</style>\n",
              "<table border=\"1\" class=\"dataframe\">\n",
              "  <thead>\n",
              "    <tr style=\"text-align: right;\">\n",
              "      <th>Pclass</th>\n",
              "      <th>1</th>\n",
              "      <th>2</th>\n",
              "      <th>3</th>\n",
              "      <th>All</th>\n",
              "    </tr>\n",
              "    <tr>\n",
              "      <th>Sex</th>\n",
              "      <th></th>\n",
              "      <th></th>\n",
              "      <th></th>\n",
              "      <th></th>\n",
              "    </tr>\n",
              "  </thead>\n",
              "  <tbody>\n",
              "    <tr>\n",
              "      <th>female</th>\n",
              "      <td>94</td>\n",
              "      <td>76</td>\n",
              "      <td>144</td>\n",
              "      <td>314</td>\n",
              "    </tr>\n",
              "    <tr>\n",
              "      <th>male</th>\n",
              "      <td>122</td>\n",
              "      <td>108</td>\n",
              "      <td>347</td>\n",
              "      <td>577</td>\n",
              "    </tr>\n",
              "    <tr>\n",
              "      <th>All</th>\n",
              "      <td>216</td>\n",
              "      <td>184</td>\n",
              "      <td>491</td>\n",
              "      <td>891</td>\n",
              "    </tr>\n",
              "  </tbody>\n",
              "</table>\n",
              "</div>"
            ],
            "text/plain": [
              "Pclass    1    2    3  All\n",
              "Sex                       \n",
              "female   94   76  144  314\n",
              "male    122  108  347  577\n",
              "All     216  184  491  891"
            ]
          },
          "metadata": {
            "tags": []
          },
          "execution_count": 91
        }
      ]
    },
    {
      "cell_type": "markdown",
      "metadata": {
        "id": "8QknML1PUPTi",
        "colab_type": "text"
      },
      "source": [
        "### Convert Continuous data into Categorical data"
      ]
    },
    {
      "cell_type": "code",
      "metadata": {
        "id": "1QxdbY49UH-Q",
        "colab_type": "code",
        "colab": {
          "base_uri": "https://localhost:8080/",
          "height": 208
        },
        "outputId": "839ed004-f8d9-4eba-f3b8-94d8902276df"
      },
      "source": [
        "titanic.Age.head(10)"
      ],
      "execution_count": 93,
      "outputs": [
        {
          "output_type": "execute_result",
          "data": {
            "text/plain": [
              "0    22.0\n",
              "1    38.0\n",
              "2    26.0\n",
              "3    35.0\n",
              "4    35.0\n",
              "5     NaN\n",
              "6    54.0\n",
              "7     2.0\n",
              "8    27.0\n",
              "9    14.0\n",
              "Name: Age, dtype: float64"
            ]
          },
          "metadata": {
            "tags": []
          },
          "execution_count": 93
        }
      ]
    },
    {
      "cell_type": "code",
      "metadata": {
        "id": "f7NR-vtQUZ-P",
        "colab_type": "code",
        "colab": {
          "base_uri": "https://localhost:8080/",
          "height": 225
        },
        "outputId": "3f96e653-5fae-4e73-d634-4f87eb6f4ac1"
      },
      "source": [
        "pd.cut(titanic.Age, bins=[0, 18, 25, 99], labels=['child', 'young adult', 'adult']).head(10)"
      ],
      "execution_count": 96,
      "outputs": [
        {
          "output_type": "execute_result",
          "data": {
            "text/plain": [
              "0    young adult\n",
              "1          adult\n",
              "2          adult\n",
              "3          adult\n",
              "4          adult\n",
              "5            NaN\n",
              "6          adult\n",
              "7          child\n",
              "8          adult\n",
              "9          child\n",
              "Name: Age, dtype: category\n",
              "Categories (3, object): [child < young adult < adult]"
            ]
          },
          "metadata": {
            "tags": []
          },
          "execution_count": 96
        }
      ]
    },
    {
      "cell_type": "markdown",
      "metadata": {
        "id": "sZ4Zg4jVVZU7",
        "colab_type": "text"
      },
      "source": [
        "### Change display options"
      ]
    },
    {
      "cell_type": "code",
      "metadata": {
        "id": "fL5zS508U6g-",
        "colab_type": "code",
        "colab": {
          "base_uri": "https://localhost:8080/",
          "height": 202
        },
        "outputId": "c749719a-900d-44cd-b31e-d82cae9b26e5"
      },
      "source": [
        "titanic.head() # age column has 1 decimal place but the fare has 4 decimal places"
      ],
      "execution_count": 97,
      "outputs": [
        {
          "output_type": "execute_result",
          "data": {
            "text/html": [
              "<div>\n",
              "<style scoped>\n",
              "    .dataframe tbody tr th:only-of-type {\n",
              "        vertical-align: middle;\n",
              "    }\n",
              "\n",
              "    .dataframe tbody tr th {\n",
              "        vertical-align: top;\n",
              "    }\n",
              "\n",
              "    .dataframe thead th {\n",
              "        text-align: right;\n",
              "    }\n",
              "</style>\n",
              "<table border=\"1\" class=\"dataframe\">\n",
              "  <thead>\n",
              "    <tr style=\"text-align: right;\">\n",
              "      <th></th>\n",
              "      <th>PassengerId</th>\n",
              "      <th>Survived</th>\n",
              "      <th>Pclass</th>\n",
              "      <th>Name</th>\n",
              "      <th>Sex</th>\n",
              "      <th>Age</th>\n",
              "      <th>SibSp</th>\n",
              "      <th>Parch</th>\n",
              "      <th>Ticket</th>\n",
              "      <th>Fare</th>\n",
              "      <th>Cabin</th>\n",
              "      <th>Embarked</th>\n",
              "    </tr>\n",
              "  </thead>\n",
              "  <tbody>\n",
              "    <tr>\n",
              "      <th>0</th>\n",
              "      <td>1</td>\n",
              "      <td>0</td>\n",
              "      <td>3</td>\n",
              "      <td>Braund, Mr. Owen Harris</td>\n",
              "      <td>male</td>\n",
              "      <td>22.0</td>\n",
              "      <td>1</td>\n",
              "      <td>0</td>\n",
              "      <td>A/5 21171</td>\n",
              "      <td>7.2500</td>\n",
              "      <td>NaN</td>\n",
              "      <td>S</td>\n",
              "    </tr>\n",
              "    <tr>\n",
              "      <th>1</th>\n",
              "      <td>2</td>\n",
              "      <td>1</td>\n",
              "      <td>1</td>\n",
              "      <td>Cumings, Mrs. John Bradley (Florence Briggs Th...</td>\n",
              "      <td>female</td>\n",
              "      <td>38.0</td>\n",
              "      <td>1</td>\n",
              "      <td>0</td>\n",
              "      <td>PC 17599</td>\n",
              "      <td>71.2833</td>\n",
              "      <td>C85</td>\n",
              "      <td>C</td>\n",
              "    </tr>\n",
              "    <tr>\n",
              "      <th>2</th>\n",
              "      <td>3</td>\n",
              "      <td>1</td>\n",
              "      <td>3</td>\n",
              "      <td>Heikkinen, Miss. Laina</td>\n",
              "      <td>female</td>\n",
              "      <td>26.0</td>\n",
              "      <td>0</td>\n",
              "      <td>0</td>\n",
              "      <td>STON/O2. 3101282</td>\n",
              "      <td>7.9250</td>\n",
              "      <td>NaN</td>\n",
              "      <td>S</td>\n",
              "    </tr>\n",
              "    <tr>\n",
              "      <th>3</th>\n",
              "      <td>4</td>\n",
              "      <td>1</td>\n",
              "      <td>1</td>\n",
              "      <td>Futrelle, Mrs. Jacques Heath (Lily May Peel)</td>\n",
              "      <td>female</td>\n",
              "      <td>35.0</td>\n",
              "      <td>1</td>\n",
              "      <td>0</td>\n",
              "      <td>113803</td>\n",
              "      <td>53.1000</td>\n",
              "      <td>C123</td>\n",
              "      <td>S</td>\n",
              "    </tr>\n",
              "    <tr>\n",
              "      <th>4</th>\n",
              "      <td>5</td>\n",
              "      <td>0</td>\n",
              "      <td>3</td>\n",
              "      <td>Allen, Mr. William Henry</td>\n",
              "      <td>male</td>\n",
              "      <td>35.0</td>\n",
              "      <td>0</td>\n",
              "      <td>0</td>\n",
              "      <td>373450</td>\n",
              "      <td>8.0500</td>\n",
              "      <td>NaN</td>\n",
              "      <td>S</td>\n",
              "    </tr>\n",
              "  </tbody>\n",
              "</table>\n",
              "</div>"
            ],
            "text/plain": [
              "   PassengerId  Survived  Pclass  ...     Fare Cabin  Embarked\n",
              "0            1         0       3  ...   7.2500   NaN         S\n",
              "1            2         1       1  ...  71.2833   C85         C\n",
              "2            3         1       3  ...   7.9250   NaN         S\n",
              "3            4         1       1  ...  53.1000  C123         S\n",
              "4            5         0       3  ...   8.0500   NaN         S\n",
              "\n",
              "[5 rows x 12 columns]"
            ]
          },
          "metadata": {
            "tags": []
          },
          "execution_count": 97
        }
      ]
    },
    {
      "cell_type": "code",
      "metadata": {
        "id": "Bi6qQ6fWVicQ",
        "colab_type": "code",
        "colab": {}
      },
      "source": [
        "pd.set_option('display.float_format', '{:,.2f}'.format) # "
      ],
      "execution_count": 104,
      "outputs": []
    },
    {
      "cell_type": "code",
      "metadata": {
        "id": "QtDUR1bPY_Sv",
        "colab_type": "code",
        "colab": {
          "base_uri": "https://localhost:8080/",
          "height": 202
        },
        "outputId": "0f92f0e0-e135-4a5a-de50-7ae0ec2e864d"
      },
      "source": [
        "titanic.head()  # it changes the display of the data"
      ],
      "execution_count": 105,
      "outputs": [
        {
          "output_type": "execute_result",
          "data": {
            "text/html": [
              "<div>\n",
              "<style scoped>\n",
              "    .dataframe tbody tr th:only-of-type {\n",
              "        vertical-align: middle;\n",
              "    }\n",
              "\n",
              "    .dataframe tbody tr th {\n",
              "        vertical-align: top;\n",
              "    }\n",
              "\n",
              "    .dataframe thead th {\n",
              "        text-align: right;\n",
              "    }\n",
              "</style>\n",
              "<table border=\"1\" class=\"dataframe\">\n",
              "  <thead>\n",
              "    <tr style=\"text-align: right;\">\n",
              "      <th></th>\n",
              "      <th>PassengerId</th>\n",
              "      <th>Survived</th>\n",
              "      <th>Pclass</th>\n",
              "      <th>Name</th>\n",
              "      <th>Sex</th>\n",
              "      <th>Age</th>\n",
              "      <th>SibSp</th>\n",
              "      <th>Parch</th>\n",
              "      <th>Ticket</th>\n",
              "      <th>Fare</th>\n",
              "      <th>Cabin</th>\n",
              "      <th>Embarked</th>\n",
              "    </tr>\n",
              "  </thead>\n",
              "  <tbody>\n",
              "    <tr>\n",
              "      <th>0</th>\n",
              "      <td>1</td>\n",
              "      <td>0</td>\n",
              "      <td>3</td>\n",
              "      <td>Braund, Mr. Owen Harris</td>\n",
              "      <td>male</td>\n",
              "      <td>22.00</td>\n",
              "      <td>1</td>\n",
              "      <td>0</td>\n",
              "      <td>A/5 21171</td>\n",
              "      <td>7.25</td>\n",
              "      <td>NaN</td>\n",
              "      <td>S</td>\n",
              "    </tr>\n",
              "    <tr>\n",
              "      <th>1</th>\n",
              "      <td>2</td>\n",
              "      <td>1</td>\n",
              "      <td>1</td>\n",
              "      <td>Cumings, Mrs. John Bradley (Florence Briggs Th...</td>\n",
              "      <td>female</td>\n",
              "      <td>38.00</td>\n",
              "      <td>1</td>\n",
              "      <td>0</td>\n",
              "      <td>PC 17599</td>\n",
              "      <td>71.28</td>\n",
              "      <td>C85</td>\n",
              "      <td>C</td>\n",
              "    </tr>\n",
              "    <tr>\n",
              "      <th>2</th>\n",
              "      <td>3</td>\n",
              "      <td>1</td>\n",
              "      <td>3</td>\n",
              "      <td>Heikkinen, Miss. Laina</td>\n",
              "      <td>female</td>\n",
              "      <td>26.00</td>\n",
              "      <td>0</td>\n",
              "      <td>0</td>\n",
              "      <td>STON/O2. 3101282</td>\n",
              "      <td>7.92</td>\n",
              "      <td>NaN</td>\n",
              "      <td>S</td>\n",
              "    </tr>\n",
              "    <tr>\n",
              "      <th>3</th>\n",
              "      <td>4</td>\n",
              "      <td>1</td>\n",
              "      <td>1</td>\n",
              "      <td>Futrelle, Mrs. Jacques Heath (Lily May Peel)</td>\n",
              "      <td>female</td>\n",
              "      <td>35.00</td>\n",
              "      <td>1</td>\n",
              "      <td>0</td>\n",
              "      <td>113803</td>\n",
              "      <td>53.10</td>\n",
              "      <td>C123</td>\n",
              "      <td>S</td>\n",
              "    </tr>\n",
              "    <tr>\n",
              "      <th>4</th>\n",
              "      <td>5</td>\n",
              "      <td>0</td>\n",
              "      <td>3</td>\n",
              "      <td>Allen, Mr. William Henry</td>\n",
              "      <td>male</td>\n",
              "      <td>35.00</td>\n",
              "      <td>0</td>\n",
              "      <td>0</td>\n",
              "      <td>373450</td>\n",
              "      <td>8.05</td>\n",
              "      <td>NaN</td>\n",
              "      <td>S</td>\n",
              "    </tr>\n",
              "  </tbody>\n",
              "</table>\n",
              "</div>"
            ],
            "text/plain": [
              "   PassengerId  Survived  Pclass  ...  Fare Cabin  Embarked\n",
              "0            1         0       3  ...  7.25   NaN         S\n",
              "1            2         1       1  ... 71.28   C85         C\n",
              "2            3         1       3  ...  7.92   NaN         S\n",
              "3            4         1       1  ... 53.10  C123         S\n",
              "4            5         0       3  ...  8.05   NaN         S\n",
              "\n",
              "[5 rows x 12 columns]"
            ]
          },
          "metadata": {
            "tags": []
          },
          "execution_count": 105
        }
      ]
    },
    {
      "cell_type": "code",
      "metadata": {
        "id": "WN_qlIpYZFNy",
        "colab_type": "code",
        "colab": {}
      },
      "source": [
        "pd.reset_option('display.float_format') # reset back to the default"
      ],
      "execution_count": 106,
      "outputs": []
    },
    {
      "cell_type": "code",
      "metadata": {
        "id": "lRO6Jcy7Z-x8",
        "colab_type": "code",
        "colab": {}
      },
      "source": [
        ""
      ],
      "execution_count": null,
      "outputs": []
    },
    {
      "cell_type": "markdown",
      "metadata": {
        "id": "Y0Ek_btEaGsv",
        "colab_type": "text"
      },
      "source": [
        "### style a data frame"
      ]
    },
    {
      "cell_type": "code",
      "metadata": {
        "id": "mjcvJF3saLBb",
        "colab_type": "code",
        "colab": {
          "base_uri": "https://localhost:8080/",
          "height": 325
        },
        "outputId": "afc251db-b0f1-447b-8c08-f931bf15e68c"
      },
      "source": [
        "stocks"
      ],
      "execution_count": 107,
      "outputs": [
        {
          "output_type": "execute_result",
          "data": {
            "text/html": [
              "<div>\n",
              "<style scoped>\n",
              "    .dataframe tbody tr th:only-of-type {\n",
              "        vertical-align: middle;\n",
              "    }\n",
              "\n",
              "    .dataframe tbody tr th {\n",
              "        vertical-align: top;\n",
              "    }\n",
              "\n",
              "    .dataframe thead th {\n",
              "        text-align: right;\n",
              "    }\n",
              "</style>\n",
              "<table border=\"1\" class=\"dataframe\">\n",
              "  <thead>\n",
              "    <tr style=\"text-align: right;\">\n",
              "      <th></th>\n",
              "      <th>Date</th>\n",
              "      <th>Close</th>\n",
              "      <th>Volume</th>\n",
              "      <th>Symbol</th>\n",
              "    </tr>\n",
              "  </thead>\n",
              "  <tbody>\n",
              "    <tr>\n",
              "      <th>0</th>\n",
              "      <td>2016-10-03</td>\n",
              "      <td>31.50</td>\n",
              "      <td>14070500</td>\n",
              "      <td>CSCO</td>\n",
              "    </tr>\n",
              "    <tr>\n",
              "      <th>1</th>\n",
              "      <td>2016-10-03</td>\n",
              "      <td>112.52</td>\n",
              "      <td>21701800</td>\n",
              "      <td>AAPL</td>\n",
              "    </tr>\n",
              "    <tr>\n",
              "      <th>2</th>\n",
              "      <td>2016-10-03</td>\n",
              "      <td>57.42</td>\n",
              "      <td>19189500</td>\n",
              "      <td>MSFT</td>\n",
              "    </tr>\n",
              "    <tr>\n",
              "      <th>3</th>\n",
              "      <td>2016-10-04</td>\n",
              "      <td>113.00</td>\n",
              "      <td>29736800</td>\n",
              "      <td>AAPL</td>\n",
              "    </tr>\n",
              "    <tr>\n",
              "      <th>4</th>\n",
              "      <td>2016-10-04</td>\n",
              "      <td>57.24</td>\n",
              "      <td>20085900</td>\n",
              "      <td>MSFT</td>\n",
              "    </tr>\n",
              "    <tr>\n",
              "      <th>5</th>\n",
              "      <td>2016-10-04</td>\n",
              "      <td>31.35</td>\n",
              "      <td>18460400</td>\n",
              "      <td>CSCO</td>\n",
              "    </tr>\n",
              "    <tr>\n",
              "      <th>6</th>\n",
              "      <td>2016-10-05</td>\n",
              "      <td>57.64</td>\n",
              "      <td>16726400</td>\n",
              "      <td>MSFT</td>\n",
              "    </tr>\n",
              "    <tr>\n",
              "      <th>7</th>\n",
              "      <td>2016-10-05</td>\n",
              "      <td>31.59</td>\n",
              "      <td>11808600</td>\n",
              "      <td>CSCO</td>\n",
              "    </tr>\n",
              "    <tr>\n",
              "      <th>8</th>\n",
              "      <td>2016-10-05</td>\n",
              "      <td>113.05</td>\n",
              "      <td>21453100</td>\n",
              "      <td>AAPL</td>\n",
              "    </tr>\n",
              "  </tbody>\n",
              "</table>\n",
              "</div>"
            ],
            "text/plain": [
              "        Date   Close    Volume Symbol\n",
              "0 2016-10-03   31.50  14070500   CSCO\n",
              "1 2016-10-03  112.52  21701800   AAPL\n",
              "2 2016-10-03   57.42  19189500   MSFT\n",
              "3 2016-10-04  113.00  29736800   AAPL\n",
              "4 2016-10-04   57.24  20085900   MSFT\n",
              "5 2016-10-04   31.35  18460400   CSCO\n",
              "6 2016-10-05   57.64  16726400   MSFT\n",
              "7 2016-10-05   31.59  11808600   CSCO\n",
              "8 2016-10-05  113.05  21453100   AAPL"
            ]
          },
          "metadata": {
            "tags": []
          },
          "execution_count": 107
        }
      ]
    },
    {
      "cell_type": "code",
      "metadata": {
        "id": "znGcS4ULaMmr",
        "colab_type": "code",
        "colab": {}
      },
      "source": [
        "format_dict={'Date':'{:%m/%d/%y}', 'Close': '${:.2f}', 'Volume':'{:,}'}"
      ],
      "execution_count": 110,
      "outputs": []
    },
    {
      "cell_type": "code",
      "metadata": {
        "id": "7UOgypjaa99L",
        "colab_type": "code",
        "colab": {
          "base_uri": "https://localhost:8080/",
          "height": 226
        },
        "outputId": "8fcde288-0f09-4318-9e81-d223c31b84c5"
      },
      "source": [
        "stocks.style.format(format_dict)"
      ],
      "execution_count": 111,
      "outputs": [
        {
          "output_type": "execute_result",
          "data": {
            "text/html": [
              "<style  type=\"text/css\" >\n",
              "</style><table id=\"T_36bcb71c_f854_11ea_81b7_0242ac1c0002\" ><thead>    <tr>        <th class=\"blank level0\" ></th>        <th class=\"col_heading level0 col0\" >Date</th>        <th class=\"col_heading level0 col1\" >Close</th>        <th class=\"col_heading level0 col2\" >Volume</th>        <th class=\"col_heading level0 col3\" >Symbol</th>    </tr></thead><tbody>\n",
              "                <tr>\n",
              "                        <th id=\"T_36bcb71c_f854_11ea_81b7_0242ac1c0002level0_row0\" class=\"row_heading level0 row0\" >0</th>\n",
              "                        <td id=\"T_36bcb71c_f854_11ea_81b7_0242ac1c0002row0_col0\" class=\"data row0 col0\" >10/03/16</td>\n",
              "                        <td id=\"T_36bcb71c_f854_11ea_81b7_0242ac1c0002row0_col1\" class=\"data row0 col1\" >$31.50</td>\n",
              "                        <td id=\"T_36bcb71c_f854_11ea_81b7_0242ac1c0002row0_col2\" class=\"data row0 col2\" >14,070,500</td>\n",
              "                        <td id=\"T_36bcb71c_f854_11ea_81b7_0242ac1c0002row0_col3\" class=\"data row0 col3\" >CSCO</td>\n",
              "            </tr>\n",
              "            <tr>\n",
              "                        <th id=\"T_36bcb71c_f854_11ea_81b7_0242ac1c0002level0_row1\" class=\"row_heading level0 row1\" >1</th>\n",
              "                        <td id=\"T_36bcb71c_f854_11ea_81b7_0242ac1c0002row1_col0\" class=\"data row1 col0\" >10/03/16</td>\n",
              "                        <td id=\"T_36bcb71c_f854_11ea_81b7_0242ac1c0002row1_col1\" class=\"data row1 col1\" >$112.52</td>\n",
              "                        <td id=\"T_36bcb71c_f854_11ea_81b7_0242ac1c0002row1_col2\" class=\"data row1 col2\" >21,701,800</td>\n",
              "                        <td id=\"T_36bcb71c_f854_11ea_81b7_0242ac1c0002row1_col3\" class=\"data row1 col3\" >AAPL</td>\n",
              "            </tr>\n",
              "            <tr>\n",
              "                        <th id=\"T_36bcb71c_f854_11ea_81b7_0242ac1c0002level0_row2\" class=\"row_heading level0 row2\" >2</th>\n",
              "                        <td id=\"T_36bcb71c_f854_11ea_81b7_0242ac1c0002row2_col0\" class=\"data row2 col0\" >10/03/16</td>\n",
              "                        <td id=\"T_36bcb71c_f854_11ea_81b7_0242ac1c0002row2_col1\" class=\"data row2 col1\" >$57.42</td>\n",
              "                        <td id=\"T_36bcb71c_f854_11ea_81b7_0242ac1c0002row2_col2\" class=\"data row2 col2\" >19,189,500</td>\n",
              "                        <td id=\"T_36bcb71c_f854_11ea_81b7_0242ac1c0002row2_col3\" class=\"data row2 col3\" >MSFT</td>\n",
              "            </tr>\n",
              "            <tr>\n",
              "                        <th id=\"T_36bcb71c_f854_11ea_81b7_0242ac1c0002level0_row3\" class=\"row_heading level0 row3\" >3</th>\n",
              "                        <td id=\"T_36bcb71c_f854_11ea_81b7_0242ac1c0002row3_col0\" class=\"data row3 col0\" >10/04/16</td>\n",
              "                        <td id=\"T_36bcb71c_f854_11ea_81b7_0242ac1c0002row3_col1\" class=\"data row3 col1\" >$113.00</td>\n",
              "                        <td id=\"T_36bcb71c_f854_11ea_81b7_0242ac1c0002row3_col2\" class=\"data row3 col2\" >29,736,800</td>\n",
              "                        <td id=\"T_36bcb71c_f854_11ea_81b7_0242ac1c0002row3_col3\" class=\"data row3 col3\" >AAPL</td>\n",
              "            </tr>\n",
              "            <tr>\n",
              "                        <th id=\"T_36bcb71c_f854_11ea_81b7_0242ac1c0002level0_row4\" class=\"row_heading level0 row4\" >4</th>\n",
              "                        <td id=\"T_36bcb71c_f854_11ea_81b7_0242ac1c0002row4_col0\" class=\"data row4 col0\" >10/04/16</td>\n",
              "                        <td id=\"T_36bcb71c_f854_11ea_81b7_0242ac1c0002row4_col1\" class=\"data row4 col1\" >$57.24</td>\n",
              "                        <td id=\"T_36bcb71c_f854_11ea_81b7_0242ac1c0002row4_col2\" class=\"data row4 col2\" >20,085,900</td>\n",
              "                        <td id=\"T_36bcb71c_f854_11ea_81b7_0242ac1c0002row4_col3\" class=\"data row4 col3\" >MSFT</td>\n",
              "            </tr>\n",
              "            <tr>\n",
              "                        <th id=\"T_36bcb71c_f854_11ea_81b7_0242ac1c0002level0_row5\" class=\"row_heading level0 row5\" >5</th>\n",
              "                        <td id=\"T_36bcb71c_f854_11ea_81b7_0242ac1c0002row5_col0\" class=\"data row5 col0\" >10/04/16</td>\n",
              "                        <td id=\"T_36bcb71c_f854_11ea_81b7_0242ac1c0002row5_col1\" class=\"data row5 col1\" >$31.35</td>\n",
              "                        <td id=\"T_36bcb71c_f854_11ea_81b7_0242ac1c0002row5_col2\" class=\"data row5 col2\" >18,460,400</td>\n",
              "                        <td id=\"T_36bcb71c_f854_11ea_81b7_0242ac1c0002row5_col3\" class=\"data row5 col3\" >CSCO</td>\n",
              "            </tr>\n",
              "            <tr>\n",
              "                        <th id=\"T_36bcb71c_f854_11ea_81b7_0242ac1c0002level0_row6\" class=\"row_heading level0 row6\" >6</th>\n",
              "                        <td id=\"T_36bcb71c_f854_11ea_81b7_0242ac1c0002row6_col0\" class=\"data row6 col0\" >10/05/16</td>\n",
              "                        <td id=\"T_36bcb71c_f854_11ea_81b7_0242ac1c0002row6_col1\" class=\"data row6 col1\" >$57.64</td>\n",
              "                        <td id=\"T_36bcb71c_f854_11ea_81b7_0242ac1c0002row6_col2\" class=\"data row6 col2\" >16,726,400</td>\n",
              "                        <td id=\"T_36bcb71c_f854_11ea_81b7_0242ac1c0002row6_col3\" class=\"data row6 col3\" >MSFT</td>\n",
              "            </tr>\n",
              "            <tr>\n",
              "                        <th id=\"T_36bcb71c_f854_11ea_81b7_0242ac1c0002level0_row7\" class=\"row_heading level0 row7\" >7</th>\n",
              "                        <td id=\"T_36bcb71c_f854_11ea_81b7_0242ac1c0002row7_col0\" class=\"data row7 col0\" >10/05/16</td>\n",
              "                        <td id=\"T_36bcb71c_f854_11ea_81b7_0242ac1c0002row7_col1\" class=\"data row7 col1\" >$31.59</td>\n",
              "                        <td id=\"T_36bcb71c_f854_11ea_81b7_0242ac1c0002row7_col2\" class=\"data row7 col2\" >11,808,600</td>\n",
              "                        <td id=\"T_36bcb71c_f854_11ea_81b7_0242ac1c0002row7_col3\" class=\"data row7 col3\" >CSCO</td>\n",
              "            </tr>\n",
              "            <tr>\n",
              "                        <th id=\"T_36bcb71c_f854_11ea_81b7_0242ac1c0002level0_row8\" class=\"row_heading level0 row8\" >8</th>\n",
              "                        <td id=\"T_36bcb71c_f854_11ea_81b7_0242ac1c0002row8_col0\" class=\"data row8 col0\" >10/05/16</td>\n",
              "                        <td id=\"T_36bcb71c_f854_11ea_81b7_0242ac1c0002row8_col1\" class=\"data row8 col1\" >$113.05</td>\n",
              "                        <td id=\"T_36bcb71c_f854_11ea_81b7_0242ac1c0002row8_col2\" class=\"data row8 col2\" >21,453,100</td>\n",
              "                        <td id=\"T_36bcb71c_f854_11ea_81b7_0242ac1c0002row8_col3\" class=\"data row8 col3\" >AAPL</td>\n",
              "            </tr>\n",
              "    </tbody></table>"
            ],
            "text/plain": [
              "<pandas.io.formats.style.Styler at 0x7f4093875748>"
            ]
          },
          "metadata": {
            "tags": []
          },
          "execution_count": 111
        }
      ]
    },
    {
      "cell_type": "code",
      "metadata": {
        "id": "JqCPDdlDbDja",
        "colab_type": "code",
        "colab": {
          "base_uri": "https://localhost:8080/",
          "height": 226
        },
        "outputId": "be6333b1-b780-464d-8a23-057afd55e214"
      },
      "source": [
        "(stocks.style.format(format_dict).hide_index().highlight_min('Close', color='red').highlight_max('Close', color='lightgreen'))"
      ],
      "execution_count": 112,
      "outputs": [
        {
          "output_type": "execute_result",
          "data": {
            "text/html": [
              "<style  type=\"text/css\" >\n",
              "    #T_8d06f358_f854_11ea_81b7_0242ac1c0002row5_col1 {\n",
              "            background-color:  red;\n",
              "            : ;\n",
              "        }    #T_8d06f358_f854_11ea_81b7_0242ac1c0002row8_col1 {\n",
              "            : ;\n",
              "            background-color:  lightgreen;\n",
              "        }</style><table id=\"T_8d06f358_f854_11ea_81b7_0242ac1c0002\" ><thead>    <tr>        <th class=\"col_heading level0 col0\" >Date</th>        <th class=\"col_heading level0 col1\" >Close</th>        <th class=\"col_heading level0 col2\" >Volume</th>        <th class=\"col_heading level0 col3\" >Symbol</th>    </tr></thead><tbody>\n",
              "                <tr>\n",
              "                                <td id=\"T_8d06f358_f854_11ea_81b7_0242ac1c0002row0_col0\" class=\"data row0 col0\" >10/03/16</td>\n",
              "                        <td id=\"T_8d06f358_f854_11ea_81b7_0242ac1c0002row0_col1\" class=\"data row0 col1\" >$31.50</td>\n",
              "                        <td id=\"T_8d06f358_f854_11ea_81b7_0242ac1c0002row0_col2\" class=\"data row0 col2\" >14,070,500</td>\n",
              "                        <td id=\"T_8d06f358_f854_11ea_81b7_0242ac1c0002row0_col3\" class=\"data row0 col3\" >CSCO</td>\n",
              "            </tr>\n",
              "            <tr>\n",
              "                                <td id=\"T_8d06f358_f854_11ea_81b7_0242ac1c0002row1_col0\" class=\"data row1 col0\" >10/03/16</td>\n",
              "                        <td id=\"T_8d06f358_f854_11ea_81b7_0242ac1c0002row1_col1\" class=\"data row1 col1\" >$112.52</td>\n",
              "                        <td id=\"T_8d06f358_f854_11ea_81b7_0242ac1c0002row1_col2\" class=\"data row1 col2\" >21,701,800</td>\n",
              "                        <td id=\"T_8d06f358_f854_11ea_81b7_0242ac1c0002row1_col3\" class=\"data row1 col3\" >AAPL</td>\n",
              "            </tr>\n",
              "            <tr>\n",
              "                                <td id=\"T_8d06f358_f854_11ea_81b7_0242ac1c0002row2_col0\" class=\"data row2 col0\" >10/03/16</td>\n",
              "                        <td id=\"T_8d06f358_f854_11ea_81b7_0242ac1c0002row2_col1\" class=\"data row2 col1\" >$57.42</td>\n",
              "                        <td id=\"T_8d06f358_f854_11ea_81b7_0242ac1c0002row2_col2\" class=\"data row2 col2\" >19,189,500</td>\n",
              "                        <td id=\"T_8d06f358_f854_11ea_81b7_0242ac1c0002row2_col3\" class=\"data row2 col3\" >MSFT</td>\n",
              "            </tr>\n",
              "            <tr>\n",
              "                                <td id=\"T_8d06f358_f854_11ea_81b7_0242ac1c0002row3_col0\" class=\"data row3 col0\" >10/04/16</td>\n",
              "                        <td id=\"T_8d06f358_f854_11ea_81b7_0242ac1c0002row3_col1\" class=\"data row3 col1\" >$113.00</td>\n",
              "                        <td id=\"T_8d06f358_f854_11ea_81b7_0242ac1c0002row3_col2\" class=\"data row3 col2\" >29,736,800</td>\n",
              "                        <td id=\"T_8d06f358_f854_11ea_81b7_0242ac1c0002row3_col3\" class=\"data row3 col3\" >AAPL</td>\n",
              "            </tr>\n",
              "            <tr>\n",
              "                                <td id=\"T_8d06f358_f854_11ea_81b7_0242ac1c0002row4_col0\" class=\"data row4 col0\" >10/04/16</td>\n",
              "                        <td id=\"T_8d06f358_f854_11ea_81b7_0242ac1c0002row4_col1\" class=\"data row4 col1\" >$57.24</td>\n",
              "                        <td id=\"T_8d06f358_f854_11ea_81b7_0242ac1c0002row4_col2\" class=\"data row4 col2\" >20,085,900</td>\n",
              "                        <td id=\"T_8d06f358_f854_11ea_81b7_0242ac1c0002row4_col3\" class=\"data row4 col3\" >MSFT</td>\n",
              "            </tr>\n",
              "            <tr>\n",
              "                                <td id=\"T_8d06f358_f854_11ea_81b7_0242ac1c0002row5_col0\" class=\"data row5 col0\" >10/04/16</td>\n",
              "                        <td id=\"T_8d06f358_f854_11ea_81b7_0242ac1c0002row5_col1\" class=\"data row5 col1\" >$31.35</td>\n",
              "                        <td id=\"T_8d06f358_f854_11ea_81b7_0242ac1c0002row5_col2\" class=\"data row5 col2\" >18,460,400</td>\n",
              "                        <td id=\"T_8d06f358_f854_11ea_81b7_0242ac1c0002row5_col3\" class=\"data row5 col3\" >CSCO</td>\n",
              "            </tr>\n",
              "            <tr>\n",
              "                                <td id=\"T_8d06f358_f854_11ea_81b7_0242ac1c0002row6_col0\" class=\"data row6 col0\" >10/05/16</td>\n",
              "                        <td id=\"T_8d06f358_f854_11ea_81b7_0242ac1c0002row6_col1\" class=\"data row6 col1\" >$57.64</td>\n",
              "                        <td id=\"T_8d06f358_f854_11ea_81b7_0242ac1c0002row6_col2\" class=\"data row6 col2\" >16,726,400</td>\n",
              "                        <td id=\"T_8d06f358_f854_11ea_81b7_0242ac1c0002row6_col3\" class=\"data row6 col3\" >MSFT</td>\n",
              "            </tr>\n",
              "            <tr>\n",
              "                                <td id=\"T_8d06f358_f854_11ea_81b7_0242ac1c0002row7_col0\" class=\"data row7 col0\" >10/05/16</td>\n",
              "                        <td id=\"T_8d06f358_f854_11ea_81b7_0242ac1c0002row7_col1\" class=\"data row7 col1\" >$31.59</td>\n",
              "                        <td id=\"T_8d06f358_f854_11ea_81b7_0242ac1c0002row7_col2\" class=\"data row7 col2\" >11,808,600</td>\n",
              "                        <td id=\"T_8d06f358_f854_11ea_81b7_0242ac1c0002row7_col3\" class=\"data row7 col3\" >CSCO</td>\n",
              "            </tr>\n",
              "            <tr>\n",
              "                                <td id=\"T_8d06f358_f854_11ea_81b7_0242ac1c0002row8_col0\" class=\"data row8 col0\" >10/05/16</td>\n",
              "                        <td id=\"T_8d06f358_f854_11ea_81b7_0242ac1c0002row8_col1\" class=\"data row8 col1\" >$113.05</td>\n",
              "                        <td id=\"T_8d06f358_f854_11ea_81b7_0242ac1c0002row8_col2\" class=\"data row8 col2\" >21,453,100</td>\n",
              "                        <td id=\"T_8d06f358_f854_11ea_81b7_0242ac1c0002row8_col3\" class=\"data row8 col3\" >AAPL</td>\n",
              "            </tr>\n",
              "    </tbody></table>"
            ],
            "text/plain": [
              "<pandas.io.formats.style.Styler at 0x7f40938a1e80>"
            ]
          },
          "metadata": {
            "tags": []
          },
          "execution_count": 112
        }
      ]
    },
    {
      "cell_type": "code",
      "metadata": {
        "id": "JlFI9llub0ID",
        "colab_type": "code",
        "colab": {
          "base_uri": "https://localhost:8080/",
          "height": 226
        },
        "outputId": "5a378558-d424-4756-aa9e-d5c733303402"
      },
      "source": [
        "(stocks.style.format(format_dict).hide_index().background_gradient(subset='Volume', cmap='Blues'))"
      ],
      "execution_count": 113,
      "outputs": [
        {
          "output_type": "execute_result",
          "data": {
            "text/html": [
              "<style  type=\"text/css\" >\n",
              "    #T_bbb4b1f4_f854_11ea_81b7_0242ac1c0002row0_col2 {\n",
              "            background-color:  #deebf7;\n",
              "            color:  #000000;\n",
              "        }    #T_bbb4b1f4_f854_11ea_81b7_0242ac1c0002row1_col2 {\n",
              "            background-color:  #5aa2cf;\n",
              "            color:  #000000;\n",
              "        }    #T_bbb4b1f4_f854_11ea_81b7_0242ac1c0002row2_col2 {\n",
              "            background-color:  #8fc2de;\n",
              "            color:  #000000;\n",
              "        }    #T_bbb4b1f4_f854_11ea_81b7_0242ac1c0002row3_col2 {\n",
              "            background-color:  #08306b;\n",
              "            color:  #f1f1f1;\n",
              "        }    #T_bbb4b1f4_f854_11ea_81b7_0242ac1c0002row4_col2 {\n",
              "            background-color:  #7ab6d9;\n",
              "            color:  #000000;\n",
              "        }    #T_bbb4b1f4_f854_11ea_81b7_0242ac1c0002row5_col2 {\n",
              "            background-color:  #a0cbe2;\n",
              "            color:  #000000;\n",
              "        }    #T_bbb4b1f4_f854_11ea_81b7_0242ac1c0002row6_col2 {\n",
              "            background-color:  #bed8ec;\n",
              "            color:  #000000;\n",
              "        }    #T_bbb4b1f4_f854_11ea_81b7_0242ac1c0002row7_col2 {\n",
              "            background-color:  #f7fbff;\n",
              "            color:  #000000;\n",
              "        }    #T_bbb4b1f4_f854_11ea_81b7_0242ac1c0002row8_col2 {\n",
              "            background-color:  #5fa6d1;\n",
              "            color:  #000000;\n",
              "        }</style><table id=\"T_bbb4b1f4_f854_11ea_81b7_0242ac1c0002\" ><thead>    <tr>        <th class=\"col_heading level0 col0\" >Date</th>        <th class=\"col_heading level0 col1\" >Close</th>        <th class=\"col_heading level0 col2\" >Volume</th>        <th class=\"col_heading level0 col3\" >Symbol</th>    </tr></thead><tbody>\n",
              "                <tr>\n",
              "                                <td id=\"T_bbb4b1f4_f854_11ea_81b7_0242ac1c0002row0_col0\" class=\"data row0 col0\" >10/03/16</td>\n",
              "                        <td id=\"T_bbb4b1f4_f854_11ea_81b7_0242ac1c0002row0_col1\" class=\"data row0 col1\" >$31.50</td>\n",
              "                        <td id=\"T_bbb4b1f4_f854_11ea_81b7_0242ac1c0002row0_col2\" class=\"data row0 col2\" >14,070,500</td>\n",
              "                        <td id=\"T_bbb4b1f4_f854_11ea_81b7_0242ac1c0002row0_col3\" class=\"data row0 col3\" >CSCO</td>\n",
              "            </tr>\n",
              "            <tr>\n",
              "                                <td id=\"T_bbb4b1f4_f854_11ea_81b7_0242ac1c0002row1_col0\" class=\"data row1 col0\" >10/03/16</td>\n",
              "                        <td id=\"T_bbb4b1f4_f854_11ea_81b7_0242ac1c0002row1_col1\" class=\"data row1 col1\" >$112.52</td>\n",
              "                        <td id=\"T_bbb4b1f4_f854_11ea_81b7_0242ac1c0002row1_col2\" class=\"data row1 col2\" >21,701,800</td>\n",
              "                        <td id=\"T_bbb4b1f4_f854_11ea_81b7_0242ac1c0002row1_col3\" class=\"data row1 col3\" >AAPL</td>\n",
              "            </tr>\n",
              "            <tr>\n",
              "                                <td id=\"T_bbb4b1f4_f854_11ea_81b7_0242ac1c0002row2_col0\" class=\"data row2 col0\" >10/03/16</td>\n",
              "                        <td id=\"T_bbb4b1f4_f854_11ea_81b7_0242ac1c0002row2_col1\" class=\"data row2 col1\" >$57.42</td>\n",
              "                        <td id=\"T_bbb4b1f4_f854_11ea_81b7_0242ac1c0002row2_col2\" class=\"data row2 col2\" >19,189,500</td>\n",
              "                        <td id=\"T_bbb4b1f4_f854_11ea_81b7_0242ac1c0002row2_col3\" class=\"data row2 col3\" >MSFT</td>\n",
              "            </tr>\n",
              "            <tr>\n",
              "                                <td id=\"T_bbb4b1f4_f854_11ea_81b7_0242ac1c0002row3_col0\" class=\"data row3 col0\" >10/04/16</td>\n",
              "                        <td id=\"T_bbb4b1f4_f854_11ea_81b7_0242ac1c0002row3_col1\" class=\"data row3 col1\" >$113.00</td>\n",
              "                        <td id=\"T_bbb4b1f4_f854_11ea_81b7_0242ac1c0002row3_col2\" class=\"data row3 col2\" >29,736,800</td>\n",
              "                        <td id=\"T_bbb4b1f4_f854_11ea_81b7_0242ac1c0002row3_col3\" class=\"data row3 col3\" >AAPL</td>\n",
              "            </tr>\n",
              "            <tr>\n",
              "                                <td id=\"T_bbb4b1f4_f854_11ea_81b7_0242ac1c0002row4_col0\" class=\"data row4 col0\" >10/04/16</td>\n",
              "                        <td id=\"T_bbb4b1f4_f854_11ea_81b7_0242ac1c0002row4_col1\" class=\"data row4 col1\" >$57.24</td>\n",
              "                        <td id=\"T_bbb4b1f4_f854_11ea_81b7_0242ac1c0002row4_col2\" class=\"data row4 col2\" >20,085,900</td>\n",
              "                        <td id=\"T_bbb4b1f4_f854_11ea_81b7_0242ac1c0002row4_col3\" class=\"data row4 col3\" >MSFT</td>\n",
              "            </tr>\n",
              "            <tr>\n",
              "                                <td id=\"T_bbb4b1f4_f854_11ea_81b7_0242ac1c0002row5_col0\" class=\"data row5 col0\" >10/04/16</td>\n",
              "                        <td id=\"T_bbb4b1f4_f854_11ea_81b7_0242ac1c0002row5_col1\" class=\"data row5 col1\" >$31.35</td>\n",
              "                        <td id=\"T_bbb4b1f4_f854_11ea_81b7_0242ac1c0002row5_col2\" class=\"data row5 col2\" >18,460,400</td>\n",
              "                        <td id=\"T_bbb4b1f4_f854_11ea_81b7_0242ac1c0002row5_col3\" class=\"data row5 col3\" >CSCO</td>\n",
              "            </tr>\n",
              "            <tr>\n",
              "                                <td id=\"T_bbb4b1f4_f854_11ea_81b7_0242ac1c0002row6_col0\" class=\"data row6 col0\" >10/05/16</td>\n",
              "                        <td id=\"T_bbb4b1f4_f854_11ea_81b7_0242ac1c0002row6_col1\" class=\"data row6 col1\" >$57.64</td>\n",
              "                        <td id=\"T_bbb4b1f4_f854_11ea_81b7_0242ac1c0002row6_col2\" class=\"data row6 col2\" >16,726,400</td>\n",
              "                        <td id=\"T_bbb4b1f4_f854_11ea_81b7_0242ac1c0002row6_col3\" class=\"data row6 col3\" >MSFT</td>\n",
              "            </tr>\n",
              "            <tr>\n",
              "                                <td id=\"T_bbb4b1f4_f854_11ea_81b7_0242ac1c0002row7_col0\" class=\"data row7 col0\" >10/05/16</td>\n",
              "                        <td id=\"T_bbb4b1f4_f854_11ea_81b7_0242ac1c0002row7_col1\" class=\"data row7 col1\" >$31.59</td>\n",
              "                        <td id=\"T_bbb4b1f4_f854_11ea_81b7_0242ac1c0002row7_col2\" class=\"data row7 col2\" >11,808,600</td>\n",
              "                        <td id=\"T_bbb4b1f4_f854_11ea_81b7_0242ac1c0002row7_col3\" class=\"data row7 col3\" >CSCO</td>\n",
              "            </tr>\n",
              "            <tr>\n",
              "                                <td id=\"T_bbb4b1f4_f854_11ea_81b7_0242ac1c0002row8_col0\" class=\"data row8 col0\" >10/05/16</td>\n",
              "                        <td id=\"T_bbb4b1f4_f854_11ea_81b7_0242ac1c0002row8_col1\" class=\"data row8 col1\" >$113.05</td>\n",
              "                        <td id=\"T_bbb4b1f4_f854_11ea_81b7_0242ac1c0002row8_col2\" class=\"data row8 col2\" >21,453,100</td>\n",
              "                        <td id=\"T_bbb4b1f4_f854_11ea_81b7_0242ac1c0002row8_col3\" class=\"data row8 col3\" >AAPL</td>\n",
              "            </tr>\n",
              "    </tbody></table>"
            ],
            "text/plain": [
              "<pandas.io.formats.style.Styler at 0x7f4093e0cb38>"
            ]
          },
          "metadata": {
            "tags": []
          },
          "execution_count": 113
        }
      ]
    },
    {
      "cell_type": "code",
      "metadata": {
        "id": "j_7TP-VUcHPj",
        "colab_type": "code",
        "colab": {
          "base_uri": "https://localhost:8080/",
          "height": 243
        },
        "outputId": "17af668f-7728-4e5a-be65-3b2108c7f162"
      },
      "source": [
        "(stocks.style.format(format_dict).hide_index().bar('Volume', color='lightblue', align='zero').set_caption('Stock Prices from October 2016'))"
      ],
      "execution_count": 114,
      "outputs": [
        {
          "output_type": "execute_result",
          "data": {
            "text/html": [
              "<style  type=\"text/css\" >\n",
              "    #T_f83af16a_f854_11ea_81b7_0242ac1c0002row0_col2 {\n",
              "            width:  10em;\n",
              "             height:  80%;\n",
              "            background:  linear-gradient(90deg, transparent 50.0%, lightblue 50.0%, lightblue 73.7%, transparent 73.7%);\n",
              "        }    #T_f83af16a_f854_11ea_81b7_0242ac1c0002row1_col2 {\n",
              "            width:  10em;\n",
              "             height:  80%;\n",
              "            background:  linear-gradient(90deg, transparent 50.0%, lightblue 50.0%, lightblue 86.5%, transparent 86.5%);\n",
              "        }    #T_f83af16a_f854_11ea_81b7_0242ac1c0002row2_col2 {\n",
              "            width:  10em;\n",
              "             height:  80%;\n",
              "            background:  linear-gradient(90deg, transparent 50.0%, lightblue 50.0%, lightblue 82.3%, transparent 82.3%);\n",
              "        }    #T_f83af16a_f854_11ea_81b7_0242ac1c0002row3_col2 {\n",
              "            width:  10em;\n",
              "             height:  80%;\n",
              "            background:  linear-gradient(90deg, transparent 50.0%, lightblue 50.0%, lightblue 100.0%, transparent 100.0%);\n",
              "        }    #T_f83af16a_f854_11ea_81b7_0242ac1c0002row4_col2 {\n",
              "            width:  10em;\n",
              "             height:  80%;\n",
              "            background:  linear-gradient(90deg, transparent 50.0%, lightblue 50.0%, lightblue 83.8%, transparent 83.8%);\n",
              "        }    #T_f83af16a_f854_11ea_81b7_0242ac1c0002row5_col2 {\n",
              "            width:  10em;\n",
              "             height:  80%;\n",
              "            background:  linear-gradient(90deg, transparent 50.0%, lightblue 50.0%, lightblue 81.0%, transparent 81.0%);\n",
              "        }    #T_f83af16a_f854_11ea_81b7_0242ac1c0002row6_col2 {\n",
              "            width:  10em;\n",
              "             height:  80%;\n",
              "            background:  linear-gradient(90deg, transparent 50.0%, lightblue 50.0%, lightblue 78.1%, transparent 78.1%);\n",
              "        }    #T_f83af16a_f854_11ea_81b7_0242ac1c0002row7_col2 {\n",
              "            width:  10em;\n",
              "             height:  80%;\n",
              "            background:  linear-gradient(90deg, transparent 50.0%, lightblue 50.0%, lightblue 69.9%, transparent 69.9%);\n",
              "        }    #T_f83af16a_f854_11ea_81b7_0242ac1c0002row8_col2 {\n",
              "            width:  10em;\n",
              "             height:  80%;\n",
              "            background:  linear-gradient(90deg, transparent 50.0%, lightblue 50.0%, lightblue 86.1%, transparent 86.1%);\n",
              "        }</style><table id=\"T_f83af16a_f854_11ea_81b7_0242ac1c0002\" ><caption>Stock Prices from October 2016</caption><thead>    <tr>        <th class=\"col_heading level0 col0\" >Date</th>        <th class=\"col_heading level0 col1\" >Close</th>        <th class=\"col_heading level0 col2\" >Volume</th>        <th class=\"col_heading level0 col3\" >Symbol</th>    </tr></thead><tbody>\n",
              "                <tr>\n",
              "                                <td id=\"T_f83af16a_f854_11ea_81b7_0242ac1c0002row0_col0\" class=\"data row0 col0\" >10/03/16</td>\n",
              "                        <td id=\"T_f83af16a_f854_11ea_81b7_0242ac1c0002row0_col1\" class=\"data row0 col1\" >$31.50</td>\n",
              "                        <td id=\"T_f83af16a_f854_11ea_81b7_0242ac1c0002row0_col2\" class=\"data row0 col2\" >14,070,500</td>\n",
              "                        <td id=\"T_f83af16a_f854_11ea_81b7_0242ac1c0002row0_col3\" class=\"data row0 col3\" >CSCO</td>\n",
              "            </tr>\n",
              "            <tr>\n",
              "                                <td id=\"T_f83af16a_f854_11ea_81b7_0242ac1c0002row1_col0\" class=\"data row1 col0\" >10/03/16</td>\n",
              "                        <td id=\"T_f83af16a_f854_11ea_81b7_0242ac1c0002row1_col1\" class=\"data row1 col1\" >$112.52</td>\n",
              "                        <td id=\"T_f83af16a_f854_11ea_81b7_0242ac1c0002row1_col2\" class=\"data row1 col2\" >21,701,800</td>\n",
              "                        <td id=\"T_f83af16a_f854_11ea_81b7_0242ac1c0002row1_col3\" class=\"data row1 col3\" >AAPL</td>\n",
              "            </tr>\n",
              "            <tr>\n",
              "                                <td id=\"T_f83af16a_f854_11ea_81b7_0242ac1c0002row2_col0\" class=\"data row2 col0\" >10/03/16</td>\n",
              "                        <td id=\"T_f83af16a_f854_11ea_81b7_0242ac1c0002row2_col1\" class=\"data row2 col1\" >$57.42</td>\n",
              "                        <td id=\"T_f83af16a_f854_11ea_81b7_0242ac1c0002row2_col2\" class=\"data row2 col2\" >19,189,500</td>\n",
              "                        <td id=\"T_f83af16a_f854_11ea_81b7_0242ac1c0002row2_col3\" class=\"data row2 col3\" >MSFT</td>\n",
              "            </tr>\n",
              "            <tr>\n",
              "                                <td id=\"T_f83af16a_f854_11ea_81b7_0242ac1c0002row3_col0\" class=\"data row3 col0\" >10/04/16</td>\n",
              "                        <td id=\"T_f83af16a_f854_11ea_81b7_0242ac1c0002row3_col1\" class=\"data row3 col1\" >$113.00</td>\n",
              "                        <td id=\"T_f83af16a_f854_11ea_81b7_0242ac1c0002row3_col2\" class=\"data row3 col2\" >29,736,800</td>\n",
              "                        <td id=\"T_f83af16a_f854_11ea_81b7_0242ac1c0002row3_col3\" class=\"data row3 col3\" >AAPL</td>\n",
              "            </tr>\n",
              "            <tr>\n",
              "                                <td id=\"T_f83af16a_f854_11ea_81b7_0242ac1c0002row4_col0\" class=\"data row4 col0\" >10/04/16</td>\n",
              "                        <td id=\"T_f83af16a_f854_11ea_81b7_0242ac1c0002row4_col1\" class=\"data row4 col1\" >$57.24</td>\n",
              "                        <td id=\"T_f83af16a_f854_11ea_81b7_0242ac1c0002row4_col2\" class=\"data row4 col2\" >20,085,900</td>\n",
              "                        <td id=\"T_f83af16a_f854_11ea_81b7_0242ac1c0002row4_col3\" class=\"data row4 col3\" >MSFT</td>\n",
              "            </tr>\n",
              "            <tr>\n",
              "                                <td id=\"T_f83af16a_f854_11ea_81b7_0242ac1c0002row5_col0\" class=\"data row5 col0\" >10/04/16</td>\n",
              "                        <td id=\"T_f83af16a_f854_11ea_81b7_0242ac1c0002row5_col1\" class=\"data row5 col1\" >$31.35</td>\n",
              "                        <td id=\"T_f83af16a_f854_11ea_81b7_0242ac1c0002row5_col2\" class=\"data row5 col2\" >18,460,400</td>\n",
              "                        <td id=\"T_f83af16a_f854_11ea_81b7_0242ac1c0002row5_col3\" class=\"data row5 col3\" >CSCO</td>\n",
              "            </tr>\n",
              "            <tr>\n",
              "                                <td id=\"T_f83af16a_f854_11ea_81b7_0242ac1c0002row6_col0\" class=\"data row6 col0\" >10/05/16</td>\n",
              "                        <td id=\"T_f83af16a_f854_11ea_81b7_0242ac1c0002row6_col1\" class=\"data row6 col1\" >$57.64</td>\n",
              "                        <td id=\"T_f83af16a_f854_11ea_81b7_0242ac1c0002row6_col2\" class=\"data row6 col2\" >16,726,400</td>\n",
              "                        <td id=\"T_f83af16a_f854_11ea_81b7_0242ac1c0002row6_col3\" class=\"data row6 col3\" >MSFT</td>\n",
              "            </tr>\n",
              "            <tr>\n",
              "                                <td id=\"T_f83af16a_f854_11ea_81b7_0242ac1c0002row7_col0\" class=\"data row7 col0\" >10/05/16</td>\n",
              "                        <td id=\"T_f83af16a_f854_11ea_81b7_0242ac1c0002row7_col1\" class=\"data row7 col1\" >$31.59</td>\n",
              "                        <td id=\"T_f83af16a_f854_11ea_81b7_0242ac1c0002row7_col2\" class=\"data row7 col2\" >11,808,600</td>\n",
              "                        <td id=\"T_f83af16a_f854_11ea_81b7_0242ac1c0002row7_col3\" class=\"data row7 col3\" >CSCO</td>\n",
              "            </tr>\n",
              "            <tr>\n",
              "                                <td id=\"T_f83af16a_f854_11ea_81b7_0242ac1c0002row8_col0\" class=\"data row8 col0\" >10/05/16</td>\n",
              "                        <td id=\"T_f83af16a_f854_11ea_81b7_0242ac1c0002row8_col1\" class=\"data row8 col1\" >$113.05</td>\n",
              "                        <td id=\"T_f83af16a_f854_11ea_81b7_0242ac1c0002row8_col2\" class=\"data row8 col2\" >21,453,100</td>\n",
              "                        <td id=\"T_f83af16a_f854_11ea_81b7_0242ac1c0002row8_col3\" class=\"data row8 col3\" >AAPL</td>\n",
              "            </tr>\n",
              "    </tbody></table>"
            ],
            "text/plain": [
              "<pandas.io.formats.style.Styler at 0x7f40938725c0>"
            ]
          },
          "metadata": {
            "tags": []
          },
          "execution_count": 114
        }
      ]
    },
    {
      "cell_type": "code",
      "metadata": {
        "id": "XxlnZ7zgcf-z",
        "colab_type": "code",
        "colab": {}
      },
      "source": [
        ""
      ],
      "execution_count": null,
      "outputs": []
    }
  ]
}