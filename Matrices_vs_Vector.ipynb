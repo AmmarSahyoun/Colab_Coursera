{
  "nbformat": 4,
  "nbformat_minor": 0,
  "metadata": {
    "colab": {
      "name": " Matrices vs Vector.ipynb",
      "provenance": [],
      "collapsed_sections": [],
      "authorship_tag": "ABX9TyMhT36s3w68/nc/9SPoXDV9",
      "include_colab_link": true
    },
    "kernelspec": {
      "name": "python3",
      "display_name": "Python 3"
    }
  },
  "cells": [
    {
      "cell_type": "markdown",
      "metadata": {
        "id": "view-in-github",
        "colab_type": "text"
      },
      "source": [
        "<a href=\"https://colab.research.google.com/github/AmmarSahyoun/Colab_Coursera/blob/master/Matrices_vs_Vector.ipynb\" target=\"_parent\"><img src=\"https://colab.research.google.com/assets/colab-badge.svg\" alt=\"Open In Colab\"/></a>"
      ]
    },
    {
      "cell_type": "markdown",
      "metadata": {
        "id": "aM_8T6S08Wa8",
        "colab_type": "text"
      },
      "source": [
        "## Matrix is a two dimensional np.array, it is a list of list, Vector is one dimentional np.array, matrix is 2D vectors"
      ]
    },
    {
      "cell_type": "code",
      "metadata": {
        "id": "qNcZouq9800W",
        "colab_type": "code",
        "colab": {}
      },
      "source": [
        "import numpy as np\n",
        "m = np.array([[1,2], [3,4]])"
      ],
      "execution_count": 4,
      "outputs": []
    },
    {
      "cell_type": "code",
      "metadata": {
        "id": "hvafijWn9P5N",
        "colab_type": "code",
        "colab": {}
      },
      "source": [
        "l = [ [1,2], [3,4] ]"
      ],
      "execution_count": 5,
      "outputs": []
    },
    {
      "cell_type": "code",
      "metadata": {
        "id": "OafBboyoAR5Y",
        "colab_type": "code",
        "colab": {
          "base_uri": "https://localhost:8080/",
          "height": 35
        },
        "outputId": "3c866d48-6615-4713-eefd-91d736afefef"
      },
      "source": [
        "l[0][1]"
      ],
      "execution_count": 6,
      "outputs": [
        {
          "output_type": "execute_result",
          "data": {
            "text/plain": [
              "2"
            ]
          },
          "metadata": {
            "tags": []
          },
          "execution_count": 6
        }
      ]
    },
    {
      "cell_type": "code",
      "metadata": {
        "id": "tsAOPBd0Aarp",
        "colab_type": "code",
        "colab": {
          "base_uri": "https://localhost:8080/",
          "height": 52
        },
        "outputId": "159ff723-86b1-4e60-e2af-cc5e979ee40a"
      },
      "source": [
        "m2 = np.matrix([ [1,2], [3,4] ])\n",
        "m2"
      ],
      "execution_count": 7,
      "outputs": [
        {
          "output_type": "execute_result",
          "data": {
            "text/plain": [
              "matrix([[1, 2],\n",
              "        [3, 4]])"
            ]
          },
          "metadata": {
            "tags": []
          },
          "execution_count": 7
        }
      ]
    },
    {
      "cell_type": "code",
      "metadata": {
        "id": "Tz1TN7hFBHoZ",
        "colab_type": "code",
        "colab": {
          "base_uri": "https://localhost:8080/",
          "height": 52
        },
        "outputId": "ca9369a5-0841-4310-cbe3-ed789f4f78d7"
      },
      "source": [
        "A = np.array(m2)   # transform matrix to np.array\n",
        "A.T  # transpose of A "
      ],
      "execution_count": 9,
      "outputs": [
        {
          "output_type": "execute_result",
          "data": {
            "text/plain": [
              "array([[1, 3],\n",
              "       [2, 4]])"
            ]
          },
          "metadata": {
            "tags": []
          },
          "execution_count": 9
        }
      ]
    },
    {
      "cell_type": "markdown",
      "metadata": {
        "id": "DPimbXHPql9R",
        "colab_type": "text"
      },
      "source": [
        "### Create array, matrix"
      ]
    },
    {
      "cell_type": "code",
      "metadata": {
        "id": "gu8tvxjrpFIS",
        "colab_type": "code",
        "colab": {
          "base_uri": "https://localhost:8080/",
          "height": 35
        },
        "outputId": "c6365efa-6cc7-4f1d-b5f6-2eec11247d67"
      },
      "source": [
        "z = np.zeros(10); z"
      ],
      "execution_count": 11,
      "outputs": [
        {
          "output_type": "execute_result",
          "data": {
            "text/plain": [
              "array([0., 0., 0., 0., 0., 0., 0., 0., 0., 0.])"
            ]
          },
          "metadata": {
            "tags": []
          },
          "execution_count": 11
        }
      ]
    },
    {
      "cell_type": "code",
      "metadata": {
        "id": "lZSyIp22q6vR",
        "colab_type": "code",
        "colab": {
          "base_uri": "https://localhost:8080/",
          "height": 191
        },
        "outputId": "231b38e6-3265-4d02-fcb2-86ba96e9184c"
      },
      "source": [
        "z = np.zeros((10, 10)); z\n",
        "# is a tuple containing each dimension"
      ],
      "execution_count": 14,
      "outputs": [
        {
          "output_type": "execute_result",
          "data": {
            "text/plain": [
              "array([[0., 0., 0., 0., 0., 0., 0., 0., 0., 0.],\n",
              "       [0., 0., 0., 0., 0., 0., 0., 0., 0., 0.],\n",
              "       [0., 0., 0., 0., 0., 0., 0., 0., 0., 0.],\n",
              "       [0., 0., 0., 0., 0., 0., 0., 0., 0., 0.],\n",
              "       [0., 0., 0., 0., 0., 0., 0., 0., 0., 0.],\n",
              "       [0., 0., 0., 0., 0., 0., 0., 0., 0., 0.],\n",
              "       [0., 0., 0., 0., 0., 0., 0., 0., 0., 0.],\n",
              "       [0., 0., 0., 0., 0., 0., 0., 0., 0., 0.],\n",
              "       [0., 0., 0., 0., 0., 0., 0., 0., 0., 0.],\n",
              "       [0., 0., 0., 0., 0., 0., 0., 0., 0., 0.]])"
            ]
          },
          "metadata": {
            "tags": []
          },
          "execution_count": 14
        }
      ]
    },
    {
      "cell_type": "code",
      "metadata": {
        "id": "SmuvR5bzrIa9",
        "colab_type": "code",
        "colab": {
          "base_uri": "https://localhost:8080/",
          "height": 364
        },
        "outputId": "7eb9c45d-6742-4a4d-b3bc-fe1dae8b0951"
      },
      "source": [
        "r = np.random.random((10,10)) ; r\n",
        "# values between 0-1 cause they came from the probability to create distributed random number"
      ],
      "execution_count": 16,
      "outputs": [
        {
          "output_type": "execute_result",
          "data": {
            "text/plain": [
              "array([[0.29760963, 0.74700898, 0.48414096, 0.49026884, 0.25986745,\n",
              "        0.71587389, 0.77636427, 0.36607471, 0.07562109, 0.24834825],\n",
              "       [0.74223047, 0.32959229, 0.68658279, 0.29031028, 0.38337523,\n",
              "        0.59409938, 0.29984267, 0.97349738, 0.65309925, 0.08550524],\n",
              "       [0.12100438, 0.6636942 , 0.70595921, 0.81556007, 0.77711322,\n",
              "        0.09025561, 0.04015986, 0.52928953, 0.19263458, 0.52986441],\n",
              "       [0.05536445, 0.51035762, 0.73442481, 0.70416864, 0.41777539,\n",
              "        0.14874676, 0.04187971, 0.52728658, 0.08995744, 0.23874185],\n",
              "       [0.46764621, 0.08311032, 0.42538305, 0.35398947, 0.1493206 ,\n",
              "        0.97856682, 0.38374316, 0.17994521, 0.47904788, 0.84515639],\n",
              "       [0.87999382, 0.2453029 , 0.24739338, 0.89736798, 0.58686477,\n",
              "        0.20560546, 0.95686402, 0.6221208 , 0.44966322, 0.2754114 ],\n",
              "       [0.24350411, 0.61787491, 0.13349951, 0.0417408 , 0.66243406,\n",
              "        0.50390235, 0.00466661, 0.02687231, 0.94652276, 0.58330235],\n",
              "       [0.89074675, 0.82996766, 0.35308694, 0.11953156, 0.04841003,\n",
              "        0.32588691, 0.13832685, 0.09993686, 0.54276335, 0.74905512],\n",
              "       [0.67724176, 0.79524811, 0.87916259, 0.36308091, 0.65784719,\n",
              "        0.35857834, 0.26642172, 0.59349656, 0.59025057, 0.62995207],\n",
              "       [0.51307402, 0.84782849, 0.0680564 , 0.92650612, 0.79700621,\n",
              "        0.62456437, 0.42138623, 0.56227313, 0.55447908, 0.61275129]])"
            ]
          },
          "metadata": {
            "tags": []
          },
          "execution_count": 16
        }
      ]
    },
    {
      "cell_type": "code",
      "metadata": {
        "id": "3PKaxCGJ7eYY",
        "colab_type": "code",
        "colab": {
          "base_uri": "https://localhost:8080/",
          "height": 364
        },
        "outputId": "b0af78ed-273b-4d0a-db4e-072ff3ccd0cf"
      },
      "source": [
        "# Create Gaussian distributed number with mean 0 and variance 1\n",
        "g = np.random.randn(10, 10) ; g"
      ],
      "execution_count": 18,
      "outputs": [
        {
          "output_type": "execute_result",
          "data": {
            "text/plain": [
              "array([[ 0.92017642, -0.41472505, -0.49974854,  0.13448255, -0.12017084,\n",
              "         0.0828378 , -0.32456597,  2.18921137,  0.72495358, -1.32774051],\n",
              "       [ 0.43028889,  1.49355277, -2.07799276,  0.77524702,  0.8657803 ,\n",
              "        -1.21524   , -0.42654632,  1.56343698, -0.15502827,  0.54458409],\n",
              "       [ 0.08178009, -0.12319659, -1.8123911 , -0.44105611,  0.72729541,\n",
              "        -0.19616182, -0.15496084,  1.46042744,  0.75367586,  0.02291828],\n",
              "       [-2.0959068 ,  1.29541258, -1.44892286,  1.62086248, -1.46705926,\n",
              "        -0.45510203, -0.73750158, -0.80795694,  0.86912614, -1.66281165],\n",
              "       [-0.92695552,  1.89570101, -0.68367537, -0.21136911, -0.5578835 ,\n",
              "         0.41852439,  1.72399374,  0.64156141, -0.63623785, -0.02012449],\n",
              "       [ 1.52643999, -1.16850641, -0.88808545, -0.57589252, -0.24721094,\n",
              "         0.29094204,  1.10024455, -0.06005805, -0.10832369,  1.53849525],\n",
              "       [ 0.4661611 ,  0.86828327, -0.60194248, -0.32089708, -0.91158167,\n",
              "        -0.1129167 , -1.46916337, -1.44815699,  0.59749165, -1.05130089],\n",
              "       [ 0.92749427, -0.09459416, -0.47713283, -2.18377752, -1.26166256,\n",
              "         0.33520197, -1.2687739 ,  0.46536227, -0.37269412,  0.6531673 ],\n",
              "       [-1.34948203,  0.83838216, -0.28658574,  0.40243139, -1.10707652,\n",
              "        -0.44363579,  0.61243159, -0.07788152,  0.69981374,  0.29928781],\n",
              "       [ 0.00689355, -0.88522943,  1.35011735,  0.71613022, -1.19444406,\n",
              "        -0.65110158, -1.90570818, -0.43716008,  0.34277843, -0.75872634]])"
            ]
          },
          "metadata": {
            "tags": []
          },
          "execution_count": 18
        }
      ]
    },
    {
      "cell_type": "code",
      "metadata": {
        "id": "qZtHHgGK71Wv",
        "colab_type": "code",
        "colab": {
          "base_uri": "https://localhost:8080/",
          "height": 52
        },
        "outputId": "2f5c61c4-f4e4-4246-981b-e503b6e92878"
      },
      "source": [
        "print(\"the mean is: \",g.mean()) ; g.var() # variance"
      ],
      "execution_count": 21,
      "outputs": [
        {
          "output_type": "stream",
          "text": [
            "the mean is:  -0.09447353765115653\n"
          ],
          "name": "stdout"
        },
        {
          "output_type": "execute_result",
          "data": {
            "text/plain": [
              "0.9516938512056309"
            ]
          },
          "metadata": {
            "tags": []
          },
          "execution_count": 21
        }
      ]
    },
    {
      "cell_type": "markdown",
      "metadata": {
        "id": "jB69Ycqf8pnQ",
        "colab_type": "text"
      },
      "source": [
        "## the asterisk* means element * element, but the dot means matrix * matrix"
      ]
    },
    {
      "cell_type": "code",
      "metadata": {
        "id": "V39eVaYl8SB_",
        "colab_type": "code",
        "colab": {
          "base_uri": "https://localhost:8080/",
          "height": 52
        },
        "outputId": "eba16047-acaa-4bb1-cf9d-8ab2a10f9a9e"
      },
      "source": [
        "m = np.array([[1,2],[3,4]]) ; m"
      ],
      "execution_count": 22,
      "outputs": [
        {
          "output_type": "execute_result",
          "data": {
            "text/plain": [
              "array([[1, 2],\n",
              "       [3, 4]])"
            ]
          },
          "metadata": {
            "tags": []
          },
          "execution_count": 22
        }
      ]
    },
    {
      "cell_type": "code",
      "metadata": {
        "id": "_Zcspx_IBupy",
        "colab_type": "code",
        "colab": {
          "base_uri": "https://localhost:8080/",
          "height": 52
        },
        "outputId": "21e26098-2588-448b-ec90-5d1dede7a1eb"
      },
      "source": [
        "minv = np.linalg.inv(m) ; minv"
      ],
      "execution_count": 23,
      "outputs": [
        {
          "output_type": "execute_result",
          "data": {
            "text/plain": [
              "array([[-2. ,  1. ],\n",
              "       [ 1.5, -0.5]])"
            ]
          },
          "metadata": {
            "tags": []
          },
          "execution_count": 23
        }
      ]
    },
    {
      "cell_type": "code",
      "metadata": {
        "id": "88ucCPoHB8Ov",
        "colab_type": "code",
        "colab": {
          "base_uri": "https://localhost:8080/",
          "height": 52
        },
        "outputId": "898cbfa1-8557-4ccc-f43b-e09aed91ff3d"
      },
      "source": [
        "minv.dot(m)"
      ],
      "execution_count": 24,
      "outputs": [
        {
          "output_type": "execute_result",
          "data": {
            "text/plain": [
              "array([[1.00000000e+00, 0.00000000e+00],\n",
              "       [1.11022302e-16, 1.00000000e+00]])"
            ]
          },
          "metadata": {
            "tags": []
          },
          "execution_count": 24
        }
      ]
    },
    {
      "cell_type": "code",
      "metadata": {
        "id": "fbfGOfywCSPW",
        "colab_type": "code",
        "colab": {
          "base_uri": "https://localhost:8080/",
          "height": 52
        },
        "outputId": "20fff138-f0cb-4608-b24d-719175caa217"
      },
      "source": [
        "# the outer is the multiply product\n",
        "a = np.array([1,2]) ; b= np.array([3,4]) ; np.outer(a,b)"
      ],
      "execution_count": 28,
      "outputs": [
        {
          "output_type": "execute_result",
          "data": {
            "text/plain": [
              "array([[3, 4],\n",
              "       [6, 8]])"
            ]
          },
          "metadata": {
            "tags": []
          },
          "execution_count": 28
        }
      ]
    },
    {
      "cell_type": "code",
      "metadata": {
        "id": "F0p4zuznEHYf",
        "colab_type": "code",
        "colab": {
          "base_uri": "https://localhost:8080/",
          "height": 52
        },
        "outputId": "beeb89e1-064f-43ae-822b-02adbe403f3f"
      },
      "source": [
        "# the inner is the dot product\n",
        "print(np.inner(a, b))\n",
        "a.dot(b)"
      ],
      "execution_count": 29,
      "outputs": [
        {
          "output_type": "stream",
          "text": [
            "11\n"
          ],
          "name": "stdout"
        },
        {
          "output_type": "execute_result",
          "data": {
            "text/plain": [
              "11"
            ]
          },
          "metadata": {
            "tags": []
          },
          "execution_count": 29
        }
      ]
    },
    {
      "cell_type": "code",
      "metadata": {
        "id": "-LPKMDoXFtag",
        "colab_type": "code",
        "colab": {
          "base_uri": "https://localhost:8080/",
          "height": 69
        },
        "outputId": "54a939d7-6749-4be0-ad8e-242964617250"
      },
      "source": [
        "#matric trace is the sum of diagonal vectorr\n",
        "d = np.diag(a) ; print(d) ; d.sum()"
      ],
      "execution_count": 33,
      "outputs": [
        {
          "output_type": "stream",
          "text": [
            "[[1 0]\n",
            " [0 2]]\n",
            "3\n"
          ],
          "name": "stdout"
        }
      ]
    },
    {
      "cell_type": "code",
      "metadata": {
        "id": "XlhlfCY3F9iu",
        "colab_type": "code",
        "colab": {
          "base_uri": "https://localhost:8080/",
          "height": 35
        },
        "outputId": "f776d65e-14c2-4643-98f0-7ff2355d35ac"
      },
      "source": [
        "print(np.trace(d))"
      ],
      "execution_count": 34,
      "outputs": [
        {
          "output_type": "stream",
          "text": [
            "3\n"
          ],
          "name": "stdout"
        }
      ]
    },
    {
      "cell_type": "code",
      "metadata": {
        "id": "mXo6hl4SGuPe",
        "colab_type": "code",
        "colab": {}
      },
      "source": [
        ""
      ],
      "execution_count": null,
      "outputs": []
    }
  ]
}